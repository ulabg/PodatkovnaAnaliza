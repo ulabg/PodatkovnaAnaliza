{
 "cells": [
  {
   "cell_type": "markdown",
   "metadata": {},
   "source": [
    "# Vaje 1: OGREVANJE\n",
    "\n",
    "1.NALOGA - Papapjščina\n"
   ]
  },
  {
   "cell_type": "code",
   "execution_count": 4,
   "metadata": {},
   "outputs": [
    {
     "name": "stdout",
     "output_type": "stream",
     "text": [
      "\n",
      "apa\n",
      "Apa\n",
      "t\n",
      "bepesepedapa\n",
      "pipikapapopoloponipicapa\n",
      "popopopotopovapanjepe\n",
      "stepepepenapa smepetapanapa\n",
      "Topolepe jepe papa kapar cepelapa popoveped\n"
     ]
    }
   ],
   "source": [
    "def papajscina(beseda):\n",
    "    samoglasniki = 'aeiouAEIOU'\n",
    "    niz = ''\n",
    "    for crka in beseda:\n",
    "        if crka in samoglasniki:\n",
    "            if crka.isupper():\n",
    "                niz += crka + 'p' + crka.lower()\n",
    "            else:\n",
    "                niz += crka + 'p' + crka\n",
    "        else:\n",
    "            niz += crka\n",
    "    return niz\n",
    "\n",
    "print(papajscina(''))\n",
    "print(papajscina('a'))\n",
    "print(papajscina('A'))\n",
    "print(papajscina('t'))\n",
    "print(papajscina('beseda'))\n",
    "print(papajscina('pikapolonica'))\n",
    "print(papajscina('popotovanje'))\n",
    "print(papajscina('stepena smetana'))\n",
    "print(papajscina('Tole je pa kar cela poved'))"
   ]
  },
  {
   "cell_type": "markdown",
   "metadata": {},
   "source": [
    "2.NALOGA - Vmesne vsote"
   ]
  },
  {
   "cell_type": "code",
   "execution_count": 5,
   "metadata": {},
   "outputs": [
    {
     "name": "stdout",
     "output_type": "stream",
     "text": [
      "[1, 2, 3, 4, 5]\n",
      "[1, 3, 6, 10, 15]\n",
      "[]\n",
      "[42]\n",
      "[1, 3, 6, 6, 11]\n"
     ]
    }
   ],
   "source": [
    "def vmesne_vsote(podatki):\n",
    "    tabela = []\n",
    "    if len(podatki) == 0:\n",
    "        return []\n",
    "    if len(podatki) == 1:\n",
    "        return podatki\n",
    "    vsota = 0\n",
    "    for i in podatki:\n",
    "        if i < 0:\n",
    "            i = 0\n",
    "        vsota += i\n",
    "        tabela.append(vsota)\n",
    "    return tabela\n",
    "\n",
    "print(vmesne_vsote([1,1,1,1,1]))\n",
    "print(vmesne_vsote([1,2,3,4,5]))\n",
    "print(vmesne_vsote([]))\n",
    "print(vmesne_vsote([42]))\n",
    "print(vmesne_vsote([1,2,3,-1,5]))"
   ]
  },
  {
   "cell_type": "markdown",
   "metadata": {},
   "source": [
    "3.NALOGA - Unija slovarjev"
   ]
  },
  {
   "cell_type": "code",
   "execution_count": 2,
   "metadata": {},
   "outputs": [
    {
     "name": "stdout",
     "output_type": "stream",
     "text": [
      "{1: [2], 5: [0, 6, 4], 2: [3, 3], 7: [3], 8: [1]}\n"
     ]
    }
   ],
   "source": [
    "def unija_slovarjev(slovarji):\n",
    "    '''sestavi nov slovar, ki bo predstavljal unijo posameznih slovarjev.'''\n",
    "    nov_slovar = {}\n",
    "    for slovar in slovarji:\n",
    "        for kljuc, vrednost in slovar.items():\n",
    "            if kljuc in nov_slovar:\n",
    "                nov_slovar[kljuc].append(vrednost)\n",
    "            else:\n",
    "                nov_slovar[kljuc] = [vrednost]\n",
    "    return nov_slovar\n",
    "\n",
    "print(unija_slovarjev([{1: 2, 5: 0}, {2: 3, 5: 6, 7: 3}, {2: 3, 8: 1, 5: 4}]))"
   ]
  },
  {
   "cell_type": "markdown",
   "metadata": {},
   "source": [
    "4.NALOGA - NAGRAJENCI"
   ]
  },
  {
   "cell_type": "code",
   "execution_count": 8,
   "metadata": {},
   "outputs": [
    {
     "name": "stdout",
     "output_type": "stream",
     "text": [
      "['12111111', '12222222', '12333333', '12444444', '12555555', '12777777', '12888888']\n"
     ]
    }
   ],
   "source": [
    "def nagrajeni(redovalnica):\n",
    "    '''Vrne seznam vpisnih številk tistih študentov, ki imajo najvišjo povprečno oceno, zaokroženo na eno decimalko.'''\n",
    "    povprecje = {}\n",
    "    for vpisna_stevilka, ocene in redovalnica.items():\n",
    "        if ocene:\n",
    "            povp = round(sum(ocene) / len(ocene), 1)\n",
    "            povprecje[vpisna_stevilka] = povp\n",
    "    if not povprecje: return []\n",
    "    nagrajenci = [vpisna_stevilka for vpisna_stevilka, povp in povprecje.items()]\n",
    "    return sorted(nagrajenci)\n",
    "\n",
    "\n",
    "redovalnica = {\n",
    "    \"12111111\": [1, 2, 1, 2], \n",
    "    \"12222222\": [8, 8, 8, 8], \n",
    "    \"12333333\": [5, 10], \n",
    "    \"12444444\": [6, 10, 6, 10, 6, 10], \n",
    "    \"12555555\": [8],\n",
    "    \"12666666\": [],\n",
    "    \"12777777\": [6, 7, 8, 5],\n",
    "    \"12888888\": [9, 6, 10, 6, 8, 8, 8, 8, 8, 8, 8, 8, 7, 8, 8, 8, 9, 9, 7, 8]\n",
    "}\n",
    "print(nagrajeni(redovalnica))"
   ]
  },
  {
   "cell_type": "markdown",
   "metadata": {},
   "source": [
    "5.NALOGA - Odstrani prazne vrstice"
   ]
  },
  {
   "cell_type": "code",
   "execution_count": 10,
   "metadata": {},
   "outputs": [],
   "source": [
    "def odstrani_prazne_vrstice(vhodna, izhodna):\n",
    "    '''Za dano ime datoteke vhodna bo zdruzila vse kitice in jih izpisala na datoteko izhodna.'''\n",
    "    with open(vhodna, 'r', encoding='utf-8') as vhod:\n",
    "        vrstice = vhod.readlines()\n",
    "    ni_prazna = [vrstica.strip() for vrstica in vrstice if vrstica.strip()]\n",
    "\n",
    "    with open(izhodna, 'w', encoding='utf-8') as izhod:\n",
    "        for vrstica in ni_prazna:\n",
    "            izhod.write(vrstice + '\\n')"
   ]
  }
 ],
 "metadata": {
  "kernelspec": {
   "display_name": "venv",
   "language": "python",
   "name": "python3"
  },
  "language_info": {
   "codemirror_mode": {
    "name": "ipython",
    "version": 3
   },
   "file_extension": ".py",
   "mimetype": "text/x-python",
   "name": "python",
   "nbconvert_exporter": "python",
   "pygments_lexer": "ipython3",
   "version": "3.12.2"
  }
 },
 "nbformat": 4,
 "nbformat_minor": 2
}
