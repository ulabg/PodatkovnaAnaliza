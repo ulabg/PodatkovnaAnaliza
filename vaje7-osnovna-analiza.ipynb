{
 "cells": [
  {
   "cell_type": "markdown",
   "metadata": {},
   "source": [
    "# Osnovna analiza"
   ]
  },
  {
   "cell_type": "markdown",
   "metadata": {},
   "source": [
    "## Osnovno računanje statistik"
   ]
  },
  {
   "cell_type": "code",
   "execution_count": 1,
   "metadata": {
    "metadata": {}
   },
   "outputs": [],
   "source": [
    "# uvoz modulov\n",
    "import pandas as pd\n"
   ]
  },
  {
   "cell_type": "markdown",
   "metadata": {},
   "source": [
    "Iz spodnjih podatkov ustvari podatkovno tabelo `zavetisce` in stolpcem nastavi ustrezne podatkovne tipe."
   ]
  },
  {
   "cell_type": "code",
   "execution_count": 4,
   "metadata": {
    "metadata": {}
   },
   "outputs": [
    {
     "data": {
      "text/html": [
       "<div>\n",
       "<style scoped>\n",
       "    .dataframe tbody tr th:only-of-type {\n",
       "        vertical-align: middle;\n",
       "    }\n",
       "\n",
       "    .dataframe tbody tr th {\n",
       "        vertical-align: top;\n",
       "    }\n",
       "\n",
       "    .dataframe thead th {\n",
       "        text-align: right;\n",
       "    }\n",
       "</style>\n",
       "<table border=\"1\" class=\"dataframe\">\n",
       "  <thead>\n",
       "    <tr style=\"text-align: right;\">\n",
       "      <th></th>\n",
       "      <th>ime</th>\n",
       "      <th>vrsta</th>\n",
       "      <th>starost</th>\n",
       "      <th>spol</th>\n",
       "      <th>datum_sprejema</th>\n",
       "    </tr>\n",
       "  </thead>\n",
       "  <tbody>\n",
       "    <tr>\n",
       "      <th>0</th>\n",
       "      <td>Luna</td>\n",
       "      <td>Pes</td>\n",
       "      <td>2</td>\n",
       "      <td>Ž</td>\n",
       "      <td>2023-04-10</td>\n",
       "    </tr>\n",
       "    <tr>\n",
       "      <th>1</th>\n",
       "      <td>Whiskers</td>\n",
       "      <td>Mačka</td>\n",
       "      <td>4</td>\n",
       "      <td>M</td>\n",
       "      <td>2023-03-15</td>\n",
       "    </tr>\n",
       "    <tr>\n",
       "      <th>2</th>\n",
       "      <td>Rocky</td>\n",
       "      <td>Pes</td>\n",
       "      <td>3</td>\n",
       "      <td>M</td>\n",
       "      <td>2023-04-02</td>\n",
       "    </tr>\n",
       "    <tr>\n",
       "      <th>3</th>\n",
       "      <td>Nala</td>\n",
       "      <td>Mačka</td>\n",
       "      <td>1</td>\n",
       "      <td>Ž</td>\n",
       "      <td>2023-03-20</td>\n",
       "    </tr>\n",
       "    <tr>\n",
       "      <th>4</th>\n",
       "      <td>Maksi</td>\n",
       "      <td>Pes</td>\n",
       "      <td>5</td>\n",
       "      <td>M</td>\n",
       "      <td>2023-04-12</td>\n",
       "    </tr>\n",
       "    <tr>\n",
       "      <th>5</th>\n",
       "      <td>Bella</td>\n",
       "      <td>Mačka</td>\n",
       "      <td>2</td>\n",
       "      <td>Ž</td>\n",
       "      <td>2023-04-05</td>\n",
       "    </tr>\n",
       "    <tr>\n",
       "      <th>6</th>\n",
       "      <td>Buddy</td>\n",
       "      <td>Pes</td>\n",
       "      <td>6</td>\n",
       "      <td>M</td>\n",
       "      <td>2023-03-08</td>\n",
       "    </tr>\n",
       "    <tr>\n",
       "      <th>7</th>\n",
       "      <td>Daisy</td>\n",
       "      <td>Pes</td>\n",
       "      <td>10</td>\n",
       "      <td>Ž</td>\n",
       "      <td>2023-04-23</td>\n",
       "    </tr>\n",
       "    <tr>\n",
       "      <th>8</th>\n",
       "      <td>Coco</td>\n",
       "      <td>Mačka</td>\n",
       "      <td>8</td>\n",
       "      <td>Ž</td>\n",
       "      <td>2023-01-08</td>\n",
       "    </tr>\n",
       "    <tr>\n",
       "      <th>9</th>\n",
       "      <td>Ruby</td>\n",
       "      <td>Pes</td>\n",
       "      <td>8</td>\n",
       "      <td>Ž</td>\n",
       "      <td>2023-05-29</td>\n",
       "    </tr>\n",
       "    <tr>\n",
       "      <th>10</th>\n",
       "      <td>Mochi</td>\n",
       "      <td>Pes</td>\n",
       "      <td>3</td>\n",
       "      <td>Ž</td>\n",
       "      <td>2023-07-07</td>\n",
       "    </tr>\n",
       "    <tr>\n",
       "      <th>11</th>\n",
       "      <td>Cheddar</td>\n",
       "      <td>Pes</td>\n",
       "      <td>6</td>\n",
       "      <td>M</td>\n",
       "      <td>2023-10-07</td>\n",
       "    </tr>\n",
       "    <tr>\n",
       "      <th>12</th>\n",
       "      <td>Max</td>\n",
       "      <td>Mačka</td>\n",
       "      <td>6</td>\n",
       "      <td>M</td>\n",
       "      <td>2023-02-17</td>\n",
       "    </tr>\n",
       "    <tr>\n",
       "      <th>13</th>\n",
       "      <td>Rascal</td>\n",
       "      <td>Pes</td>\n",
       "      <td>4</td>\n",
       "      <td>M</td>\n",
       "      <td>2023-09-27</td>\n",
       "    </tr>\n",
       "    <tr>\n",
       "      <th>14</th>\n",
       "      <td>Charlie</td>\n",
       "      <td>Mačka</td>\n",
       "      <td>2</td>\n",
       "      <td>M</td>\n",
       "      <td>2023-08-07</td>\n",
       "    </tr>\n",
       "    <tr>\n",
       "      <th>15</th>\n",
       "      <td>Skittles</td>\n",
       "      <td>Papiga</td>\n",
       "      <td>4</td>\n",
       "      <td>Ž</td>\n",
       "      <td>2023-08-26</td>\n",
       "    </tr>\n",
       "    <tr>\n",
       "      <th>16</th>\n",
       "      <td>Juno</td>\n",
       "      <td>Pes</td>\n",
       "      <td>10</td>\n",
       "      <td>Ž</td>\n",
       "      <td>2023-05-18</td>\n",
       "    </tr>\n",
       "    <tr>\n",
       "      <th>17</th>\n",
       "      <td>Mango</td>\n",
       "      <td>Papiga</td>\n",
       "      <td>10</td>\n",
       "      <td>M</td>\n",
       "      <td>2023-05-18</td>\n",
       "    </tr>\n",
       "    <tr>\n",
       "      <th>18</th>\n",
       "      <td>Charlie</td>\n",
       "      <td>Pes</td>\n",
       "      <td>4</td>\n",
       "      <td>M</td>\n",
       "      <td>2023-07-17</td>\n",
       "    </tr>\n",
       "    <tr>\n",
       "      <th>19</th>\n",
       "      <td>Snickers</td>\n",
       "      <td>Zajec</td>\n",
       "      <td>2</td>\n",
       "      <td>Ž</td>\n",
       "      <td>2023-06-03</td>\n",
       "    </tr>\n",
       "  </tbody>\n",
       "</table>\n",
       "</div>"
      ],
      "text/plain": [
       "         ime   vrsta  starost spol datum_sprejema\n",
       "0       Luna     Pes        2    Ž     2023-04-10\n",
       "1   Whiskers   Mačka        4    M     2023-03-15\n",
       "2      Rocky     Pes        3    M     2023-04-02\n",
       "3       Nala   Mačka        1    Ž     2023-03-20\n",
       "4      Maksi     Pes        5    M     2023-04-12\n",
       "5      Bella   Mačka        2    Ž     2023-04-05\n",
       "6      Buddy     Pes        6    M     2023-03-08\n",
       "7      Daisy     Pes       10    Ž     2023-04-23\n",
       "8       Coco   Mačka        8    Ž     2023-01-08\n",
       "9       Ruby     Pes        8    Ž     2023-05-29\n",
       "10     Mochi     Pes        3    Ž     2023-07-07\n",
       "11   Cheddar     Pes        6    M     2023-10-07\n",
       "12       Max   Mačka        6    M     2023-02-17\n",
       "13    Rascal     Pes        4    M     2023-09-27\n",
       "14   Charlie   Mačka        2    M     2023-08-07\n",
       "15  Skittles  Papiga        4    Ž     2023-08-26\n",
       "16      Juno     Pes       10    Ž     2023-05-18\n",
       "17     Mango  Papiga       10    M     2023-05-18\n",
       "18   Charlie     Pes        4    M     2023-07-17\n",
       "19  Snickers   Zajec        2    Ž     2023-06-03"
      ]
     },
     "execution_count": 4,
     "metadata": {},
     "output_type": "execute_result"
    }
   ],
   "source": [
    "zavetisce = pd.read_csv('zivali_v_zavetiscu.csv')\n",
    "zavetisce"
   ]
  },
  {
   "cell_type": "markdown",
   "metadata": {},
   "source": [
    "Izpiši naslednje statistike o starosti živali v zavetišču:\n",
    "* povprečna starost vseh živali\n",
    "* standardni odklon starosti\n",
    "* srednja starost\n",
    "* 0.5. kvantil starosti\n",
    "* 0.25. kvantil starosti\n",
    "* 0.75. kvantil starosti"
   ]
  },
  {
   "cell_type": "code",
   "execution_count": 9,
   "metadata": {
    "metadata": {}
   },
   "outputs": [
    {
     "name": "stdout",
     "output_type": "stream",
     "text": [
      "Povprecna starost vseh živali: 5.0\n",
      "Szandardni odklon starosti: 2.9019050004400464\n",
      "Srednja starost: 4.0\n",
      "0.5 kvantil starosti: 4.0\n",
      "0.5 kvantil starosti: 2.75\n",
      "0.5 kvantil starosti: 6.5\n"
     ]
    }
   ],
   "source": [
    "print(f'Povprecna starost vseh živali: {zavetisce.starost.mean()}')\n",
    "print(f'Szandardni odklon starosti: {zavetisce.starost.std()}')\n",
    "print(f'Srednja starost: {zavetisce.starost.median()}')\n",
    "print(f'0.5 kvantil starosti: {zavetisce.starost.quantile(0.5)}')\n",
    "print(f'0.5 kvantil starosti: {zavetisce.starost.quantile(0.25)}')\n",
    "print(f'0.5 kvantil starosti: {zavetisce.starost.quantile(0.75)}')"
   ]
  },
  {
   "cell_type": "markdown",
   "metadata": {},
   "source": [
    "Poišči število vseh samičk:"
   ]
  },
  {
   "cell_type": "code",
   "execution_count": 27,
   "metadata": {
    "metadata": {}
   },
   "outputs": [
    {
     "name": "stdout",
     "output_type": "stream",
     "text": [
      "Število vseh samičk: 10\n"
     ]
    }
   ],
   "source": [
    "print(f'Število vseh samičk: {(zavetisce.spol == 'Ž').sum()}')\n"
   ]
  },
  {
   "cell_type": "markdown",
   "metadata": {},
   "source": [
    "Poišči povprečno starost za vsako vrsto hišnih ljubljenčkov:"
   ]
  },
  {
   "cell_type": "code",
   "execution_count": 31,
   "metadata": {
    "metadata": {}
   },
   "outputs": [
    {
     "name": "stdout",
     "output_type": "stream",
     "text": [
      "Povprecna starost za vsako vrsto: vrsta\n",
      "Mačka     3.833333\n",
      "Papiga    7.000000\n",
      "Pes       5.545455\n",
      "Zajec     2.000000\n",
      "Name: starost, dtype: float64\n"
     ]
    }
   ],
   "source": [
    "print(f'Povprecna starost za vsako vrsto: {zavetisce.groupby('vrsta')['starost'].mean()}')"
   ]
  },
  {
   "cell_type": "markdown",
   "metadata": {},
   "source": [
    "Za vsak spol poišči srednjo, najmanjšo in najvišjo starost:"
   ]
  },
  {
   "cell_type": "code",
   "execution_count": 34,
   "metadata": {
    "metadata": {}
   },
   "outputs": [
    {
     "name": "stdout",
     "output_type": "stream",
     "text": [
      "Srednja starost: spol\n",
      "M    4.5\n",
      "Ž    3.5\n",
      "Name: starost, dtype: float64\n",
      "Najmanjsa starost: spol\n",
      "M    2\n",
      "Ž    1\n",
      "Name: starost, dtype: int64\n",
      "Najvišja starost: spol\n",
      "M    10\n",
      "Ž    10\n",
      "Name: starost, dtype: int64\n"
     ]
    }
   ],
   "source": [
    "print(f'Srednja starost: {zavetisce.groupby('spol')['starost'].median()}')\n",
    "print(f'Najmanjsa starost: {zavetisce.groupby('spol')['starost'].min()}')\n",
    "print(f'Najvišja starost: {zavetisce.groupby('spol')['starost'].max()}')"
   ]
  },
  {
   "cell_type": "markdown",
   "metadata": {},
   "source": [
    "Poišči število živali in povprečno starost za vsako vrsto in spol:"
   ]
  },
  {
   "cell_type": "code",
   "execution_count": 50,
   "metadata": {
    "metadata": {}
   },
   "outputs": [
    {
     "name": "stdout",
     "output_type": "stream",
     "text": [
      "Število živali: 20\n",
      "Povprečna starost za vsako vrsto in spol: vrsta   spol\n",
      "Mačka   M        4.000000\n",
      "        Ž        3.666667\n",
      "Papiga  M       10.000000\n",
      "        Ž        4.000000\n",
      "Pes     M        4.666667\n",
      "        Ž        6.600000\n",
      "Zajec   Ž        2.000000\n",
      "Name: starost, dtype: float64\n"
     ]
    }
   ],
   "source": [
    "print(f'Število živali: {zavetisce.ime.count()}')\n",
    "print(f'Povprečna starost za vsako vrsto in spol: {zavetisce.groupby(['vrsta', 'spol'])['starost'].mean()}')"
   ]
  },
  {
   "cell_type": "markdown",
   "metadata": {},
   "source": [
    "Poišči podatke o živali, ki je v zavetišču najdlje:"
   ]
  },
  {
   "cell_type": "code",
   "execution_count": 52,
   "metadata": {
    "metadata": {}
   },
   "outputs": [
    {
     "name": "stdout",
     "output_type": "stream",
     "text": [
      "V zavetišču najdle:     ime  vrsta  starost spol datum_sprejema\n",
      "8  Coco  Mačka        8    Ž     2023-01-08\n"
     ]
    }
   ],
   "source": [
    "print(f'V zavetišču najdle: {zavetisce[zavetisce.datum_sprejema == zavetisce.datum_sprejema.min()]}')"
   ]
  },
  {
   "cell_type": "markdown",
   "metadata": {},
   "source": [
    "Za vsako vrsto poišči podatke o živali, ki je v zavetišču najdlje.\n",
    "\n",
    "<details><summary>Namig</summary>\n",
    "Najprej poišči najmanjši datum sprejema za vsako vrsto, nato pa pripni ustrezne podatke iz tabele zavetišče.\n",
    "</details>"
   ]
  },
  {
   "cell_type": "code",
   "execution_count": 57,
   "metadata": {
    "metadata": {}
   },
   "outputs": [
    {
     "data": {
      "text/html": [
       "<div>\n",
       "<style scoped>\n",
       "    .dataframe tbody tr th:only-of-type {\n",
       "        vertical-align: middle;\n",
       "    }\n",
       "\n",
       "    .dataframe tbody tr th {\n",
       "        vertical-align: top;\n",
       "    }\n",
       "\n",
       "    .dataframe thead th {\n",
       "        text-align: right;\n",
       "    }\n",
       "</style>\n",
       "<table border=\"1\" class=\"dataframe\">\n",
       "  <thead>\n",
       "    <tr style=\"text-align: right;\">\n",
       "      <th></th>\n",
       "      <th>ime</th>\n",
       "      <th>vrsta</th>\n",
       "      <th>starost</th>\n",
       "      <th>spol</th>\n",
       "      <th>datum_sprejema</th>\n",
       "    </tr>\n",
       "  </thead>\n",
       "  <tbody>\n",
       "    <tr>\n",
       "      <th>0</th>\n",
       "      <td>Buddy</td>\n",
       "      <td>Pes</td>\n",
       "      <td>6</td>\n",
       "      <td>M</td>\n",
       "      <td>2023-03-08</td>\n",
       "    </tr>\n",
       "    <tr>\n",
       "      <th>1</th>\n",
       "      <td>Coco</td>\n",
       "      <td>Mačka</td>\n",
       "      <td>8</td>\n",
       "      <td>Ž</td>\n",
       "      <td>2023-01-08</td>\n",
       "    </tr>\n",
       "    <tr>\n",
       "      <th>2</th>\n",
       "      <td>Mango</td>\n",
       "      <td>Papiga</td>\n",
       "      <td>10</td>\n",
       "      <td>M</td>\n",
       "      <td>2023-05-18</td>\n",
       "    </tr>\n",
       "    <tr>\n",
       "      <th>3</th>\n",
       "      <td>Snickers</td>\n",
       "      <td>Zajec</td>\n",
       "      <td>2</td>\n",
       "      <td>Ž</td>\n",
       "      <td>2023-06-03</td>\n",
       "    </tr>\n",
       "  </tbody>\n",
       "</table>\n",
       "</div>"
      ],
      "text/plain": [
       "        ime   vrsta  starost spol datum_sprejema\n",
       "0     Buddy     Pes        6    M     2023-03-08\n",
       "1      Coco   Mačka        8    Ž     2023-01-08\n",
       "2     Mango  Papiga       10    M     2023-05-18\n",
       "3  Snickers   Zajec        2    Ž     2023-06-03"
      ]
     },
     "execution_count": 57,
     "metadata": {},
     "output_type": "execute_result"
    }
   ],
   "source": [
    "najdlje = zavetisce.groupby('vrsta')['datum_sprejema'].min()\n",
    "\n",
    "najdlje_zivali = zavetisce.merge(najdlje, on=['vrsta', 'datum_sprejema'])\n",
    "najdlje_zivali"
   ]
  },
  {
   "cell_type": "markdown",
   "metadata": {},
   "source": [
    "## Naloge"
   ]
  },
  {
   "cell_type": "markdown",
   "metadata": {},
   "source": [
    "### 1. naloga - Rezultati kolokvijev"
   ]
  },
  {
   "cell_type": "markdown",
   "metadata": {},
   "source": [
    "1. Napiši program v `pandas`, ki na osnovi podatkov iz tabel `studenti` in `studenti_ocene` (s predavanj) izpiše ime študenta ali študentke z najboljšim povprečnim rezultatom na kolokvijih."
   ]
  },
  {
   "cell_type": "code",
   "execution_count": null,
   "metadata": {},
   "outputs": [
    {
     "name": "stdout",
     "output_type": "stream",
     "text": [
      "      ime  telefon spol  starost\n",
      "0     Ana      431    ž       19\n",
      "1  Branko      720    m       20\n",
      "2  Cvetka      761    ž       21\n",
      "3   David      141    m       19\n",
      "4     Eva      210    ž       20\n",
      "5   Franc      592    m       21\n",
      "       ime  semester  kolokvij  rezultat\n",
      "0      Ana         1         1      80.0\n",
      "1      Ana         1         2      82.0\n",
      "2      Ana         2         1      97.0\n",
      "3      Ana         2         2      95.0\n",
      "4   Branko         1         1      78.0\n",
      "5   Branko         1         2       NaN\n",
      "6   Branko         2         1      74.0\n",
      "7   Branko         2         2       NaN\n",
      "8   Cvetka         1         1       NaN\n",
      "9   Cvetka         1         2      63.0\n",
      "10  Cvetka         2         1       NaN\n",
      "11  Cvetka         2         2      87.0\n",
      "12   David         1         1      75.0\n",
      "13   David         1         2      92.0\n",
      "14   David         2         1      68.0\n",
      "15   David         2         2      81.0\n",
      "16     Eva         1         1      63.0\n",
      "17     Eva         1         2      82.0\n",
      "18     Eva         2         1      82.0\n",
      "19     Eva         2         2      63.0\n",
      "20   Franc         1         1      95.0\n",
      "21   Franc         1         2      99.0\n",
      "22   Franc         2         1      82.0\n",
      "23   Franc         2         2      54.0\n"
     ]
    }
   ],
   "source": [
    "import pandas as pd\n",
    "\n",
    "studenti = pd.read_csv('studenti.csv')\n",
    "studenti_ocene = pd.read_csv('studenti_ocene.csv')\n",
    "\n",
    "print(studenti)\n",
    "print(studenti_ocene)\n",
    "\n"
   ]
  },
  {
   "cell_type": "markdown",
   "metadata": {},
   "source": [
    "izpiše ime študenta ali študentke z najboljšim povprečnim rezultatom na kolokvijih."
   ]
  },
  {
   "cell_type": "code",
   "execution_count": 75,
   "metadata": {},
   "outputs": [
    {
     "name": "stdout",
     "output_type": "stream",
     "text": [
      "Ime študenta z povprečno oceno: Ana\n"
     ]
    }
   ],
   "source": [
    "najboljsi = studenti_ocene.groupby('ime')['rezultat'].mean()\n",
    "print(f'Ime študenta z povprečno oceno: {najboljsi.idxmax()}')"
   ]
  },
  {
   "cell_type": "markdown",
   "metadata": {},
   "source": [
    "2. Sestavi tabelo, ki za posamezen kolokvij poroča razliko med najboljšim in najslabšim rezultatom študentov."
   ]
  },
  {
   "cell_type": "code",
   "execution_count": null,
   "metadata": {},
   "outputs": [
    {
     "ename": "",
     "evalue": "",
     "output_type": "error",
     "traceback": [
      "\u001b[1;31mThe Kernel crashed while executing code in the current cell or a previous cell. \n",
      "\u001b[1;31mPlease review the code in the cell(s) to identify a possible cause of the failure. \n",
      "\u001b[1;31mClick <a href='https://aka.ms/vscodeJupyterKernelCrash'>here</a> for more info. \n",
      "\u001b[1;31mView Jupyter <a href='command:jupyter.viewOutput'>log</a> for further details."
     ]
    }
   ],
   "source": [
    "najmanjsi = studenti_ocene.groupby('kolokvij')['rezultat'].min()\n",
    "najvecji = studenti_ocene.groupby('kolokvij')['rezultat'].max()\n",
    "razlika = najmanjsi - najvecji\n"
   ]
  },
  {
   "cell_type": "markdown",
   "metadata": {},
   "source": [
    "3. V tabeli z rezultati kolokvijev, ki ste jo sestavili med predavanji, dodaj naslednje tri spremenljivke.\n",
    "\n",
    "    * `skupaj`: skupno število doseženih točk študenta (študentke) na kolokvijih;\n",
    "  \n",
    "    * `povprecje`: povprečno število doseženih točk študenta (študentke) na kolokvijih;\n",
    "  \n",
    "    * `ocena`: dosežena ocena študenta (študentke), pri čemer upoštevate običajno ocenjevalno lestvico, kjer je 10 ocena za povprečen rezultat nad 90 točk, 9 za povprečje nad 80, 8 za povprečje nad 70, 7 za povprečje nad 60, 6 za povprečje nad 50 in 5 za povprečje največ 50.\n",
    "    "
   ]
  },
  {
   "cell_type": "code",
   "execution_count": null,
   "metadata": {},
   "outputs": [],
   "source": []
  },
  {
   "cell_type": "markdown",
   "metadata": {},
   "source": [
    "### 2. naloga - Vrednosti funkcije\n",
    "Sestavi tabelo funkcije $f(x,y)=\\sin(x^2+y^2)$ za vse vrednosti $x$ in $y$ na intervalu $[-2,2]$ vzorčene s korakom $0.1$, torej $\\{-2, -1.9, -1.8, \\ldots, 2\\}$. Iz te tabele za podano vrednost $\\varepsilon$ sestavi seznam treh podatkovnih tabel: prva naj vsebuje tiste vrstice, za katere velja $z = f(x, y) < -\\varepsilon$, druga vrstice $|z| \\leq \\varepsilon$ in tretja vrstice $z > \\varepsilon$."
   ]
  },
  {
   "cell_type": "code",
   "execution_count": null,
   "metadata": {},
   "outputs": [],
   "source": []
  },
  {
   "cell_type": "markdown",
   "metadata": {},
   "source": [
    "### 3. naloga - Covid sledilnik\n",
    "\n",
    "Spletna stran [Covid-19 sledilnik](https://covid-19.sledilnik.org/) ponuja dnevno osvežene podatke o stanju epidemije Covid-19 v Sloveniji. Podatki o dnevnem številu okužb ponujajo tudi skozi spletne storitve [GitHub](https://github.com/sledilnik/data/blob/master/csv/stats.csv): ti podatki so v obliki CSV dostopni na naslovu [https://raw.githubusercontent.com/sledilnik/data/master/csv/stats.csv](https://raw.githubusercontent.com/sledilnik/data/master/csv/stats.csv).\n",
    "\n",
    "Napiši program, ki iz teh podatkov sestavi podatkovno tabelo z urejenimi dnevnimi podatki o številu okužb v celotni Sloveniji. Podatkovna tabela naj vsebuje naslednji dve spremenljivki:\n",
    "\n",
    "* `datum` je dimenzijska spremenjljvika z datumom opazovanega števila okužb;\n",
    "* `kumulativne_okuzbe` je merjena spremenljivka, ki za izbrano regijo poda kumulatinvo število okužb Covid-19 do izbranega datuma.\n",
    "\n",
    "Iz te osnovne tabele podatkov sestavi novo podatkovno tabelo, ki za posamezni mesec v opazovanem obdobju izračuna maksimalno število okužb v enem dnevu tega meseca. Nova tabela naj torej vsebuje dve spremenljivki:\n",
    "\n",
    "* `mesec` je dimenzijska spremenljivka, ki določi mesec opazovanja;\n",
    "* `max_dnevne_okuzbe` je numerična spremenljivka, ki poda maksimalno število dnevnih okužb v izbranem mesecu.\n",
    "\n",
    "Opomba in namig: Ta naloga je nadaljevanje naloge iz zvezka za predavanja o urejanju podatkov."
   ]
  },
  {
   "cell_type": "code",
   "execution_count": null,
   "metadata": {},
   "outputs": [],
   "source": []
  },
  {
   "cell_type": "markdown",
   "metadata": {},
   "source": [
    "### 4. naloga - Prebivalstvo in okužbe\n",
    "\n",
    "Statistični urad Slovenije v svoji podatkovni bazi [SiStat](https://pxweb.stat.si/) ponuja podatke o številu prebivalcev v posameznih statističnih regijah in celotni Sloveniji po polletjih. Poišči te podatke v bazi in jih izvozi v obliko preglednice Excel: pri tem upoštevaj vse razpoložljive podatke od prvega polletja 2020. Nato jih uredi v podatkovno tabelo s stolpci `polletje`, `regija` in `prebivalstvo`.\n",
    "\n",
    "Uporabi podatke iz te tabele in tabele sestavljene v prejšnji nalogi za izračun _deleža_ okuženih prebivalcev v posamezni regiji in celotni Sloveniji."
   ]
  },
  {
   "cell_type": "code",
   "execution_count": null,
   "metadata": {},
   "outputs": [],
   "source": []
  }
 ],
 "metadata": {
  "kernelspec": {
   "display_name": "venv",
   "language": "python",
   "name": "python3"
  },
  "language_info": {
   "codemirror_mode": {
    "name": "ipython",
    "version": 3
   },
   "file_extension": ".py",
   "mimetype": "text/x-python",
   "name": "python",
   "nbconvert_exporter": "python",
   "pygments_lexer": "ipython3",
   "version": "3.12.2"
  }
 },
 "nbformat": 4,
 "nbformat_minor": 2
}
