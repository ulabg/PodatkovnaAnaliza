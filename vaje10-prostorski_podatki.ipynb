{
 "cells": [
  {
   "cell_type": "markdown",
   "metadata": {},
   "source": [
    "# Prikaz prostorskih podatkov"
   ]
  },
  {
   "cell_type": "markdown",
   "metadata": {},
   "source": [
    "Z naslova https://kt.ijs.si/~ljupco/lectures/papvp-2324/shp/eprostor/stat-regije/RPE_SLO_PROSTORSKE_ENOTE_STATISTICNE_REGIJE_poligon.shp prenesi prostorske podatke o statističnih regijah v Sloveniji:"
   ]
  },
  {
   "cell_type": "markdown",
   "metadata": {},
   "source": [
    "Prikaži zemljevid Slovenije s pobarvanimi regijami."
   ]
  },
  {
   "cell_type": "markdown",
   "metadata": {},
   "source": [
    "Na zemljevid napiši imena regij:"
   ]
  },
  {
   "cell_type": "markdown",
   "metadata": {},
   "source": [
    "Zemljevid pobarvaj tako, da bo barva regije ponazorila število prebivalcev v regiji. Spreminjaj barve regij in oznak toliko časa, da bo diagram čim bolj berljiv v smislu vidnosti oznak in vidnosti razlik med številom prebivalcev v regijah. \n",
    "Podatke o prebivalstvu smo nekaj tednov nazaj pridobili s strani https://sl.wikipedia.org/wiki/Statisti%C4%8Dne_regije_Slovenije"
   ]
  }
 ],
 "metadata": {
  "kernelspec": {
   "display_name": "venv",
   "language": "python",
   "name": "python3"
  },
  "language_info": {
   "codemirror_mode": {
    "name": "ipython",
    "version": 3
   },
   "file_extension": ".py",
   "mimetype": "text/x-python",
   "name": "python",
   "nbconvert_exporter": "python",
   "pygments_lexer": "ipython3",
   "version": "3.10.11"
  }
 },
 "nbformat": 4,
 "nbformat_minor": 2
}
