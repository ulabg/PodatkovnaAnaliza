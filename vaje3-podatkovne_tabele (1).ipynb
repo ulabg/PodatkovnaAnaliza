{
 "cells": [
  {
   "cell_type": "markdown",
   "metadata": {},
   "source": [
    "# Knjižnica pandas - podatkovne tabele (angl. _dataframe_)"
   ]
  },
  {
   "cell_type": "markdown",
   "metadata": {},
   "source": [
    "### Ustvarjanje podatkovnih tabel"
   ]
  },
  {
   "cell_type": "markdown",
   "metadata": {},
   "source": [
    "Sestavi sezname imen in priimkov (vsak element seznama je niz oblike `\"Ime Priimek\"`), starosti in ocen (za vajo lahko starosti in ocene generiraš naključno). V seznamu `imena in priimki` ter `starosti` naj bo po 6 vrednosti, v seznamu `ocene` pa 5.\n",
    "\n",
    "Nato ustvari preprosto podatkovno tabelo, s stolpci `ime in priimek`, `starost`, `ocena`. Zaenkrat podatkovne tipe pustimo pri miru."
   ]
  },
  {
   "cell_type": "code",
   "execution_count": 27,
   "metadata": {},
   "outputs": [
    {
     "name": "stdout",
     "output_type": "stream",
     "text": [
      "  ime in priimek  starost  ocene\n",
      "0      Ana Novak       18    8.0\n",
      "1    Marko Kovač       26    6.0\n",
      "2     Eva Horvat       18    6.0\n",
      "3     Luka Zupan       30    6.0\n",
      "4      Maja Zajc       27   10.0\n",
      "5    Nina Mlakar       24    NaN\n"
     ]
    }
   ],
   "source": [
    "import random\n",
    "import pandas as pd\n",
    "\n",
    "ime_priimek = [\"Ana Novak\", \"Marko Kovač\", \"Eva Horvat\", \"Luka Zupan\", \"Maja Zajc\", \"Nina Mlakar\"]\n",
    "starost = [random.randint(18,30) for i in range(6)]\n",
    "ocene = [random.randint(6,10) for i in range(5)]\n",
    "podatkovna_tabela = pd.DataFrame({'ime in priimek': pd.Series(ime_priimek), 'starost': pd.Series(starost), 'ocene': pd.Series(ocene)})\n",
    "\n",
    "print(podatkovna_tabela)"
   ]
  },
  {
   "cell_type": "markdown",
   "metadata": {},
   "source": [
    "Izpiši tabelo. Kaj se zgodi z manjkajočo oceno?"
   ]
  },
  {
   "cell_type": "code",
   "execution_count": 22,
   "metadata": {},
   "outputs": [
    {
     "name": "stdout",
     "output_type": "stream",
     "text": [
      "  ime in priimek  starost  ocena\n",
      "0      Ana Novak       24    8.0\n",
      "1    Marko Kovač       25    8.0\n",
      "2     Eva Horvat       25   10.0\n",
      "3     Luka Zupan       30    9.0\n",
      "4      Maja Zajc       19    8.0\n",
      "5    Nina Mlakar       26    NaN\n"
     ]
    }
   ],
   "source": [
    "print(podatkovna_tabela)\n"
   ]
  },
  {
   "cell_type": "markdown",
   "metadata": {},
   "source": [
    "### Osnovno delo s podatkovnimi tabelami\n",
    "\n",
    "Izpiši podatke o zgoraj ustvarjeni tabeli (izpis polepšaj tako, da bo pred vsako vrednostjo kratek opis te vrednosti, npr. `Število vrstic: 6`):\n",
    "* število vrstic\n",
    "* število stolpcev\n",
    "* število vseh elementov\n",
    "* imena stolpcev\n",
    "* podatkovne tipe stolpcev (Kakšnih tipov so stolpci? Te je kaj presenetilo?)\n",
    "* imena vrstic\n",
    "* vrednosti v podatkovni tabeli"
   ]
  },
  {
   "cell_type": "code",
   "execution_count": 16,
   "metadata": {},
   "outputs": [
    {
     "name": "stdout",
     "output_type": "stream",
     "text": [
      "Število vrstic: 6\n",
      "Število stolpcev: 3\n",
      "Število vseh elementov: 18\n",
      "Imena stolpcev: ['ime in priimek', 'starost', 'ocena']\n",
      "Podatkovni tipi stolpcev:\n",
      "ime in priimek     object\n",
      "starost             int64\n",
      "ocena             float64\n",
      "dtype: object\n",
      "Imena vrstic: [0, 1, 2, 3, 4, 5]\n",
      "Vrednosti v podatkovni tabeli: [['Ana Novak', 19, 6.0], ['Marko Kovač', 25, 9.0], ['Eva Horvat', 22, 7.0], ['Luka Zupan', 20, 10.0], ['Maja Zajc', 28, 8.0], ['Nina Mlakar', 18, nan]]\n"
     ]
    }
   ],
   "source": [
    "# Izpis različnih informacij o podatkovni tabeli\n",
    "\n",
    "# Število vrstic\n",
    "stevilo_vrstic = podatkovna_tabela.shape[0]\n",
    "\n",
    "# Število stolpcev\n",
    "stevilo_stolpcev = podatkovna_tabela.shape[1]\n",
    "\n",
    "# Število vseh elementov\n",
    "stevilo_elementov = podatkovna_tabela.size\n",
    "\n",
    "# Imena stolpcev\n",
    "imena_stolpcev = podatkovna_tabela.columns.tolist()\n",
    "\n",
    "# Podatkovni tipi stolpcev\n",
    "tipi_stolpcev = podatkovna_tabela.dtypes\n",
    "\n",
    "# Imena vrstic\n",
    "imena_vrstic = podatkovna_tabela.index.tolist()\n",
    "\n",
    "# Vrednosti v podatkovni tabeli\n",
    "vrednosti_tabela = podatkovna_tabela.values.tolist()\n",
    "\n",
    "# Izpis\n",
    "print(f\"Število vrstic: {stevilo_vrstic}\")\n",
    "print(f\"Število stolpcev: {stevilo_stolpcev}\")\n",
    "print(f\"Število vseh elementov: {stevilo_elementov}\")\n",
    "print(f\"Imena stolpcev: {imena_stolpcev}\")\n",
    "print(\"Podatkovni tipi stolpcev:\")\n",
    "print(tipi_stolpcev)\n",
    "print(f\"Imena vrstic: {imena_vrstic}\")\n",
    "print(f\"Vrednosti v podatkovni tabeli: {vrednosti_tabela}\")\n"
   ]
  },
  {
   "cell_type": "markdown",
   "metadata": {},
   "source": [
    "### Dostopanje do vrednosti"
   ]
  },
  {
   "cell_type": "markdown",
   "metadata": {},
   "source": [
    "Izpiši stolpec ocen (za vajo poskusi na dva različna načina):"
   ]
  },
  {
   "cell_type": "code",
   "execution_count": 29,
   "metadata": {},
   "outputs": [
    {
     "name": "stdout",
     "output_type": "stream",
     "text": [
      "0     8.0\n",
      "1     6.0\n",
      "2     6.0\n",
      "3     6.0\n",
      "4    10.0\n",
      "5     NaN\n",
      "Name: ocene, dtype: float64\n",
      "0     8.0\n",
      "1     6.0\n",
      "2     6.0\n",
      "3     6.0\n",
      "4    10.0\n",
      "5     NaN\n",
      "Name: ocene, dtype: float64\n"
     ]
    }
   ],
   "source": [
    "print(podatkovna_tabela.ocene)\n",
    "print(podatkovna_tabela['ocene'])"
   ]
  },
  {
   "cell_type": "markdown",
   "metadata": {},
   "source": [
    "Izpiši še stolpec imen in priimkov. Gre tudi tu na oba načina?"
   ]
  },
  {
   "cell_type": "code",
   "execution_count": 32,
   "metadata": {},
   "outputs": [
    {
     "ename": "SyntaxError",
     "evalue": "invalid decimal literal (2826590112.py, line 3)",
     "output_type": "error",
     "traceback": [
      "\u001b[1;36m  Cell \u001b[1;32mIn[32], line 3\u001b[1;36m\u001b[0m\n\u001b[1;33m    2print(podatkovna_tabela['ime in priimek'])\u001b[0m\n\u001b[1;37m    ^\u001b[0m\n\u001b[1;31mSyntaxError\u001b[0m\u001b[1;31m:\u001b[0m invalid decimal literal\n"
     ]
    }
   ],
   "source": [
    "print(podatkovna_tabela.ime in ime_priimek)\n",
    "\n",
    "print(podatkovna_tabela['ime in priimek'])"
   ]
  },
  {
   "cell_type": "markdown",
   "metadata": {},
   "source": [
    "Izpiši starosti od tretje do pete vrstice:"
   ]
  },
  {
   "cell_type": "code",
   "execution_count": 34,
   "metadata": {},
   "outputs": [
    {
     "name": "stdout",
     "output_type": "stream",
     "text": [
      "3    30\n",
      "4    27\n",
      "5    24\n",
      "Name: starost, dtype: int64\n",
      "3    30\n",
      "4    27\n",
      "5    24\n",
      "Name: starost, dtype: int64\n"
     ]
    }
   ],
   "source": [
    "print(podatkovna_tabela.loc[3:5, 'starost'])\n",
    "print(podatkovna_tabela.starost[3:6])"
   ]
  },
  {
   "cell_type": "markdown",
   "metadata": {},
   "source": [
    "Izpiši samo imena in ocene:"
   ]
  },
  {
   "cell_type": "code",
   "execution_count": 36,
   "metadata": {},
   "outputs": [
    {
     "name": "stdout",
     "output_type": "stream",
     "text": [
      "  ime in priimek  starost\n",
      "0      Ana Novak       18\n",
      "1    Marko Kovač       26\n",
      "2     Eva Horvat       18\n",
      "3     Luka Zupan       30\n",
      "4      Maja Zajc       27\n",
      "5    Nina Mlakar       24\n"
     ]
    }
   ],
   "source": [
    "print(podatkovna_tabela.loc[:, ['ime in priimek', 'starost']])"
   ]
  },
  {
   "cell_type": "markdown",
   "metadata": {},
   "source": [
    "## Še en primer\n",
    "\n",
    "Dani so naslednji podatki o živalih v zavetišču"
   ]
  },
  {
   "cell_type": "code",
   "execution_count": 58,
   "metadata": {},
   "outputs": [],
   "source": [
    "imena = [\"Luna\", \"Whiskers\", \"Rocky\", \"Nala\", \"Maksi\", \"Bella\", \"Buddy\"]\n",
    "vrste = [\"Pes\", \"Mačka\", \"Pes\", \"Mačka\", \"Pes\", \"Mačka\", \"Pes\"]\n",
    "starosti = [2, 4, 3, 1, 5, 2, 6]\n",
    "spoli = [\"Ž\", \"M\", \"M\", \"Ž\", \"M\", \"Ž\", \"M\"]\n",
    "datumi_sprejema = [\"2023-04-10\", \"2023-03-15\", \"2023-04-02\", \"2023-03-20\", \"2023-04-12\", \"2023-04-05\", \"2023-03-08\"]"
   ]
  },
  {
   "cell_type": "markdown",
   "metadata": {},
   "source": [
    "Sestavi tabelo `zavetisce`. Tabela naj vsebuje naslednje stolpce. Poleg stolpca je zapisan tip podatkov v tem stolpcu.\n",
    "\n",
    "* `ime` - običajen stolpec\n",
    "* `vrsta` - kategorija\n",
    "* `starost` - celoštevilske vrednosti\n",
    "* `spol` - kategorija\n",
    "* `datum_sprejema` - časovni podatek"
   ]
  },
  {
   "cell_type": "code",
   "execution_count": 59,
   "metadata": {},
   "outputs": [
    {
     "name": "stdout",
     "output_type": "stream",
     "text": [
      "      imena  vrste  starost spol     datumi\n",
      "0      Luna    Pes        2    Ž 2023-04-10\n",
      "1  Whiskers  Mačka        4    M 2023-03-15\n",
      "2     Rocky    Pes        3    M 2023-04-02\n",
      "3      Nala  Mačka        1    Ž 2023-03-20\n",
      "4     Maksi    Pes        5    M 2023-04-12\n",
      "5     Bella  Mačka        2    Ž 2023-04-05\n",
      "6     Buddy    Pes        6    M 2023-03-08\n"
     ]
    }
   ],
   "source": [
    "import pandas as pd\n",
    "zavetisce = pd.DataFrame({'imena': pd.Series(imena), \n",
    "                          'vrste': pd.Series(vrste, dtype='category'), \n",
    "                          'starost': pd.Series(starosti, dtype='int'), \n",
    "                          'spol': pd.Series(spoli, dtype='category'), \n",
    "                          'datumi': pd.to_datetime(datumi_sprejema)})\n",
    "print(zavetisce)"
   ]
  },
  {
   "cell_type": "markdown",
   "metadata": {},
   "source": [
    "Dani so še opisi živali. Vrstni red ustreza vrstnemu redu prejšnjih seznamov."
   ]
  },
  {
   "cell_type": "code",
   "execution_count": 60,
   "metadata": {},
   "outputs": [],
   "source": [
    "opisi = [\"Mešanec, črna dlaka, prijazna\", \"Sivo-bela dlaka, živahen, nejevoljen ob dotiku\", \"Labrador, rjave oči, igriv, poslušen\",\n",
    "         \"Črna dlaka, prijazna, zelo igriva\", \"Nemški ovčar, črno-rjava dlaka, velik, zvest\", \"Bela dlaka, sramežljiva, igriva\",\n",
    "         \"Zlati prinašalec, svetlo rjava dlaka, prijazen\"]"
   ]
  },
  {
   "cell_type": "markdown",
   "metadata": {},
   "source": [
    "Tabeli `zavetisce` dodaj nov stolpec z opisi živali."
   ]
  },
  {
   "cell_type": "code",
   "execution_count": 61,
   "metadata": {},
   "outputs": [
    {
     "name": "stdout",
     "output_type": "stream",
     "text": [
      "      imena  vrste  starost spol     datumi  \\\n",
      "0      Luna    Pes        2    Ž 2023-04-10   \n",
      "1  Whiskers  Mačka        4    M 2023-03-15   \n",
      "2     Rocky    Pes        3    M 2023-04-02   \n",
      "3      Nala  Mačka        1    Ž 2023-03-20   \n",
      "4     Maksi    Pes        5    M 2023-04-12   \n",
      "5     Bella  Mačka        2    Ž 2023-04-05   \n",
      "6     Buddy    Pes        6    M 2023-03-08   \n",
      "\n",
      "                                            opisi  \n",
      "0                   Mešanec, črna dlaka, prijazna  \n",
      "1  Sivo-bela dlaka, živahen, nejevoljen ob dotiku  \n",
      "2            Labrador, rjave oči, igriv, poslušen  \n",
      "3               Črna dlaka, prijazna, zelo igriva  \n",
      "4    Nemški ovčar, črno-rjava dlaka, velik, zvest  \n",
      "5                 Bela dlaka, sramežljiva, igriva  \n",
      "6  Zlati prinašalec, svetlo rjava dlaka, prijazen  \n"
     ]
    }
   ],
   "source": [
    "zavetisce['opisi'] = opisi\n",
    "print(zavetisce)"
   ]
  },
  {
   "cell_type": "markdown",
   "metadata": {},
   "source": [
    "Izpiši samo opise živali v lihih vrsticah:"
   ]
  },
  {
   "cell_type": "code",
   "execution_count": 64,
   "metadata": {},
   "outputs": [
    {
     "name": "stdout",
     "output_type": "stream",
     "text": [
      "1    Sivo-bela dlaka, živahen, nejevoljen ob dotiku\n",
      "3                 Črna dlaka, prijazna, zelo igriva\n",
      "5                   Bela dlaka, sramežljiva, igriva\n",
      "Name: opisi, dtype: object\n"
     ]
    }
   ],
   "source": [
    "print(zavetisce.loc[1:6:2, 'opisi'])"
   ]
  },
  {
   "cell_type": "markdown",
   "metadata": {},
   "source": [
    "Izpiši vrstice 2, 4 in 5 ter stolpce `ime`, `vrsta` in `spol`."
   ]
  },
  {
   "cell_type": "code",
   "execution_count": 67,
   "metadata": {},
   "outputs": [
    {
     "name": "stdout",
     "output_type": "stream",
     "text": [
      "   imena  vrste spol\n",
      "2  Rocky    Pes    M\n",
      "4  Maksi    Pes    M\n",
      "5  Bella  Mačka    Ž\n"
     ]
    }
   ],
   "source": [
    "print(zavetisce.loc[[2,4,5], ['imena', 'vrste', 'spol']])"
   ]
  },
  {
   "cell_type": "markdown",
   "metadata": {},
   "source": [
    "Izpiši prve tri vrstice stolpca na 4. indeksu."
   ]
  },
  {
   "cell_type": "code",
   "execution_count": 68,
   "metadata": {},
   "outputs": [
    {
     "name": "stdout",
     "output_type": "stream",
     "text": [
      "0   2023-04-10\n",
      "1   2023-03-15\n",
      "2   2023-04-02\n",
      "Name: datumi, dtype: datetime64[ns]\n"
     ]
    }
   ],
   "source": [
    "print(zavetisce.iloc[:3,4])"
   ]
  },
  {
   "cell_type": "markdown",
   "metadata": {},
   "source": [
    "Izpiši datum sprejema mačka z imenom Whiskers:"
   ]
  },
  {
   "cell_type": "code",
   "execution_count": 71,
   "metadata": {},
   "outputs": [
    {
     "name": "stdout",
     "output_type": "stream",
     "text": [
      "1   2023-03-15\n",
      "Name: datumi, dtype: datetime64[ns]\n"
     ]
    }
   ],
   "source": [
    "print(zavetisce.loc[zavetisce['imena'] == 'Whiskers', 'datumi'])"
   ]
  },
  {
   "cell_type": "markdown",
   "metadata": {},
   "source": [
    "Izpiši imena in starosti vseh psov v zavetišču:"
   ]
  },
  {
   "cell_type": "code",
   "execution_count": 73,
   "metadata": {},
   "outputs": [
    {
     "name": "stdout",
     "output_type": "stream",
     "text": [
      "   imena  starost\n",
      "0   Luna        2\n",
      "2  Rocky        3\n",
      "4  Maksi        5\n",
      "6  Buddy        6\n"
     ]
    }
   ],
   "source": [
    "print(zavetisce.loc[zavetisce['vrste'] == 'Pes', ['imena', 'starost']])"
   ]
  },
  {
   "cell_type": "markdown",
   "metadata": {},
   "source": [
    "Izpiši vse živali, starejše od treh let\""
   ]
  },
  {
   "cell_type": "code",
   "execution_count": 76,
   "metadata": {},
   "outputs": [
    {
     "name": "stdout",
     "output_type": "stream",
     "text": [
      "      imena  vrste  starost spol     datumi  \\\n",
      "1  Whiskers  Mačka        4    M 2023-03-15   \n",
      "2     Rocky    Pes        3    M 2023-04-02   \n",
      "4     Maksi    Pes        5    M 2023-04-12   \n",
      "6     Buddy    Pes        6    M 2023-03-08   \n",
      "\n",
      "                                            opisi  \n",
      "1  Sivo-bela dlaka, živahen, nejevoljen ob dotiku  \n",
      "2            Labrador, rjave oči, igriv, poslušen  \n",
      "4    Nemški ovčar, črno-rjava dlaka, velik, zvest  \n",
      "6  Zlati prinašalec, svetlo rjava dlaka, prijazen  \n"
     ]
    }
   ],
   "source": [
    "print(zavetisce.loc[zavetisce['starost'] >= 3, 'imena'])"
   ]
  },
  {
   "cell_type": "markdown",
   "metadata": {},
   "source": [
    "Izpiši imena, vrste in opise vseh živali, ki so jih v zavetišče sprejeli pred 1. 4. 2023:"
   ]
  },
  {
   "cell_type": "code",
   "execution_count": 78,
   "metadata": {},
   "outputs": [
    {
     "name": "stdout",
     "output_type": "stream",
     "text": [
      "      imena  vrste  starost spol     datumi  \\\n",
      "1  Whiskers  Mačka        4    M 2023-03-15   \n",
      "3      Nala  Mačka        1    Ž 2023-03-20   \n",
      "6     Buddy    Pes        6    M 2023-03-08   \n",
      "\n",
      "                                            opisi  \n",
      "1  Sivo-bela dlaka, živahen, nejevoljen ob dotiku  \n",
      "3               Črna dlaka, prijazna, zelo igriva  \n",
      "6  Zlati prinašalec, svetlo rjava dlaka, prijazen  \n"
     ]
    }
   ],
   "source": [
    "print(zavetisce.loc[zavetisce['datumi'] < '2023-04-01', :])"
   ]
  }
 ],
 "metadata": {
  "kernelspec": {
   "display_name": "venv",
   "language": "python",
   "name": "python3"
  },
  "language_info": {
   "codemirror_mode": {
    "name": "ipython",
    "version": 3
   },
   "file_extension": ".py",
   "mimetype": "text/x-python",
   "name": "python",
   "nbconvert_exporter": "python",
   "pygments_lexer": "ipython3",
   "version": "3.12.2"
  }
 },
 "nbformat": 4,
 "nbformat_minor": 2
}
