{
 "cells": [
  {
   "cell_type": "markdown",
   "metadata": {},
   "source": [
    "## ANALIZA PODATKOV"
   ]
  },
  {
   "cell_type": "markdown",
   "metadata": {},
   "source": [
    "### 1.NALOGA"
   ]
  },
  {
   "cell_type": "markdown",
   "metadata": {},
   "source": [
    "Iz podatkov v tabeli filmi izračunaj naslednje:"
   ]
  },
  {
   "cell_type": "markdown",
   "metadata": {},
   "source": [
    "(a) Kateri film (oz. filmi, če jih je več) je prejel največ nominacij ter koliko. Odgovor shrani v\n",
    "spremenljivko odgovor1a."
   ]
  },
  {
   "cell_type": "code",
   "execution_count": 2,
   "metadata": {},
   "outputs": [
    {
     "name": "stdout",
     "output_type": "stream",
     "text": [
      "                                          naslov  stevilo\n",
      "0                                         Becket       11\n",
      "1                                        Ben-Hur       11\n",
      "2                                 Johnny Belinda       11\n",
      "3  The Lord of the Rings: The Return of the King       11\n",
      "4                           The Power of the Dog       11\n",
      "5                                        Titanic       11\n"
     ]
    }
   ],
   "source": [
    "import pandas as pd \n",
    "\n",
    "podatki = pd.read_csv('filmi.csv')\n",
    "najvec_nominacij = podatki['stevilo'].max()\n",
    "najvec = podatki[podatki['stevilo'] == najvec_nominacij]\n",
    "odgovor1a = najvec[['naslov', 'stevilo']].drop_duplicates()\n",
    "odgovor1a = odgovor1a.reset_index(drop=True)\n",
    "print(odgovor1a)\n"
   ]
  },
  {
   "cell_type": "markdown",
   "metadata": {},
   "source": [
    "(b) Število filmov, ki so bili nominirani vsaj trikrat in so osvojili oskarja za vsaj polovico nominacij. Odgovor shrani v spremenljivko odgovor1b."
   ]
  },
  {
   "cell_type": "code",
   "execution_count": 12,
   "metadata": {},
   "outputs": [
    {
     "name": "stdout",
     "output_type": "stream",
     "text": [
      "150\n"
     ]
    }
   ],
   "source": [
    "zdruzeni_po_filmih = podatki.groupby('naslov')\n",
    "ustrezni_filmi = zdruzeni_po_filmih.filter(\n",
    "    lambda group: (group['stevilo'].sum() >= 3 and \n",
    "                   group.loc[group['oskar'] == True, 'stevilo'].sum() >= 0.5 * group['stevilo'].sum())\n",
    ")\n",
    "odgovor1b = len(ustrezni_filmi['naslov'].unique())\n",
    "print(odgovor1b)\n"
   ]
  },
  {
   "cell_type": "markdown",
   "metadata": {},
   "source": [
    "(c) Desetletje in stoletje, v katerem je bilo nagrajenih največ različnih filmov ter koliko. Odgovor izpiši z nizom. Opomba: npr. obdobje 1970- 1979 je 8. desetletje 20. stoletja."
   ]
  },
  {
   "cell_type": "code",
   "execution_count": null,
   "metadata": {},
   "outputs": [
    {
     "name": "stdout",
     "output_type": "stream",
     "text": [
      "V letih 1940-1949, kar je 194. desetletje in 20. stoletje, je bilo nagrajenih 174 filmov.\n"
     ]
    }
   ],
   "source": [
    "# Dodaj stolpca za desetletje in stoletje\n",
    "podatki['desetletje'] = (podatki['leto'] // 10) * 10\n",
    "podatki['stoletje'] = ((podatki['leto'] - 1) // 100) + 1\n",
    "\n",
    "# Filtriraj nagrajene filme (oskar == True)\n",
    "nagrajeni_filmi = podatki[podatki['oskar'] == True]\n",
    "\n",
    "# Združi po desetletju in stoletju ter preštej unikatne naslove\n",
    "skupaj = nagrajeni_filmi.groupby(['desetletje', 'stoletje'])['naslov'].nunique()\n",
    "\n",
    "# Najdi desetletje in stoletje z največ nagrajenimi filmi\n",
    "najvec_ind = skupaj.idxmax()  # Tuple (desetletje, stoletje)\n",
    "najvec_st = skupaj.max()      # Največje število filmov\n",
    "\n",
    "# Oblikuj rezultat\n",
    "desetletje = najvec_ind[0]\n",
    "stoletje = najvec_ind[1]\n",
    "odgovor1c = (\n",
    "    f\"V letih {desetletje}-{desetletje + 9}, kar je {desetletje // 10}. desetletje \"\n",
    "    f\"in {stoletje}. stoletje, je bilo nagrajenih {najvec_st} filmov.\"\n",
    ")\n",
    "\n",
    "# Izpiši rezultat\n",
    "print(odgovor1c)\n"
   ]
  },
  {
   "cell_type": "markdown",
   "metadata": {},
   "source": [
    "(d) Nekateri naslovi filmov se ponavljajo. Kateri izmed filmov, katerih naslovi se ponovijo na\n",
    "tanko dvakrat, imajo tudi enako število prejetih oskarjev? Seznam filmov shrani v spremenljivko\n",
    "odgovor1d."
   ]
  },
  {
   "cell_type": "code",
   "execution_count": 3,
   "metadata": {},
   "outputs": [
    {
     "name": "stdout",
     "output_type": "stream",
     "text": [
      "['Cyrano de Bergerac', 'King Kong', 'The Fly', 'The Old Man and the Sea', 'Up']\n"
     ]
    }
   ],
   "source": [
    "import pandas as pd\n",
    "\n",
    "# Predpostavimo, da so podatki že naloženi v DataFrame z imenom 'podatki'\n",
    "# Stolpci: 'naslov', 'leto', 'oskar', 'stevilo'\n",
    "\n",
    "# 1. Filtriramo vrstice, kjer je 'oskar' True\n",
    "podatki_oskar = podatki[podatki['oskar'] == True]\n",
    "\n",
    "# 2. Združimo podatke po naslovih in preštejemo število pojavitev ter vsoto oskarjev\n",
    "df_skupaj = (\n",
    "    podatki_oskar.groupby('naslov')\n",
    "    .agg(stevilo_pojavitev=('naslov', 'size'), vsota_oskarjev=('stevilo', 'sum'))\n",
    "    .reset_index()\n",
    ")\n",
    "\n",
    "# 3. Filtriramo naslove, ki se pojavijo natanko dvakrat\n",
    "df_dvakrat = df_skupaj[df_skupaj['stevilo_pojavitev'] == 2]\n",
    "\n",
    "# 4. Preverimo, kateri izmed teh imajo enako število prejetih oskarjev\n",
    "odgovor1d = df_dvakrat[df_dvakrat['vsota_oskarjev'].duplicated(keep=False)]['naslov'].tolist()\n",
    "\n",
    "# Rezultat\n",
    "print(odgovor1d)\n"
   ]
  },
  {
   "cell_type": "markdown",
   "metadata": {},
   "source": [
    "### 2.NALOGA"
   ]
  },
  {
   "cell_type": "markdown",
   "metadata": {},
   "source": [
    "Iz podatkov v tabelah tuji filmi, filmi in populacija izraČunaj naslednje:\n",
    "\n",
    "(a) Število vseh nominacij in število vseh dobljenih oskarjev (tudi oskar za najboljši mednarodni celovečerni film) glede na leto za države iz tabele tuji filmi z izjemo ZDA. Rezultat predstavi s tabelo, ki ima štiri stolpce: drzava, leto, st nominacij in st oskarjev. T  abelo shrani v datoteko tabela2a.csv.\n",
    " \n",
    "Namig: v tabeli filmi so upoštevani vsi oskarji, v tabeli tuji pa vsi, razen oskarja za najboljši mednarodni celovečerni film. "
   ]
  },
  {
   "cell_type": "code",
   "execution_count": 26,
   "metadata": {},
   "outputs": [
    {
     "name": "stdout",
     "output_type": "stream",
     "text": [
      "Rezultati so shranjeni v datoteko tabela2a.csv.\n"
     ]
    }
   ],
   "source": [
    "import pandas as pd\n",
    "\n",
    "def nominacije_in_nagrade(tuji_filmi_d, filmi_d, koncna_d):\n",
    "    # Naloži podatke iz CSV datotek\n",
    "    pod_tuji = pd.read_csv(tuji_filmi_d)\n",
    "    pod_filmi = pd.read_csv(filmi_d)\n",
    "\n",
    "    # Filtriraj tuje filme, izključujoč ZDA\n",
    "    filtrirano = pod_tuji[pod_tuji['drzava'] != 'USA']\n",
    "\n",
    "    # Združi podatke o nominacijah in oskarjih\n",
    "    skupaj = filtrirano.merge(\n",
    "        pod_filmi,\n",
    "        how='left',\n",
    "        left_on=['naslov_nom', 'leto'],\n",
    "        right_on=['naslov', 'leto']\n",
    "    )\n",
    "\n",
    "    # Združevanje po državi in letu ter izračun števila nominacij in oskarjev\n",
    "    rez = skupaj.groupby(['drzava', 'leto']).agg(\n",
    "        st_nominacij=pd.NamedAgg(column='stevilo', aggfunc='sum'),\n",
    "        st_oskarjev=pd.NamedAgg(column='oskar', aggfunc='sum')\n",
    "    ).reset_index()\n",
    "\n",
    "    # Shranjevanje rezultata v CSV datoteko\n",
    "    rez.to_csv(koncna_d, index=False)\n",
    "    \n",
    "    return rez, skupaj\n",
    "\n",
    "# Definiraj poti do datotek\n",
    "tuji_filmi_dat = 'tuji_filmi.csv'\n",
    "filmi_dat = 'filmi.csv'\n",
    "populacija_dat = 'populacija.csv'\n",
    "koncna = 'tabela2a.csv'\n",
    "\n",
    "# Klic funkcije za izračun in shranjevanje\n",
    "nominacije_in_nagrade(tuji_filmi_dat, filmi_dat, koncna)\n",
    "\n",
    "print(f\"Rezultati so shranjeni v datoteko {koncna}.\")\n"
   ]
  },
  {
   "cell_type": "markdown",
   "metadata": {},
   "source": [
    "(b) Največ koliko nominacij je prejela država na eni podelitvi? Rezultat shrani v spremenljivko odgovor2b."
   ]
  },
  {
   "cell_type": "code",
   "execution_count": 19,
   "metadata": {},
   "outputs": [
    {
     "name": "stdout",
     "output_type": "stream",
     "text": [
      "54.0\n"
     ]
    }
   ],
   "source": [
    "rezultatb, zdruzeni_podatki = nominacije_in_nagrade(tuji_filmi_dat, filmi_dat, koncna)\n",
    "odgovor2b = rezultatb['st_nominacij'].max()\n",
    "print(odgovor2b)"
   ]
  },
  {
   "cell_type": "markdown",
   "metadata": {},
   "source": [
    "(c) Največ koliko oskarjev je prejela država na eni podelitvi? Rezultat shrani v spremenljivko odgovor2c."
   ]
  },
  {
   "cell_type": "code",
   "execution_count": 20,
   "metadata": {},
   "outputs": [
    {
     "name": "stdout",
     "output_type": "stream",
     "text": [
      "6\n"
     ]
    }
   ],
   "source": [
    "rezultatc, zdruzeni_podatki  = nominacije_in_nagrade(tuji_filmi_dat, filmi_dat, koncna)\n",
    "odgovor2c = rezultatc['st_oskarjev'].max()\n",
    "print(odgovor2c)"
   ]
  },
  {
   "cell_type": "markdown",
   "metadata": {},
   "source": [
    "(d) Kateri film je prejel oskarje iz prejšnje točke? Rezultat shrani v spremenljivko odgovor2d."
   ]
  },
  {
   "cell_type": "code",
   "execution_count": 22,
   "metadata": {},
   "outputs": [
    {
     "name": "stdout",
     "output_type": "stream",
     "text": [
      "The Artist\n"
     ]
    }
   ],
   "source": [
    "rezultatd, zdruzeni_podatki = nominacije_in_nagrade(tuji_filmi_dat, filmi_dat, koncna)\n",
    "\n",
    "film_max_oskarjev = zdruzeni_podatki[zdruzeni_podatki['oskar'] == True]\n",
    "film_max_oskarjev = film_max_oskarjev.loc[film_max_oskarjev['stevilo'].idxmax(), 'naslov_nom']\n",
    "odgovor2d = film_max_oskarjev\n",
    "print(odgovor2d)"
   ]
  },
  {
   "cell_type": "markdown",
   "metadata": {},
   "source": [
    "(e) Za države iz tabele tuji filmi z izjemo ZDA izračunaj delež uspešnih nominacij (nominacija je uspešna, če film prejme oskarja). Rezultat predstavi s tabelo, ki ima dva stolpca: drzava in delez. Tabelo shrani v datoteko tabela2e.csv. Katera država ima najmanjši delež uspešnih nominacij? Rezultat shrani v spremenljivko odgovor2e."
   ]
  },
  {
   "cell_type": "code",
   "execution_count": 25,
   "metadata": {},
   "outputs": [
    {
     "name": "stdout",
     "output_type": "stream",
     "text": [
      "drzava    Czech Republic\n",
      "delez                0.0\n",
      "Name: 5, dtype: object\n"
     ]
    },
    {
     "name": "stderr",
     "output_type": "stream",
     "text": [
      "C:\\Users\\ulabu\\AppData\\Local\\Temp\\ipykernel_19128\\1603551888.py:5: DeprecationWarning: DataFrameGroupBy.apply operated on the grouping columns. This behavior is deprecated, and in a future version of pandas the grouping columns will be excluded from the operation. Either pass `include_groups=False` to exclude the groupings or explicitly select the grouping columns after groupby to silence this warning.\n",
      "  delez = skupaj.groupby('drzava').apply(\n"
     ]
    }
   ],
   "source": [
    "rezultate, zdruzeni_podatki = nominacije_in_nagrade(tuji_filmi_dat, filmi_dat, koncna)\n",
    "\n",
    "def delez_uspesnih_nominacij(skupaj, koncnae):\n",
    "    # Izračun deleža uspešnih nominacij po državah\n",
    "    delez = skupaj.groupby('drzava').apply(\n",
    "        lambda x: x['oskar'].sum() / x['stevilo'].sum() if x['stevilo'].sum() > 0 else 0\n",
    "    ).reset_index(name='delez')\n",
    "\n",
    "    # Shranjevanje rezultata v CSV datoteko\n",
    "    delez.to_csv(koncnae, index=False)\n",
    "\n",
    "    # Država z najmanjšim deležem uspešnih nominacij\n",
    "    najmanjsi_delez_drzava = delez.loc[delez['delez'].idxmin()]\n",
    "    return delez, najmanjsi_delez_drzava\n",
    "\n",
    "koncna2e = 'tabela2e.csv'\n",
    "delez_tabela, odgovor2e = delez_uspesnih_nominacij(zdruzeni_podatki, koncna2e)\n",
    "print(odgovor2e)"
   ]
  },
  {
   "cell_type": "markdown",
   "metadata": {},
   "source": [
    "(f) Število nominacij na milijon prebivalcev. Rezultat predstavi s tabelo, ki ima dva stolpca: drzava in nominacije_na_mio. Uporabi podatke o populaciji iz leta 2015,če podatka ni,naj države ne bo v končni tabeli.Tabelo shrani v datoteko tabela2f.csv"
   ]
  },
  {
   "cell_type": "code",
   "execution_count": 28,
   "metadata": {},
   "outputs": [
    {
     "name": "stdout",
     "output_type": "stream",
     "text": [
      "            drzava  nominacije_na_mio\n",
      "0          Algeria       7.062147e+04\n",
      "1          Algeria       1.929012e+03\n",
      "2          Algeria       7.692308e+05\n",
      "3        Argentina       4.371585e+04\n",
      "4        Argentina       2.719978e+02\n",
      "5        Argentina       1.179941e+05\n",
      "6           Brazil       4.662005e+04\n",
      "7           Brazil       9.596929e+02\n",
      "8           Brazil       2.000000e+06\n",
      "9            Chile       4.576659e+04\n",
      "10           Chile       6.132148e+02\n",
      "11           Chile       1.089918e+05\n",
      "12           China       5.405405e+05\n",
      "13           China       1.628576e+03\n",
      "14           China       2.307692e+07\n",
      "15          France       9.284818e+05\n",
      "16          France       6.893982e+03\n",
      "17          France       4.431138e+06\n",
      "18         Germany       7.642487e+05\n",
      "19         Germany       1.678998e+04\n",
      "20         Germany       1.372093e+07\n",
      "21          Greece       6.410256e+04\n",
      "22          Greece       1.581778e+03\n",
      "23          Greece       1.773050e+05\n",
      "24           India       6.097561e+04\n",
      "25           India       7.732158e+01\n",
      "26           India       1.000000e+06\n",
      "27           Italy       8.764368e+05\n",
      "28           Italy       1.483102e+04\n",
      "29           Italy       8.840580e+06\n",
      "30           Japan       7.658643e+04\n",
      "31           Japan       1.878892e+02\n",
      "32           Japan       2.405498e+05\n",
      "33          Mexico       7.313997e+05\n",
      "34          Mexico       2.717901e+03\n",
      "35          Mexico       3.411765e+06\n",
      "36            Peru       5.167959e+04\n",
      "37            Peru       4.076225e+02\n",
      "38            Peru       1.277955e+05\n",
      "39           Spain       2.512563e+05\n",
      "40           Spain       3.214917e+03\n",
      "41           Spain       1.492537e+06\n",
      "42          Sweden       5.773672e+04\n",
      "43          Sweden       3.344482e+03\n",
      "44          Sweden       3.267974e+05\n",
      "45     Switzerland       1.356852e+04\n",
      "46     Switzerland       2.444988e+03\n",
      "47     Switzerland       2.040816e+05\n",
      "48         Ukraine       4.341534e+04\n",
      "49         Ukraine       1.036269e+03\n",
      "50         Ukraine       4.615385e+05\n",
      "51  United Kingdom       1.089588e+05\n",
      "52  United Kingdom       1.039141e+03\n",
      "53  United Kingdom       6.818182e+05\n"
     ]
    }
   ],
   "source": [
    "def nominacije_na_milijon(skupaj, populacija_d, koncnaf):\n",
    "    # Naloži podatke o populaciji\n",
    "    populacija = pd.read_csv(populacija_d)\n",
    "\n",
    "    # Filtriraj populacijo na leto 2015\n",
    "    populacija_2015 = populacija[(populacija['leto'] == 2015)]\n",
    "\n",
    "    # Združi podatke o populaciji in nominacijah\n",
    "    nominacije_populacija = skupaj.groupby('drzava').agg(\n",
    "        st_nominacij=pd.NamedAgg(column='stevilo', aggfunc='sum')\n",
    "    ).reset_index()\n",
    "\n",
    "    nominacije_populacija = nominacije_populacija.merge(\n",
    "        populacija_2015[['enota', 'vrednost']],\n",
    "        how='inner',\n",
    "        left_on='drzava',\n",
    "        right_on='enota'\n",
    "    )\n",
    "\n",
    "    # Izračun nominacij na milijon prebivalcev\n",
    "    nominacije_populacija['nominacije_na_mio'] = nominacije_populacija['st_nominacij'] / (nominacije_populacija['vrednost'] / 1_000_000)\n",
    "\n",
    "    # Shranjevanje rezultata v CSV datoteko\n",
    "    rezultat = nominacije_populacija[['drzava', 'nominacije_na_mio']]\n",
    "    rezultat.to_csv(koncnaf, index=False)\n",
    "\n",
    "    return rezultat\n",
    "\n",
    "# Izračun nominacij na milijon prebivalcev\n",
    "koncna_2f = 'tabela2f.csv'\n",
    "odgovor2f = nominacije_na_milijon(zdruzeni_podatki, populacija_dat, koncna_2f)\n",
    "print(odgovor2f)"
   ]
  },
  {
   "cell_type": "markdown",
   "metadata": {},
   "source": [
    "(g) Kateri film iz tabele tuji_filmi so prejeli tudi oskarja za najboljši mednarodni celovečerni film? Seznam filmov shrani v spremenljivko odgovor2g."
   ]
  },
  {
   "cell_type": "code",
   "execution_count": 44,
   "metadata": {},
   "outputs": [
    {
     "name": "stdout",
     "output_type": "stream",
     "text": [
      "[]\n"
     ]
    }
   ],
   "source": [
    "def oskarji_za_najboljsi_film(tuji_filmi, skupaj):\n",
    "    # Filtriraj filme, ki so prejeli oskarja za najboljši mednarodni celovečernji film\n",
    "    filmi_z_oskarjem = skupaj[(skupaj['kategorija'] == 'International Feature Film') & (skupaj['oskar'] == True)]\n",
    "\n",
    "    # Dobimo seznam unikatnih naslovov\n",
    "    return filmi_z_oskarjem['naslov_nom'].dropna().unique()\n",
    "\n",
    "\n",
    "# Filmi, ki so prejeli oskarja za najboljši mednarodni celovečernji film\n",
    "odgovor2g = oskarji_za_najboljsi_film(tuji_filmi_dat, zdruzeni_podatki)\n",
    "print(odgovor2g)\n",
    "\n"
   ]
  }
 ],
 "metadata": {
  "kernelspec": {
   "display_name": ".venv",
   "language": "python",
   "name": "python3"
  },
  "language_info": {
   "codemirror_mode": {
    "name": "ipython",
    "version": 3
   },
   "file_extension": ".py",
   "mimetype": "text/x-python",
   "name": "python",
   "nbconvert_exporter": "python",
   "pygments_lexer": "ipython3",
   "version": "3.12.2"
  }
 },
 "nbformat": 4,
 "nbformat_minor": 2
}
