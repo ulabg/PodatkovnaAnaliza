{
 "cells": [
  {
   "cell_type": "markdown",
   "metadata": {},
   "source": [
    "# Delo z neurejenimi podatki s spleta"
   ]
  },
  {
   "cell_type": "markdown",
   "metadata": {},
   "source": [
    "## Regularni izrazi\n",
    "\n",
    "Za začetno spoznavanje z regularnimi izrazi priporočam vaje z naslednjih spletnih strani:\n",
    "* [regexone](https://regexone.com/) - interaktiven tutorial za spoznavanje z osnovnim ujemanjem vzorcev\n",
    "* [kREžanke](https://regexcrossword.com/) - križanke z regularnimi izrazi - malo za zabavo"
   ]
  },
  {
   "cell_type": "markdown",
   "metadata": {},
   "source": [
    "### Regularni izrazi v Pythonu\n",
    "\n",
    "Orodja za delo z regularnimi izrazi se v Pythonu nahajajo v modulu `re`, ki je ze vkljucen v Python (modula ni potrebno namescati) ."
   ]
  },
  {
   "cell_type": "code",
   "execution_count": 1,
   "metadata": {},
   "outputs": [],
   "source": [
    "import re"
   ]
  },
  {
   "cell_type": "markdown",
   "metadata": {},
   "source": [
    "import re"
   ]
  },
  {
   "cell_type": "code",
   "execution_count": 2,
   "metadata": {},
   "outputs": [
    {
     "data": {
      "text/plain": [
       "<re.Match object; span=(6, 8), match='ma'>"
      ]
     },
     "execution_count": 2,
     "metadata": {},
     "output_type": "execute_result"
    }
   ],
   "source": [
    "import re\n",
    "re.search('ma', 'Ena sama je, mama!')"
   ]
  },
  {
   "cell_type": "markdown",
   "metadata": {},
   "source": [
    "### Naloge iz regularnih izrazov"
   ]
  },
  {
   "cell_type": "markdown",
   "metadata": {},
   "source": [
    "#### Samoglasniki in soglasniki\n",
    "V Python-u definiraj funkcijo `n_samoglasnikov`, ki za podan niz znakov vrne število samoglasnikov v njemu. Nato definiraj še funkcijo `n_soglasnikov`, ki prešteje število soglasnikov v podanem nizu znakov."
   ]
  },
  {
   "cell_type": "code",
   "execution_count": 3,
   "metadata": {},
   "outputs": [
    {
     "name": "stdout",
     "output_type": "stream",
     "text": [
      "7\n",
      "0\n",
      "2\n"
     ]
    }
   ],
   "source": [
    "def n_samoglasnikov(niz):\n",
    "    return len(re.findall('[aeiouAEUOU]', niz))\n",
    "\n",
    "def n_soglasnikov(niz):\n",
    "    return len(niz) - n_samoglasnikov(niz)\n",
    "\n",
    "print(n_samoglasnikov(\"gaga ulalaaa\"))\n",
    "print(n_samoglasnikov(\"čmrlj\"))\n",
    "print(n_samoglasnikov(\"Ula\"))\n"
   ]
  },
  {
   "cell_type": "markdown",
   "metadata": {},
   "source": [
    "Pri naslednjih nalogah za testiranje uporabi spodnji niz `besedilo`. Seveda je priporocljivo, da poleg navedenih primerov funkcije preiskusis se na drugih testnih primerih."
   ]
  },
  {
   "cell_type": "code",
   "execution_count": 4,
   "metadata": {},
   "outputs": [],
   "source": [
    "hvalezni_medved = \"\"\"Gori nekje v gorah, ne ve se več, ali je bilo pri Macigoju ali\n",
    "Naravniku, je šivala gospodinja v senci pod drevesom in zibala otroka. Naenkrat\n",
    "prilomasti - pa prej ni ničesar opazila - medved in ji moli taco, v kateri je\n",
    "tičal velik, debel trn. Žena se je prestrašila, a medved le milo in pohlevno\n",
    "godrnja. Zato se žena ojunači in mu izdere trn iz tace. Mrcina kosmata pa zvrne\n",
    "zibel, jo pobaše in oddide. Čez nekaj časa pa ji zopet prinese zibel, a zvhano\n",
    "napolnjeno s sladkimi hruškami. Postavil jo je na tla pred začudeno mater in\n",
    "odracal nazaj v goščavo. \"Poglej no\", se je razveselila mati, \"kakšen hvaležen\n",
    "medved. Zvrhano zibelko sladkih hrušk mi je prinesel za en sam izdrt trn\".\n",
    "\"\"\""
   ]
  },
  {
   "cell_type": "markdown",
   "metadata": {},
   "source": [
    "#### Besede z veliko zacetnico\n",
    "\n",
    "Sestavi funkcijo `besede_velika_zacetnica(niz)`, ki vrne množico besed v nizu, ki se začnejo z veliko začetnico."
   ]
  },
  {
   "cell_type": "code",
   "execution_count": 5,
   "metadata": {},
   "outputs": [
    {
     "name": "stdout",
     "output_type": "stream",
     "text": [
      "{'Gori', 'Postavil', 'Naravniku', 'Poglej', 'Zato', 'Naenkrat', 'Macigoju', 'Mrcina', 'Zvrhano'}\n"
     ]
    }
   ],
   "source": [
    "def besede_velika_zacetnica(niz):\n",
    "    return set(re.findall(\"[A-Z][a-z]*\", niz))\n",
    "\n",
    "print(besede_velika_zacetnica(hvalezni_medved))"
   ]
  },
  {
   "cell_type": "markdown",
   "metadata": {},
   "source": [
    "#### Besede, ki vsebujejo podniz\n",
    "Sestavi funkcijo `najdi_besede(niz, podniz)`, ki vrne množico besed v besedilu `niz`, ki vsebujejo dani `podniz`.\n",
    "\n",
    "_Namig: pomagaj si z regex znakom za mejo [\\b]._\n",
    "\n",
    "Za zgornje besedilo so besede, ki vsebujejo niz `\"de\"`: \"izdere\", \"debel\", \"oddide\", \"začudeno\"."
   ]
  },
  {
   "cell_type": "code",
   "execution_count": 6,
   "metadata": {},
   "outputs": [
    {
     "name": "stdout",
     "output_type": "stream",
     "text": [
      "{'debel', 'izdere', 'oddide', 'začudeno'}\n"
     ]
    }
   ],
   "source": [
    "def najdi_besede(niz, podniz):\n",
    "    vzorec = r\"\\b\\w*\" + podniz + r\"\\w*\\b\"\n",
    "    return set(re.findall(vzorec, niz))\n",
    "\n",
    "print(najdi_besede(hvalezni_medved, \"de\"))"
   ]
  },
  {
   "cell_type": "markdown",
   "metadata": {},
   "source": [
    "#### Besede s predpono\n",
    "\n",
    "Sestavi funkcijo `besede_s_predpono(niz, predpona)`, ki vrne množico vseh besed, ki se pojavijo v nizu in imajo dano predpono.\n",
    "\n",
    "Za zgornje besedilo so vse besede s predpono `\"zi\"`: \"zibala\", \"zibel\", \"zibelko\"."
   ]
  },
  {
   "cell_type": "code",
   "execution_count": 7,
   "metadata": {},
   "outputs": [
    {
     "name": "stdout",
     "output_type": "stream",
     "text": [
      "{'zibel', 'zibelko', 'zibala'}\n"
     ]
    }
   ],
   "source": [
    "def besede_s_predpono(niz, predpona):\n",
    "    vzorec = r\"\\b\" + predpona + r\"\\w*\\b\"\n",
    "    return set(re.findall(vzorec, niz))\n",
    "\n",
    "print(besede_s_predpono(hvalezni_medved, 'zi'))"
   ]
  },
  {
   "cell_type": "markdown",
   "metadata": {},
   "source": [
    "#### Besede s pripono\n",
    "\n",
    "Sestavi funkcijo `besede_s_pripono(niz, pripona)`, ki vrne množico vseh besed, ki se pojavijo v nizu in imajo dano pripono.\n",
    "\n",
    "Za zgornje besedilo so vse besede s pripono `\"la\"`: \"zibala\", \"razveselila\", \"prestrašila\", \"šivala\", \"opazila\", \"tla\"."
   ]
  },
  {
   "cell_type": "code",
   "execution_count": 8,
   "metadata": {},
   "outputs": [
    {
     "name": "stdout",
     "output_type": "stream",
     "text": [
      "{'tla', 'prestrašila', 'opazila', 'razveselila', 'šivala', 'zibala'}\n"
     ]
    }
   ],
   "source": [
    "def besede_s_pripono(niz, pripona):\n",
    "    vzorec = r\"\\b\\w*\" + pripona + r\"\\b\"\n",
    "    return set(re.findall(vzorec, niz))\n",
    "\n",
    "print(besede_s_pripono(hvalezni_medved, 'la'))"
   ]
  },
  {
   "cell_type": "markdown",
   "metadata": {},
   "source": [
    "### Popravljanje besedil\n",
    "... s funkcijo `re.sub(vzorec, nadomestek, besedilo)`.\n",
    "\n",
    "Sestavite funkcijo `poenostavi(naloga)`, ki sprejme opis matematične naloge (kot niz) in v njej vsa števila nadomesti z 10.\n",
    "\n",
    "```\n",
    ">>> poenostavi(\"Koliko je 2 krat 4?\")\n",
    "\"Koliko je 10 krat 10?\"\n",
    ">>> poenostavi(\"Koliko stane riž, če se je od lani (1,2 €) podražil za 12 %?\")\n",
    "\"Koliko stane riž, če se je od lani (10 €) podražil za 10 %?\"\n",
    ">>> poenostavi(\"Pretvori -273,16 °C v Kelvine!\")\n",
    "\"Pretvori 10 °C v Kelvine!\"\n",
    "\n",
    "```"
   ]
  },
  {
   "cell_type": "code",
   "execution_count": 9,
   "metadata": {},
   "outputs": [
    {
     "name": "stdout",
     "output_type": "stream",
     "text": [
      "Koliko je 10 krat 10?\n",
      "Koliko stane riž, če se je od lani (10 €) podražil za 10 %?\n",
      "Pretvori 10 °C v Kelvine!\n"
     ]
    }
   ],
   "source": [
    "def poenostavi(naloga):\n",
    "    return re.sub(r\"(-)?\\d+(,\\d+)?\", \"10\", naloga)\n",
    "\n",
    "print(poenostavi(\"Koliko je 2 krat 4?\"))\n",
    "print(poenostavi(\"Koliko stane riž, če se je od lani (1,2 €) podražil za 12 %?\"))\n",
    "print(poenostavi(\"Pretvori -273,16 °C v Kelvine!\"))"
   ]
  },
  {
   "cell_type": "markdown",
   "metadata": {},
   "source": [
    "Sestavite funkcijo `enote_na_konec(besedilo)`, ki sprejme slabo prevedeno besedilo (iz angleščine v slovenščino), kjer se denarne enote pojavljajo pred številom, in ga popravi. Predpostavite lahko, da se v besedilu pojavljajo le evri in dolarji.\n",
    "\n",
    "    >>> enote_na_konec(\"Cena kave je € 2, cena čaja pa €3.\")\n",
    "    \"Cena kave je 2 €, cena čaja pa 3 €.\"\n",
    "    >>> enote_na_konec(\"$ 1 = € 1 se mi ne zdi pošten menjalni tečaj.\")\n",
    "    \"1 $ = 1 € se mi ne zdi pošten menjalni tečaj.\""
   ]
  },
  {
   "cell_type": "code",
   "execution_count": 10,
   "metadata": {},
   "outputs": [],
   "source": [
    "def enote_na_konec(besedilo):\n",
    "    return re.sub(\"(\\$|€) (\\d+(,\\d*)?)\", r\"\\2 \\1\", besedilo)\n",
    "besedilo = \"$ 1 = € 1 se mi ne zdi pošten menjalni tečaj.\"\n"
   ]
  },
  {
   "cell_type": "markdown",
   "metadata": {},
   "source": [
    "### Regularni izrazi in pandas\n",
    "\n",
    "1. Iz datoteke [`enaslovi.txt`](https://kt.ijs.si/~ljupco/lectures/papvp-2324/enaslovi.txt) preberi naslove e-pošte osmih (namišljenih) sodelavcev Univerze v Ljubljani. Uvozi te podatke in iz njih, v `pandas` sestavi podatkovno tabelo s štirimi stolpci (spremenljivkami): ime, priimek, fakulteta in enaslov.\n",
    "\n",
    "    Pri tem upoštevaj, da naslovi e-pošte na Univerzi v Ljubljani so sestavljeni po naslednjem vzorcu `ime.priimek@kratica.uni-lj.si`, pri čemer je `ime` in `priimek` očitno ustrezata imenu in priimku sodelavke, `kratica` pa kratici fakultete, kjer je zaposlena. Lahko si pomagaš s tabelo nazivov in kratic fakultet, ki ste jo sestavili med predavanji."
   ]
  },
  {
   "cell_type": "code",
   "execution_count": 11,
   "metadata": {},
   "outputs": [],
   "source": [
    "import pandas as pd\n"
   ]
  },
  {
   "cell_type": "code",
   "execution_count": 12,
   "metadata": {},
   "outputs": [],
   "source": [
    "def pridobi_ime(niz):\n",
    "    return "
   ]
  },
  {
   "cell_type": "code",
   "execution_count": 13,
   "metadata": {},
   "outputs": [
    {
     "data": {
      "text/html": [
       "<div>\n",
       "<style scoped>\n",
       "    .dataframe tbody tr th:only-of-type {\n",
       "        vertical-align: middle;\n",
       "    }\n",
       "\n",
       "    .dataframe tbody tr th {\n",
       "        vertical-align: top;\n",
       "    }\n",
       "\n",
       "    .dataframe thead th {\n",
       "        text-align: right;\n",
       "    }\n",
       "</style>\n",
       "<table border=\"1\" class=\"dataframe\">\n",
       "  <thead>\n",
       "    <tr style=\"text-align: right;\">\n",
       "      <th></th>\n",
       "      <th>enaslov</th>\n",
       "      <th>ime</th>\n",
       "      <th>priimek</th>\n",
       "      <th>kratica</th>\n",
       "    </tr>\n",
       "  </thead>\n",
       "  <tbody>\n",
       "    <tr>\n",
       "      <th>0</th>\n",
       "      <td>andrej.bozic-ceh@fdv.uni-lj.si</td>\n",
       "      <td>bozic</td>\n",
       "      <td>ceh</td>\n",
       "      <td>fdv</td>\n",
       "    </tr>\n",
       "    <tr>\n",
       "      <th>1</th>\n",
       "      <td>ivana.turk@fgg.uni-lj.si</td>\n",
       "      <td>ivana</td>\n",
       "      <td>turk</td>\n",
       "      <td>fgg</td>\n",
       "    </tr>\n",
       "    <tr>\n",
       "      <th>2</th>\n",
       "      <td>franc-david.lah@fu.uni-lj.si</td>\n",
       "      <td>david</td>\n",
       "      <td>lah</td>\n",
       "      <td>fu</td>\n",
       "    </tr>\n",
       "    <tr>\n",
       "      <th>3</th>\n",
       "      <td>petra.jerman@fmf.uni-lj.si</td>\n",
       "      <td>petra</td>\n",
       "      <td>jerman</td>\n",
       "      <td>fmf</td>\n",
       "    </tr>\n",
       "    <tr>\n",
       "      <th>4</th>\n",
       "      <td>miha.dolenc@ef.uni-lj.si</td>\n",
       "      <td>miha</td>\n",
       "      <td>dolenc</td>\n",
       "      <td>ef</td>\n",
       "    </tr>\n",
       "    <tr>\n",
       "      <th>5</th>\n",
       "      <td>zoe-rosita.novak@fa.uni-lj.si</td>\n",
       "      <td>rosita</td>\n",
       "      <td>novak</td>\n",
       "      <td>fa</td>\n",
       "    </tr>\n",
       "    <tr>\n",
       "      <th>6</th>\n",
       "      <td>jan.golob@ag.uni-lj.si</td>\n",
       "      <td>jan</td>\n",
       "      <td>golob</td>\n",
       "      <td>ag</td>\n",
       "    </tr>\n",
       "    <tr>\n",
       "      <th>7</th>\n",
       "      <td>eva.hribar-kovacic@mf.uni-lj.si</td>\n",
       "      <td>hribar</td>\n",
       "      <td>kovacic</td>\n",
       "      <td>mf</td>\n",
       "    </tr>\n",
       "  </tbody>\n",
       "</table>\n",
       "</div>"
      ],
      "text/plain": [
       "                           enaslov     ime  priimek kratica\n",
       "0   andrej.bozic-ceh@fdv.uni-lj.si   bozic      ceh     fdv\n",
       "1         ivana.turk@fgg.uni-lj.si   ivana     turk     fgg\n",
       "2     franc-david.lah@fu.uni-lj.si   david      lah      fu\n",
       "3       petra.jerman@fmf.uni-lj.si   petra   jerman     fmf\n",
       "4         miha.dolenc@ef.uni-lj.si    miha   dolenc      ef\n",
       "5    zoe-rosita.novak@fa.uni-lj.si  rosita    novak      fa\n",
       "6           jan.golob@ag.uni-lj.si     jan    golob      ag\n",
       "7  eva.hribar-kovacic@mf.uni-lj.si  hribar  kovacic      mf"
      ]
     },
     "execution_count": 13,
     "metadata": {},
     "output_type": "execute_result"
    }
   ],
   "source": [
    "enaslovi = pd.read_csv(\"data/enaslovi.txt\", header=None,names=[\"enaslov\"])\n",
    "enaslovi[[\"ime\", \"priimek\", \"kratica\"]] = enaslovi.enaslov.str.extract(\"([\\w]+).([\\w]+)@([\\w]+).uni-lj.si\", expand=True)\n",
    "enaslovi\n"
   ]
  },
  {
   "cell_type": "markdown",
   "metadata": {},
   "source": [
    "2. V datoteki [`besedilo.txt`](https://kt.ijs.si/~ljupco/lectures/papvp-2324/besedilo.txt) je izbrano besedilo iz slovenske različice enciklopedije Wikipedia. S pomočjo funkcij iz prejšnje naloge, v `pandas` sestavi tabelo `besede` s tremi spremenljivkami: dimenzijsko spremenljivko `beseda`, katere domena je množica vseh različnih besed iz besedila v datoteki `besedilo.txt`, in merjeni spremenljivki `n_samoglasnikov` in `n_soglasnikov`, ki podajata število samoglasnikov in soglasnikov v izbrani besedi."
   ]
  },
  {
   "cell_type": "code",
   "execution_count": 14,
   "metadata": {},
   "outputs": [
    {
     "data": {
      "text/plain": [
       "0           Čmrlj\n",
       "1      znanstveno\n",
       "2             ime\n",
       "3          Bombus\n",
       "4              je\n",
       "          ...    \n",
       "282          bili\n",
       "283    razširjeni\n",
       "284          Novo\n",
       "285     Zelandijo\n",
       "286     Tasmanijo\n",
       "Length: 287, dtype: object"
      ]
     },
     "execution_count": 14,
     "metadata": {},
     "output_type": "execute_result"
    }
   ],
   "source": [
    "dat = open('data/besedilo.txt', encoding='utf8')\n",
    "besedilo = dat.read()\n",
    "besede = pd.Series(re.findall(\"\\w+\", besedilo))\n",
    "besede = besede.drop_duplicates(ignore_index=True)\n",
    "besede"
   ]
  },
  {
   "cell_type": "code",
   "execution_count": 15,
   "metadata": {},
   "outputs": [
    {
     "data": {
      "text/html": [
       "<div>\n",
       "<style scoped>\n",
       "    .dataframe tbody tr th:only-of-type {\n",
       "        vertical-align: middle;\n",
       "    }\n",
       "\n",
       "    .dataframe tbody tr th {\n",
       "        vertical-align: top;\n",
       "    }\n",
       "\n",
       "    .dataframe thead th {\n",
       "        text-align: right;\n",
       "    }\n",
       "</style>\n",
       "<table border=\"1\" class=\"dataframe\">\n",
       "  <thead>\n",
       "    <tr style=\"text-align: right;\">\n",
       "      <th></th>\n",
       "      <th>beseda</th>\n",
       "      <th>samoglasniki</th>\n",
       "      <th>soglasniki</th>\n",
       "    </tr>\n",
       "  </thead>\n",
       "  <tbody>\n",
       "    <tr>\n",
       "      <th>0</th>\n",
       "      <td>Čmrlj</td>\n",
       "      <td>0</td>\n",
       "      <td>5</td>\n",
       "    </tr>\n",
       "    <tr>\n",
       "      <th>1</th>\n",
       "      <td>znanstveno</td>\n",
       "      <td>3</td>\n",
       "      <td>7</td>\n",
       "    </tr>\n",
       "    <tr>\n",
       "      <th>2</th>\n",
       "      <td>ime</td>\n",
       "      <td>2</td>\n",
       "      <td>1</td>\n",
       "    </tr>\n",
       "    <tr>\n",
       "      <th>3</th>\n",
       "      <td>Bombus</td>\n",
       "      <td>2</td>\n",
       "      <td>4</td>\n",
       "    </tr>\n",
       "    <tr>\n",
       "      <th>4</th>\n",
       "      <td>je</td>\n",
       "      <td>1</td>\n",
       "      <td>1</td>\n",
       "    </tr>\n",
       "    <tr>\n",
       "      <th>...</th>\n",
       "      <td>...</td>\n",
       "      <td>...</td>\n",
       "      <td>...</td>\n",
       "    </tr>\n",
       "    <tr>\n",
       "      <th>282</th>\n",
       "      <td>bili</td>\n",
       "      <td>2</td>\n",
       "      <td>2</td>\n",
       "    </tr>\n",
       "    <tr>\n",
       "      <th>283</th>\n",
       "      <td>razširjeni</td>\n",
       "      <td>4</td>\n",
       "      <td>6</td>\n",
       "    </tr>\n",
       "    <tr>\n",
       "      <th>284</th>\n",
       "      <td>Novo</td>\n",
       "      <td>2</td>\n",
       "      <td>2</td>\n",
       "    </tr>\n",
       "    <tr>\n",
       "      <th>285</th>\n",
       "      <td>Zelandijo</td>\n",
       "      <td>4</td>\n",
       "      <td>5</td>\n",
       "    </tr>\n",
       "    <tr>\n",
       "      <th>286</th>\n",
       "      <td>Tasmanijo</td>\n",
       "      <td>4</td>\n",
       "      <td>5</td>\n",
       "    </tr>\n",
       "  </tbody>\n",
       "</table>\n",
       "<p>287 rows × 3 columns</p>\n",
       "</div>"
      ],
      "text/plain": [
       "         beseda  samoglasniki  soglasniki\n",
       "0         Čmrlj             0           5\n",
       "1    znanstveno             3           7\n",
       "2           ime             2           1\n",
       "3        Bombus             2           4\n",
       "4            je             1           1\n",
       "..          ...           ...         ...\n",
       "282        bili             2           2\n",
       "283  razširjeni             4           6\n",
       "284        Novo             2           2\n",
       "285   Zelandijo             4           5\n",
       "286   Tasmanijo             4           5\n",
       "\n",
       "[287 rows x 3 columns]"
      ]
     },
     "execution_count": 15,
     "metadata": {},
     "output_type": "execute_result"
    }
   ],
   "source": [
    "pd.DataFrame({\n",
    "    'beseda': besede,\n",
    "    'samoglasniki': besede.apply(n_samoglasnikov),\n",
    "    'soglasniki': besede.apply(n_soglasnikov)\n",
    "})"
   ]
  },
  {
   "cell_type": "markdown",
   "metadata": {},
   "source": [
    "## Zajem podatkov s spleta"
   ]
  },
  {
   "cell_type": "markdown",
   "metadata": {},
   "source": [
    "1. V članku [Statistične regije Slovenije](https://sl.wikipedia.org/wiki/Statisti%C4%8Dne_regije_Slovenije) v slovenski različici spletne enciklopedije Wikipedia je poglavje _Občine po statističnih regijah_, ki podaja sezname občin za vsako izmed dvanajstih statističnih regij v Sloveniji.\n",
    "    \n",
    "    Napiši program v `pandas`, ki iz podatkov v tem članku sestavi urejeno podatkovno tabelo `obcina_regija` z dimenzijsko spremenljivko `obcina` in merjeno spremenljivko `regija`, ki določi regijo izbrane občine v Sloveniji.\n"
   ]
  },
  {
   "cell_type": "code",
   "execution_count": 16,
   "metadata": {},
   "outputs": [
    {
     "data": {
      "text/plain": [
       "[    Število           Statistična regija  Prebivalstvo (1. 7. 2022)[7]  \\\n",
       " 0         1              Pomurska regija                       114.163   \n",
       " 1         2             Podravska regija                       327.858   \n",
       " 2         3               Koroška regija                        70.648   \n",
       " 3         4             Savinjska regija                       259.306   \n",
       " 4         5              Zasavska regija                        56.942   \n",
       " 5         6              Posavska regija                        75.749   \n",
       " 6         7        Jugovzhodna Slovenija                       146.429   \n",
       " 7         8     Osrednjeslovenska regija                       556.862   \n",
       " 8         9             Gorenjska regija                       210.747   \n",
       " 9        10  Primorsko-notranjska regija                        53.400   \n",
       " 10       11               Goriška regija                       118.202   \n",
       " 11       12         Obalno-kraška regija                       118.426   \n",
       " \n",
       "     Površina, km2 [8] (1. 1. 2022)  \n",
       " 0                            1.336  \n",
       " 1                            2.170  \n",
       " 2                            1.041  \n",
       " 3                            2.301  \n",
       " 4                          485.000  \n",
       " 5                          968.000  \n",
       " 6                            2.675  \n",
       " 7                            2.334  \n",
       " 8                            2.137  \n",
       " 9                            1.456  \n",
       " 10                           2.325  \n",
       " 11                           1.043  ,\n",
       "                                                    0  \\\n",
       " 0  Občina Apače Občina Beltinci Občina Cankova Ob...   \n",
       " \n",
       "                                                    1  \\\n",
       " 0  Občina Grad Občina Hodoš Občina Kobilje Občina...   \n",
       " \n",
       "                                                    2  \\\n",
       " 0  Občina Moravske Toplice Mestna občina Murska S...   \n",
       " \n",
       "                                                    3  \n",
       " 0  Občina Sveti Jurij ob Ščavnici Občina Šalovci ...  ,\n",
       "                                                    0  \\\n",
       " 0  Občina Benedikt Občina Cerkvenjak Občina Cirku...   \n",
       " \n",
       "                                                    1  \\\n",
       " 0  Občina Kungota Občina Lenart Občina Lovrenc na...   \n",
       " \n",
       "                                                    2  \\\n",
       " 0  Občina Pesnica Občina Podlehnik Občina Poljčan...   \n",
       " \n",
       "                                                    3  \n",
       " 0  Občina Sveta Ana Občina Sveta Trojica v Sloven...  ,\n",
       "                                                    0  \\\n",
       " 0  Občina Črna na Koroškem Občina Dravograd Občin...   \n",
       " \n",
       "                                              1  \\\n",
       " 0  Občina Mislinja Občina Muta Občina Podvelka   \n",
       " \n",
       "                                                    2  \\\n",
       " 0  Občina Prevalje Občina Radlje ob Dravi Občina ...   \n",
       " \n",
       "                                                    3  \n",
       " 0  Občina Ribnica na Pohorju Mestna občina Sloven...  ,\n",
       "                                                    0  \\\n",
       " 0  Občina Braslovče Mestna občina Celje Občina Do...   \n",
       " \n",
       "                                                    1  \\\n",
       " 0  Občina Luče Občina Mozirje Občina Nazarje Obči...   \n",
       " \n",
       "                                                    2  \\\n",
       " 0  Občina Rogaška Slatina Občina Rogatec Občina S...   \n",
       " \n",
       "                                                    3  \n",
       " 0  Občina Štore Občina Tabor Mestna občina Velenj...  ,\n",
       "                  0              1                2                       3\n",
       " 0  Občina Hrastnik  Občina Litija  Občina Trbovlje  Občina Zagorje ob Savi,\n",
       "                           0               1                            2  \\\n",
       " 0  Občina Bistrica ob Sotli  Občina Brežice  Občina Kostanjevica na Krki   \n",
       " \n",
       "               3              4               5  \n",
       " 0  Občina Krško  Občina Radeče  Občina Sevnica  ,\n",
       "                                                    0  \\\n",
       " 0  Občina Črnomelj Občina Dolenjske Toplice Občin...   \n",
       " \n",
       "                                                    1  \\\n",
       " 0  Občina Mirna Občina Mirna Peč Občina Mokronog ...   \n",
       " \n",
       "                                                    2  \\\n",
       " 0  Občina Ribnica Občina Semič Občina Sodražica O...   \n",
       " \n",
       "                                                    3  \n",
       " 0  Občina Šentrupert Občina Škocjan Občina Šmarje...  ,\n",
       "                                                    0  \\\n",
       " 0  Občina Borovnica Občina Brezovica Občina Dobre...   \n",
       " \n",
       "                                                    1  \\\n",
       " 0  Občina Horjul Občina Ig Občina Ivančna Gorica ...   \n",
       " \n",
       "                                                    2  \\\n",
       " 0  Občina Log - Dragomer Občina Logatec Občina Lu...   \n",
       " \n",
       "                                                    3  \n",
       " 0  Občina Škofljica Občina Šmartno pri Litiji Obč...  ,\n",
       "                                                    0  \\\n",
       " 0  Občina Bled Občina Bohinj Občina Cerklje na Go...   \n",
       " \n",
       "                                                    1  \\\n",
       " 0  Občina Jesenice Občina Jezersko Mestna občina ...   \n",
       " \n",
       "                                                    2  \\\n",
       " 0  Občina Preddvor Občina Radovljica Občina Šenču...   \n",
       " \n",
       "                                                    3  \n",
       " 0  Občina Tržič Občina Železniki Občina Žiri Obči...  ,\n",
       "                               0                                            1  \\\n",
       " 0  Občina Bloke Občina Cerknica  Občina Ilirska Bistrica Občina Loška dolina   \n",
       " \n",
       "               2                3  \n",
       " 0  Občina Pivka  Občina Postojna  ,\n",
       "                                                    0  \\\n",
       " 0  Občina Ajdovščina Občina Bovec Občina Brda Obč...   \n",
       " \n",
       "                                                    1  \\\n",
       " 0  Občina Idrija Občina Kanal ob Soči Občina Kobarid   \n",
       " \n",
       "                                                    2  \\\n",
       " 0  Občina Miren - Kostanjevica Mestna občina Nova...   \n",
       " \n",
       "                                                    3  \n",
       " 0  Občina Šempeter - Vrtojba Občina Tolmin Občina...  ,\n",
       "                               0                                     1  \\\n",
       " 0  Občina Ankaran Občina Divača  Občina Hrpelje - Kozina Občina Izola   \n",
       " \n",
       "                                   2                           3  \n",
       " 0  Občina Komen Mestna občina Koper  Občina Piran Občina Sežana  ,\n",
       "                 ppuRegionalizacija Slovenije  \\\n",
       " 0                     Pokrajine (neformalne)   \n",
       " 1                         Statistične regije   \n",
       " 2                              Volilne enote   \n",
       " 3                         Zgodovinske tvorbe   \n",
       " 4                            Rimske province   \n",
       " 5                 Zgodnjesrednjeveške države   \n",
       " 6  Zgodovinske dežele (Habsburška monarhija)   \n",
       " 7                      Cerkvenoupravne enote   \n",
       " 8                         Cerkvene pokrajine   \n",
       " 9                                    Škofije   \n",
       " \n",
       "                       ppuRegionalizacija Slovenije.1  \\\n",
       " 0  Gorenjska Štajerska Prekmurje Koroška Notranjs...   \n",
       " 1  Pomurska Podravska Koroška Savinjska Zasavska ...   \n",
       " 2  1. Kranj 2. Postojna 3. Ljubljana Center 4. Lj...   \n",
       " 3                                 Zgodovinske tvorbe   \n",
       " 4  Panonia (Panonia Superior) Noricum Italia (Reg...   \n",
       " 5  Samovo kraljestvo Karantanija Karniola Spodnja...   \n",
       " 6  Goriška Koroška Kranjska Štajerska Istra Trst ...   \n",
       " 7                              Cerkvenoupravne enote   \n",
       " 8                                  Ljubljana Maribor   \n",
       " 9  Ljubljana Koper Novo mesto Maribor Celje Mursk...   \n",
       " \n",
       "   ppuRegionalizacija Slovenije.2  \n",
       " 0                  Slovenski grb  \n",
       " 1                  Slovenski grb  \n",
       " 2                  Slovenski grb  \n",
       " 3                  Slovenski grb  \n",
       " 4                  Slovenski grb  \n",
       " 5                  Slovenski grb  \n",
       " 6                  Slovenski grb  \n",
       " 7                  Slovenski grb  \n",
       " 8                  Slovenski grb  \n",
       " 9                  Slovenski grb  ,\n",
       "          ppu Slovenija                                    ppu Slovenija.1\n",
       " 0            Zgodovina  Časovni pregled Noriško kraljestvo/Panonija Na...\n",
       " 1   Politika in uprava  Predsednik Predsednik Vlade Državni zbor Držav...\n",
       " 2           Geografija  Gore Doline Hidrologija (Reke Plovne poti Jeze...\n",
       " 3         Gospodarstvo  Banka Slovenije Banke Davki Ljubljanska borza ...\n",
       " 4          Demografija  Slovenci Koroški Slovenci Beneški Slovenci Por...\n",
       " 5              Kultura  Arhitektura Filmografija Glasba Izobraževanje ...\n",
       " 6          Arhitektura           Gradovi Dvorci Trdnjave Samostani Cerkve\n",
       " 7             Religija  Rimskokatoliška cerkev Evangeličanska cerkev P...\n",
       " 8               Promet  Adria Airways Avtobusi Ceste Letališče Jožeta ...\n",
       " 9               Mediji  Časopisi Komunikacije (Internet Kibernetika) M...\n",
       " 10             Simboli  Državna zastava Državni grb Zdravljica Triglav...\n",
       " 11               Šport  Športnik leta Bloudkovo priznanje Olimpijski k...]"
      ]
     },
     "execution_count": 16,
     "metadata": {},
     "output_type": "execute_result"
    }
   ],
   "source": [
    "pd.read_html(\"https://sl.wikipedia.org/wiki/Statisti%C4%8Dne_regije_Slovenije\")"
   ]
  },
  {
   "cell_type": "code",
   "execution_count": 17,
   "metadata": {},
   "outputs": [],
   "source": [
    "from bs4 import BeautifulSoup\n",
    "import requests"
   ]
  },
  {
   "cell_type": "code",
   "execution_count": 18,
   "metadata": {},
   "outputs": [],
   "source": [
    "from pprint import pprint"
   ]
  },
  {
   "cell_type": "code",
   "execution_count": 19,
   "metadata": {},
   "outputs": [],
   "source": [
    "x = requests.get(\"https://sl.wikipedia.org/wiki/Statisti%C4%8Dne_regije_Slovenije\")\n",
    "html = x.content"
   ]
  },
  {
   "cell_type": "code",
   "execution_count": 20,
   "metadata": {},
   "outputs": [],
   "source": [
    "def get_table(tag):\n",
    "    return tag.parent.next_sibling.next_sibling.next_sibling.next_sibling\n",
    "\n",
    "def table_to_list(table):\n",
    "    return [li.string for li in table.find_all(\"li\")]"
   ]
  },
  {
   "cell_type": "code",
   "execution_count": 21,
   "metadata": {},
   "outputs": [
    {
     "data": {
      "text/html": [
       "<div>\n",
       "<style scoped>\n",
       "    .dataframe tbody tr th:only-of-type {\n",
       "        vertical-align: middle;\n",
       "    }\n",
       "\n",
       "    .dataframe tbody tr th {\n",
       "        vertical-align: top;\n",
       "    }\n",
       "\n",
       "    .dataframe thead th {\n",
       "        text-align: right;\n",
       "    }\n",
       "</style>\n",
       "<table border=\"1\" class=\"dataframe\">\n",
       "  <thead>\n",
       "    <tr style=\"text-align: right;\">\n",
       "      <th></th>\n",
       "      <th>regija</th>\n",
       "      <th>obcina</th>\n",
       "    </tr>\n",
       "  </thead>\n",
       "  <tbody>\n",
       "    <tr>\n",
       "      <th>0</th>\n",
       "      <td>pomurska statistična regija</td>\n",
       "      <td>Občina Apače</td>\n",
       "    </tr>\n",
       "    <tr>\n",
       "      <th>1</th>\n",
       "      <td>pomurska statistična regija</td>\n",
       "      <td>Občina Beltinci</td>\n",
       "    </tr>\n",
       "    <tr>\n",
       "      <th>2</th>\n",
       "      <td>pomurska statistična regija</td>\n",
       "      <td>Občina Cankova</td>\n",
       "    </tr>\n",
       "    <tr>\n",
       "      <th>3</th>\n",
       "      <td>pomurska statistična regija</td>\n",
       "      <td>Občina Črenšovci</td>\n",
       "    </tr>\n",
       "    <tr>\n",
       "      <th>4</th>\n",
       "      <td>pomurska statistična regija</td>\n",
       "      <td>Občina Dobrovnik</td>\n",
       "    </tr>\n",
       "    <tr>\n",
       "      <th>...</th>\n",
       "      <td>...</td>\n",
       "      <td>...</td>\n",
       "    </tr>\n",
       "    <tr>\n",
       "      <th>186</th>\n",
       "      <td>obalno-kraška statistična regija</td>\n",
       "      <td>Občina Izola</td>\n",
       "    </tr>\n",
       "    <tr>\n",
       "      <th>187</th>\n",
       "      <td>obalno-kraška statistična regija</td>\n",
       "      <td>Občina Komen</td>\n",
       "    </tr>\n",
       "    <tr>\n",
       "      <th>188</th>\n",
       "      <td>obalno-kraška statistična regija</td>\n",
       "      <td>Mestna občina Koper</td>\n",
       "    </tr>\n",
       "    <tr>\n",
       "      <th>189</th>\n",
       "      <td>obalno-kraška statistična regija</td>\n",
       "      <td>Občina Piran</td>\n",
       "    </tr>\n",
       "    <tr>\n",
       "      <th>190</th>\n",
       "      <td>obalno-kraška statistična regija</td>\n",
       "      <td>Občina Sežana</td>\n",
       "    </tr>\n",
       "  </tbody>\n",
       "</table>\n",
       "<p>191 rows × 2 columns</p>\n",
       "</div>"
      ],
      "text/plain": [
       "                               regija               obcina\n",
       "0         pomurska statistična regija         Občina Apače\n",
       "1         pomurska statistična regija      Občina Beltinci\n",
       "2         pomurska statistična regija       Občina Cankova\n",
       "3         pomurska statistična regija     Občina Črenšovci\n",
       "4         pomurska statistična regija     Občina Dobrovnik\n",
       "..                                ...                  ...\n",
       "186  obalno-kraška statistična regija         Občina Izola\n",
       "187  obalno-kraška statistična regija         Občina Komen\n",
       "188  obalno-kraška statistična regija  Mestna občina Koper\n",
       "189  obalno-kraška statistična regija         Občina Piran\n",
       "190  obalno-kraška statistična regija        Občina Sežana\n",
       "\n",
       "[191 rows x 2 columns]"
      ]
     },
     "execution_count": 21,
     "metadata": {},
     "output_type": "execute_result"
    }
   ],
   "source": [
    "pattern = re.compile(r\"\\w+ statistična regija\")\n",
    "soup = BeautifulSoup(html, \"html.parser\")\n",
    "\n",
    "data = []\n",
    "for region in soup.find_all(\"span\", attrs={\"class\":\"mw-headline\"}, string=pattern):\n",
    "    data.extend((region.text, el) for el in table_to_list(get_table(region)))\n",
    "    # print(region.text)\n",
    "    # print(table_to_list(get_table(region)))\n",
    "regs = pd.DataFrame(data, columns=[\"regija\", \"obcina\"])\n",
    "regs"
   ]
  },
  {
   "cell_type": "code",
   "execution_count": 22,
   "metadata": {},
   "outputs": [
    {
     "data": {
      "text/html": [
       "<div>\n",
       "<style scoped>\n",
       "    .dataframe tbody tr th:only-of-type {\n",
       "        vertical-align: middle;\n",
       "    }\n",
       "\n",
       "    .dataframe tbody tr th {\n",
       "        vertical-align: top;\n",
       "    }\n",
       "\n",
       "    .dataframe thead th {\n",
       "        text-align: right;\n",
       "    }\n",
       "</style>\n",
       "<table border=\"1\" class=\"dataframe\">\n",
       "  <thead>\n",
       "    <tr style=\"text-align: right;\">\n",
       "      <th></th>\n",
       "      <th>regija</th>\n",
       "      <th>obcina</th>\n",
       "    </tr>\n",
       "  </thead>\n",
       "  <tbody>\n",
       "    <tr>\n",
       "      <th>0</th>\n",
       "      <td>Pomurska</td>\n",
       "      <td>Občina Apače</td>\n",
       "    </tr>\n",
       "    <tr>\n",
       "      <th>1</th>\n",
       "      <td>Pomurska</td>\n",
       "      <td>Občina Beltinci</td>\n",
       "    </tr>\n",
       "    <tr>\n",
       "      <th>2</th>\n",
       "      <td>Pomurska</td>\n",
       "      <td>Občina Cankova</td>\n",
       "    </tr>\n",
       "    <tr>\n",
       "      <th>3</th>\n",
       "      <td>Pomurska</td>\n",
       "      <td>Občina Črenšovci</td>\n",
       "    </tr>\n",
       "    <tr>\n",
       "      <th>4</th>\n",
       "      <td>Pomurska</td>\n",
       "      <td>Občina Dobrovnik</td>\n",
       "    </tr>\n",
       "    <tr>\n",
       "      <th>...</th>\n",
       "      <td>...</td>\n",
       "      <td>...</td>\n",
       "    </tr>\n",
       "    <tr>\n",
       "      <th>186</th>\n",
       "      <td>Obalno-kraška</td>\n",
       "      <td>Občina Izola</td>\n",
       "    </tr>\n",
       "    <tr>\n",
       "      <th>187</th>\n",
       "      <td>Obalno-kraška</td>\n",
       "      <td>Občina Komen</td>\n",
       "    </tr>\n",
       "    <tr>\n",
       "      <th>188</th>\n",
       "      <td>Obalno-kraška</td>\n",
       "      <td>Mestna občina Koper</td>\n",
       "    </tr>\n",
       "    <tr>\n",
       "      <th>189</th>\n",
       "      <td>Obalno-kraška</td>\n",
       "      <td>Občina Piran</td>\n",
       "    </tr>\n",
       "    <tr>\n",
       "      <th>190</th>\n",
       "      <td>Obalno-kraška</td>\n",
       "      <td>Občina Sežana</td>\n",
       "    </tr>\n",
       "  </tbody>\n",
       "</table>\n",
       "<p>191 rows × 2 columns</p>\n",
       "</div>"
      ],
      "text/plain": [
       "            regija               obcina\n",
       "0         Pomurska         Občina Apače\n",
       "1         Pomurska      Občina Beltinci\n",
       "2         Pomurska       Občina Cankova\n",
       "3         Pomurska     Občina Črenšovci\n",
       "4         Pomurska     Občina Dobrovnik\n",
       "..             ...                  ...\n",
       "186  Obalno-kraška         Občina Izola\n",
       "187  Obalno-kraška         Občina Komen\n",
       "188  Obalno-kraška  Mestna občina Koper\n",
       "189  Obalno-kraška         Občina Piran\n",
       "190  Obalno-kraška        Občina Sežana\n",
       "\n",
       "[191 rows x 2 columns]"
      ]
     },
     "execution_count": 22,
     "metadata": {},
     "output_type": "execute_result"
    }
   ],
   "source": [
    "pattern = re.compile(r\"([\\w-]+) statistična regija\")\n",
    "regs.regija = regs.regija.str.replace(pattern, lambda m: m.group(1).capitalize(), regex=True)\n",
    "regs"
   ]
  },
  {
   "cell_type": "code",
   "execution_count": 25,
   "metadata": {},
   "outputs": [
    {
     "data": {
      "text/html": [
       "<div>\n",
       "<style scoped>\n",
       "    .dataframe tbody tr th:only-of-type {\n",
       "        vertical-align: middle;\n",
       "    }\n",
       "\n",
       "    .dataframe tbody tr th {\n",
       "        vertical-align: top;\n",
       "    }\n",
       "\n",
       "    .dataframe thead th {\n",
       "        text-align: right;\n",
       "    }\n",
       "</style>\n",
       "<table border=\"1\" class=\"dataframe\">\n",
       "  <thead>\n",
       "    <tr style=\"text-align: right;\">\n",
       "      <th></th>\n",
       "      <th>obcina</th>\n",
       "      <th>regija</th>\n",
       "    </tr>\n",
       "  </thead>\n",
       "  <tbody>\n",
       "    <tr>\n",
       "      <th>0</th>\n",
       "      <td>Apače</td>\n",
       "      <td>Pomurska</td>\n",
       "    </tr>\n",
       "    <tr>\n",
       "      <th>1</th>\n",
       "      <td>Beltinci</td>\n",
       "      <td>Pomurska</td>\n",
       "    </tr>\n",
       "    <tr>\n",
       "      <th>2</th>\n",
       "      <td>Cankova</td>\n",
       "      <td>Pomurska</td>\n",
       "    </tr>\n",
       "    <tr>\n",
       "      <th>3</th>\n",
       "      <td>Črenšovci</td>\n",
       "      <td>Pomurska</td>\n",
       "    </tr>\n",
       "    <tr>\n",
       "      <th>4</th>\n",
       "      <td>Dobrovnik</td>\n",
       "      <td>Pomurska</td>\n",
       "    </tr>\n",
       "    <tr>\n",
       "      <th>...</th>\n",
       "      <td>...</td>\n",
       "      <td>...</td>\n",
       "    </tr>\n",
       "    <tr>\n",
       "      <th>186</th>\n",
       "      <td>Izola</td>\n",
       "      <td>Obalno-kraška</td>\n",
       "    </tr>\n",
       "    <tr>\n",
       "      <th>187</th>\n",
       "      <td>Komen</td>\n",
       "      <td>Obalno-kraška</td>\n",
       "    </tr>\n",
       "    <tr>\n",
       "      <th>188</th>\n",
       "      <td>Koper</td>\n",
       "      <td>Obalno-kraška</td>\n",
       "    </tr>\n",
       "    <tr>\n",
       "      <th>189</th>\n",
       "      <td>Piran</td>\n",
       "      <td>Obalno-kraška</td>\n",
       "    </tr>\n",
       "    <tr>\n",
       "      <th>190</th>\n",
       "      <td>Sežana</td>\n",
       "      <td>Obalno-kraška</td>\n",
       "    </tr>\n",
       "  </tbody>\n",
       "</table>\n",
       "<p>191 rows × 2 columns</p>\n",
       "</div>"
      ],
      "text/plain": [
       "        obcina         regija\n",
       "0        Apače       Pomurska\n",
       "1     Beltinci       Pomurska\n",
       "2      Cankova       Pomurska\n",
       "3    Črenšovci       Pomurska\n",
       "4    Dobrovnik       Pomurska\n",
       "..         ...            ...\n",
       "186      Izola  Obalno-kraška\n",
       "187      Komen  Obalno-kraška\n",
       "188      Koper  Obalno-kraška\n",
       "189      Piran  Obalno-kraška\n",
       "190     Sežana  Obalno-kraška\n",
       "\n",
       "[191 rows x 2 columns]"
      ]
     },
     "execution_count": 25,
     "metadata": {},
     "output_type": "execute_result"
    }
   ],
   "source": [
    "pattern = re.compile(r\"([mM]estna )?[Oo]bčina ([\\w -]+)\")\n",
    "# regs.obcina = regs.obcina.str.replace(pattern, r\"\\1\", regex=True)\n",
    "regs.obcina = regs.obcina.str.replace(pattern, r\"\\2\", regex=True)\n",
    "regs = regs[['obcina', 'regija']]\n",
    "regs"
   ]
  },
  {
   "cell_type": "markdown",
   "metadata": {},
   "source": [
    "2. Iz članka omenjenega v prejšnji nalogi uvozi v Python podatkovno tabelo (glej poglavje _Statistične regije_ v tem članku), ki za vsako izmed dvanajstih statističnih regij poda število prebiralcev in površino v kvadratnih kilometrih."
   ]
  },
  {
   "cell_type": "code",
   "execution_count": 37,
   "metadata": {},
   "outputs": [
    {
     "data": {
      "text/html": [
       "<div>\n",
       "<style scoped>\n",
       "    .dataframe tbody tr th:only-of-type {\n",
       "        vertical-align: middle;\n",
       "    }\n",
       "\n",
       "    .dataframe tbody tr th {\n",
       "        vertical-align: top;\n",
       "    }\n",
       "\n",
       "    .dataframe thead th {\n",
       "        text-align: right;\n",
       "    }\n",
       "</style>\n",
       "<table border=\"1\" class=\"dataframe\">\n",
       "  <thead>\n",
       "    <tr style=\"text-align: right;\">\n",
       "      <th></th>\n",
       "      <th>statisticna_regija</th>\n",
       "      <th>prebivalstvo</th>\n",
       "      <th>povrsina</th>\n",
       "    </tr>\n",
       "    <tr>\n",
       "      <th>Število</th>\n",
       "      <th></th>\n",
       "      <th></th>\n",
       "      <th></th>\n",
       "    </tr>\n",
       "  </thead>\n",
       "  <tbody>\n",
       "    <tr>\n",
       "      <th>1</th>\n",
       "      <td>Pomurska regija</td>\n",
       "      <td>114163</td>\n",
       "      <td>1336</td>\n",
       "    </tr>\n",
       "    <tr>\n",
       "      <th>2</th>\n",
       "      <td>Podravska regija</td>\n",
       "      <td>327858</td>\n",
       "      <td>2170</td>\n",
       "    </tr>\n",
       "    <tr>\n",
       "      <th>3</th>\n",
       "      <td>Koroška regija</td>\n",
       "      <td>70648</td>\n",
       "      <td>1041</td>\n",
       "    </tr>\n",
       "    <tr>\n",
       "      <th>4</th>\n",
       "      <td>Savinjska regija</td>\n",
       "      <td>259306</td>\n",
       "      <td>2301</td>\n",
       "    </tr>\n",
       "    <tr>\n",
       "      <th>5</th>\n",
       "      <td>Zasavska regija</td>\n",
       "      <td>56942</td>\n",
       "      <td>485</td>\n",
       "    </tr>\n",
       "    <tr>\n",
       "      <th>6</th>\n",
       "      <td>Posavska regija</td>\n",
       "      <td>75749</td>\n",
       "      <td>968</td>\n",
       "    </tr>\n",
       "    <tr>\n",
       "      <th>7</th>\n",
       "      <td>Jugovzhodna Slovenija</td>\n",
       "      <td>146429</td>\n",
       "      <td>2675</td>\n",
       "    </tr>\n",
       "    <tr>\n",
       "      <th>8</th>\n",
       "      <td>Osrednjeslovenska regija</td>\n",
       "      <td>556862</td>\n",
       "      <td>2334</td>\n",
       "    </tr>\n",
       "    <tr>\n",
       "      <th>9</th>\n",
       "      <td>Gorenjska regija</td>\n",
       "      <td>210747</td>\n",
       "      <td>2137</td>\n",
       "    </tr>\n",
       "    <tr>\n",
       "      <th>10</th>\n",
       "      <td>Primorsko-notranjska regija</td>\n",
       "      <td>53400</td>\n",
       "      <td>1456</td>\n",
       "    </tr>\n",
       "    <tr>\n",
       "      <th>11</th>\n",
       "      <td>Goriška regija</td>\n",
       "      <td>118202</td>\n",
       "      <td>2325</td>\n",
       "    </tr>\n",
       "    <tr>\n",
       "      <th>12</th>\n",
       "      <td>Obalno-kraška regija</td>\n",
       "      <td>118426</td>\n",
       "      <td>1043</td>\n",
       "    </tr>\n",
       "  </tbody>\n",
       "</table>\n",
       "</div>"
      ],
      "text/plain": [
       "                  statisticna_regija  prebivalstvo  povrsina\n",
       "Število                                                     \n",
       "1                    Pomurska regija        114163      1336\n",
       "2                   Podravska regija        327858      2170\n",
       "3                     Koroška regija         70648      1041\n",
       "4                   Savinjska regija        259306      2301\n",
       "5                    Zasavska regija         56942       485\n",
       "6                    Posavska regija         75749       968\n",
       "7              Jugovzhodna Slovenija        146429      2675\n",
       "8           Osrednjeslovenska regija        556862      2334\n",
       "9                   Gorenjska regija        210747      2137\n",
       "10       Primorsko-notranjska regija         53400      1456\n",
       "11                    Goriška regija        118202      2325\n",
       "12              Obalno-kraška regija        118426      1043"
      ]
     },
     "execution_count": 37,
     "metadata": {},
     "output_type": "execute_result"
    }
   ],
   "source": [
    "prebivalstvo = pd.read_html(\"https://sl.wikipedia.org/wiki/Statisti%C4%8Dne_regije_Slovenije\", index_col=0, decimal=',', thousands='.')[0]\n",
    "prebivalstvo.columns = ['statisticna_regija', 'prebivalstvo', 'povrsina']\n",
    "prebivalstvo"
   ]
  },
  {
   "cell_type": "code",
   "execution_count": 39,
   "metadata": {},
   "outputs": [
    {
     "name": "stdout",
     "output_type": "stream",
     "text": [
      "114163\n"
     ]
    },
    {
     "data": {
      "text/plain": [
       "statisticna_regija    object\n",
       "prebivalstvo           int64\n",
       "povrsina               int64\n",
       "dtype: object"
      ]
     },
     "execution_count": 39,
     "metadata": {},
     "output_type": "execute_result"
    }
   ],
   "source": [
    "print(int(prebivalstvo.loc[1, 'prebivalstvo']))\n",
    "prebivalstvo.dtypes"
   ]
  },
  {
   "cell_type": "markdown",
   "metadata": {},
   "source": [
    "3. Dokončaj uvoz tabele s podatki o nominalnem družbenem proizvodu v različnih državah iz [članka](https://en.wikipedia.org/wiki/List_of_countries_by_GDP_(nominal)). Podatkovna tabela naj ima štiri stolpce (spremenljivke): država, celina, leto in bdp. Pri uvozu podatkov pazi na to, da bodo podatki ustrezno očiščeni in urejeni ter tipi posameznih spremenljivk pravilno nastavljeni."
   ]
  },
  {
   "cell_type": "code",
   "execution_count": 49,
   "metadata": {},
   "outputs": [
    {
     "data": {
      "text/html": [
       "<div>\n",
       "<style scoped>\n",
       "    .dataframe tbody tr th:only-of-type {\n",
       "        vertical-align: middle;\n",
       "    }\n",
       "\n",
       "    .dataframe tbody tr th {\n",
       "        vertical-align: top;\n",
       "    }\n",
       "\n",
       "    .dataframe thead tr th {\n",
       "        text-align: left;\n",
       "    }\n",
       "</style>\n",
       "<table border=\"1\" class=\"dataframe\">\n",
       "  <thead>\n",
       "    <tr>\n",
       "      <th></th>\n",
       "      <th>Country/Territory</th>\n",
       "      <th>UN region</th>\n",
       "      <th colspan=\"2\" halign=\"left\">IMF[1][13]</th>\n",
       "      <th colspan=\"2\" halign=\"left\">World Bank[14]</th>\n",
       "      <th colspan=\"2\" halign=\"left\">United Nations[15]</th>\n",
       "    </tr>\n",
       "    <tr>\n",
       "      <th></th>\n",
       "      <th>Country/Territory</th>\n",
       "      <th>UN region</th>\n",
       "      <th>Forecast</th>\n",
       "      <th>Year</th>\n",
       "      <th>Estimate</th>\n",
       "      <th>Year</th>\n",
       "      <th>Estimate</th>\n",
       "      <th>Year</th>\n",
       "    </tr>\n",
       "  </thead>\n",
       "  <tbody>\n",
       "    <tr>\n",
       "      <th>0</th>\n",
       "      <td>World</td>\n",
       "      <td>—</td>\n",
       "      <td>104476432</td>\n",
       "      <td>2023</td>\n",
       "      <td>100562011</td>\n",
       "      <td>2022</td>\n",
       "      <td>96698005</td>\n",
       "      <td>2021</td>\n",
       "    </tr>\n",
       "    <tr>\n",
       "      <th>1</th>\n",
       "      <td>United States</td>\n",
       "      <td>Americas</td>\n",
       "      <td>26949643</td>\n",
       "      <td>2023</td>\n",
       "      <td>25462700</td>\n",
       "      <td>2022</td>\n",
       "      <td>23315081</td>\n",
       "      <td>2021</td>\n",
       "    </tr>\n",
       "    <tr>\n",
       "      <th>2</th>\n",
       "      <td>China</td>\n",
       "      <td>Asia</td>\n",
       "      <td>17700899</td>\n",
       "      <td>[n 1]2023</td>\n",
       "      <td>17963171</td>\n",
       "      <td>[n 3]2022</td>\n",
       "      <td>17734131</td>\n",
       "      <td>[n 1]2021</td>\n",
       "    </tr>\n",
       "    <tr>\n",
       "      <th>3</th>\n",
       "      <td>Germany</td>\n",
       "      <td>Europe</td>\n",
       "      <td>4429838</td>\n",
       "      <td>2023</td>\n",
       "      <td>4072192</td>\n",
       "      <td>2022</td>\n",
       "      <td>4259935</td>\n",
       "      <td>2021</td>\n",
       "    </tr>\n",
       "    <tr>\n",
       "      <th>4</th>\n",
       "      <td>Japan</td>\n",
       "      <td>Asia</td>\n",
       "      <td>4230862</td>\n",
       "      <td>2023</td>\n",
       "      <td>4231141</td>\n",
       "      <td>2022</td>\n",
       "      <td>4940878</td>\n",
       "      <td>2021</td>\n",
       "    </tr>\n",
       "    <tr>\n",
       "      <th>...</th>\n",
       "      <td>...</td>\n",
       "      <td>...</td>\n",
       "      <td>...</td>\n",
       "      <td>...</td>\n",
       "      <td>...</td>\n",
       "      <td>...</td>\n",
       "      <td>...</td>\n",
       "      <td>...</td>\n",
       "    </tr>\n",
       "    <tr>\n",
       "      <th>209</th>\n",
       "      <td>Palau</td>\n",
       "      <td>Oceania</td>\n",
       "      <td>267</td>\n",
       "      <td>2023</td>\n",
       "      <td>—</td>\n",
       "      <td>—</td>\n",
       "      <td>218</td>\n",
       "      <td>2021</td>\n",
       "    </tr>\n",
       "    <tr>\n",
       "      <th>210</th>\n",
       "      <td>Kiribati</td>\n",
       "      <td>Oceania</td>\n",
       "      <td>246</td>\n",
       "      <td>2023</td>\n",
       "      <td>223</td>\n",
       "      <td>2022</td>\n",
       "      <td>227</td>\n",
       "      <td>2021</td>\n",
       "    </tr>\n",
       "    <tr>\n",
       "      <th>211</th>\n",
       "      <td>Nauru</td>\n",
       "      <td>Oceania</td>\n",
       "      <td>150</td>\n",
       "      <td>2023</td>\n",
       "      <td>151</td>\n",
       "      <td>2022</td>\n",
       "      <td>155</td>\n",
       "      <td>2021</td>\n",
       "    </tr>\n",
       "    <tr>\n",
       "      <th>212</th>\n",
       "      <td>Montserrat</td>\n",
       "      <td>Americas</td>\n",
       "      <td>—</td>\n",
       "      <td>—</td>\n",
       "      <td>—</td>\n",
       "      <td>—</td>\n",
       "      <td>72</td>\n",
       "      <td>2021</td>\n",
       "    </tr>\n",
       "    <tr>\n",
       "      <th>213</th>\n",
       "      <td>Tuvalu</td>\n",
       "      <td>Oceania</td>\n",
       "      <td>63</td>\n",
       "      <td>2023</td>\n",
       "      <td>60</td>\n",
       "      <td>2022</td>\n",
       "      <td>60</td>\n",
       "      <td>2021</td>\n",
       "    </tr>\n",
       "  </tbody>\n",
       "</table>\n",
       "<p>214 rows × 8 columns</p>\n",
       "</div>"
      ],
      "text/plain": [
       "    Country/Territory UN region IMF[1][13]            World Bank[14]  \\\n",
       "    Country/Territory UN region   Forecast       Year       Estimate   \n",
       "0               World         —  104476432       2023      100562011   \n",
       "1       United States  Americas   26949643       2023       25462700   \n",
       "2               China      Asia   17700899  [n 1]2023       17963171   \n",
       "3             Germany    Europe    4429838       2023        4072192   \n",
       "4               Japan      Asia    4230862       2023        4231141   \n",
       "..                ...       ...        ...        ...            ...   \n",
       "209             Palau   Oceania        267       2023              —   \n",
       "210          Kiribati   Oceania        246       2023            223   \n",
       "211             Nauru   Oceania        150       2023            151   \n",
       "212        Montserrat  Americas          —          —              —   \n",
       "213            Tuvalu   Oceania         63       2023             60   \n",
       "\n",
       "               United Nations[15]             \n",
       "          Year           Estimate       Year  \n",
       "0         2022           96698005       2021  \n",
       "1         2022           23315081       2021  \n",
       "2    [n 3]2022           17734131  [n 1]2021  \n",
       "3         2022            4259935       2021  \n",
       "4         2022            4940878       2021  \n",
       "..         ...                ...        ...  \n",
       "209          —                218       2021  \n",
       "210       2022                227       2021  \n",
       "211       2022                155       2021  \n",
       "212          —                 72       2021  \n",
       "213       2022                 60       2021  \n",
       "\n",
       "[214 rows x 8 columns]"
      ]
     },
     "execution_count": 49,
     "metadata": {},
     "output_type": "execute_result"
    }
   ],
   "source": [
    "gdp = pd.read_html(\"https://en.wikipedia.org/wiki/List_of_countries_by_GDP_(nominal)\")[2]\n",
    "gdp"
   ]
  },
  {
   "cell_type": "code",
   "execution_count": 50,
   "metadata": {},
   "outputs": [
    {
     "data": {
      "text/plain": [
       "MultiIndex([( 'Country/Territory', 'Country/Territory'),\n",
       "            (         'UN region',         'UN region'),\n",
       "            (        'IMF[1][13]',          'Forecast'),\n",
       "            (        'IMF[1][13]',              'Year'),\n",
       "            (    'World Bank[14]',          'Estimate'),\n",
       "            (    'World Bank[14]',              'Year'),\n",
       "            ('United Nations[15]',          'Estimate'),\n",
       "            ('United Nations[15]',              'Year')],\n",
       "           )"
      ]
     },
     "execution_count": 50,
     "metadata": {},
     "output_type": "execute_result"
    }
   ],
   "source": [
    "gdp.columns[]"
   ]
  }
 ],
 "metadata": {
  "kernelspec": {
   "display_name": "venv",
   "language": "python",
   "name": "python3"
  },
  "language_info": {
   "codemirror_mode": {
    "name": "ipython",
    "version": 3
   },
   "file_extension": ".py",
   "mimetype": "text/x-python",
   "name": "python",
   "nbconvert_exporter": "python",
   "pygments_lexer": "ipython3",
   "version": "3.10.11"
  }
 },
 "nbformat": 4,
 "nbformat_minor": 2
}
