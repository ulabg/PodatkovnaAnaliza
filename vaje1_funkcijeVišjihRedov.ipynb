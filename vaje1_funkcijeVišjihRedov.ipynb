{
 "cells": [
  {
   "cell_type": "markdown",
   "metadata": {},
   "source": [
    "# Vaje1: FUNKCIJE VIŠJIH REDOV\n",
    "\n",
    "### Funkcija kot argument\n",
    "Nekatere funkcije lahko sprejmejo drugo funkcijo kot argument. Nekaj tovrstnih funkcij ste morda že srečali pri programiranju. Nekaj pogosto uporabljenih funkcij:\n",
    "\n",
    "```python\n",
    "min/max - poimenovani argument (angl. keyword argument) key določa kriterij za iskanje najmanjše/največje vrednosti (namesto direktne uporabe podanih vrednosti)\n",
    "sorted/sort - podobno kot pri min/max z argumentom key povemo, kako za vsak element izračunati vrednost, po kateri nato elemente uredimo\n",
    "map - uporabi podano funkcijo na vseh vrednostih seznama\n",
    "filter - iz podanega seznama (oziroma vrednosti tipa iterable) izbere le vrednosti, za katere podana funkcija vrne True\n",
    "functools.reduce - uporabi podano funkcijo na vseh vrednostih seznama Pozor: map in filter vrneta zaporedje posebnega podatkovnega tipa, po katerem se lahko sprehajamo z zanko for, ne moremo pa elementov direktno izpisati ali dostopati do posameznih elementov. Vrednost lahko pretvorimo v seznam s funkcijo list(...)\n",
    "Ko funkcije podajamo kot argumente drugim funkcijam, podamo le ime funkcije, brez oklepaja. Primer:\n",
    "\n",
    "stevila = list(map(int, [\"1\", \"5\", \"-10\", \"2\"]))\n",
    "```\n",
    "### Funkcije kot argumenti funkcijam\n",
    "```python\n",
    "Napiši ustrezne kratke programe 1. Poljuben seznam nizov uredi po dolžini nizov (npr. [\"abababa\", \"ab\", \"aaa\", \"b\"] bo urejen kot [\"b\", \"ab\", \"aaa\", \"abababa\"]). Kako se seznam uredi, če uporabimo le funkcijo sort 2. Program naj z vhoda prebere zaporedje decimalnih števil in ga pretvori v seznam decimalnih števil. Pomagaj si s funkcijo map. 3. Za zaporedje celih števil od -10 do 10 izračunaj seznam pripadajoče vrednosti funkcije sinus. Pomagaj si s funkcijo map. 4. Na podlagi seznama [\"12\", \"a\", \"0\", \"1243\", \"12.3\", \"soahfda\"] sestavi seznam, ki vsebuje le podnize, ki vsebujejo celo število (['12', '0', '1243']). Pomagaj si s funkcijofilterin metodostr.isdigit.\n",
    "```\n"
   ]
  },
  {
   "cell_type": "markdown",
   "metadata": {},
   "source": [
    "### Poljubne funkcije kot argument\n",
    "1. Napiši funkcijo st_velikih(niz), ki za dani niz prešteje število velikih tiskanih črk. Sestavi seznam nizov z različnim številom velikih tiskanih črk in s pomočjo funkcij min in max poišči niza z največ in najmanj velikimi tiskanimi črkami.\n"
   ]
  },
  {
   "cell_type": "code",
   "execution_count": 3,
   "metadata": {},
   "outputs": [
    {
     "name": "stdout",
     "output_type": "stream",
     "text": [
      "PRAKSA\n",
      "Hello\n"
     ]
    }
   ],
   "source": [
    "def st_velikih(niz):\n",
    "    '''Prešteje število velikih tiskanih črk.'''\n",
    "    return sum(1 for znak in niz if znak.isupper())\n",
    "\n",
    "nizi = [\"Hello\", \"WORLD\", \"Python\", \"Programiranje\", \"PRAKSA\", \"GREAT\"]\n",
    "st_velikih_stevil = [st_velikih(niz) for niz in nizi]\n",
    "niz_z_najv = max(nizi, key=st_velikih)\n",
    "niz_v_najm = min(nizi, key= st_velikih)\n",
    "\n",
    "print(niz_z_najv)\n",
    "print(niz_v_najm)"
   ]
  },
  {
   "cell_type": "markdown",
   "metadata": {},
   "source": [
    "2. Napiši funkcijo je_prastevilo(stevilo), ki za dano število preveri, če je praštevilo. Sestavi naključni seznam 20 celih števil med 2 in 1.000.000. S pomočjo funkcije filter sestavi nov seznam, ki vsebuje le praštevila."
   ]
  },
  {
   "cell_type": "code",
   "execution_count": 4,
   "metadata": {},
   "outputs": [
    {
     "name": "stdout",
     "output_type": "stream",
     "text": [
      "[227977, 207589, 380179]\n"
     ]
    }
   ],
   "source": [
    "import random\n",
    "def je_prastevilo(stevilo):\n",
    "    if stevilo < 2: return False\n",
    "    for i in range(2, int(stevilo**0.5) + 1):\n",
    "        if stevilo % i == 0: return False\n",
    "    return True\n",
    "\n",
    "nakljucna_stevila = [random.randint(2, 1000000) for _ in range(20)]\n",
    "prastevila = list(filter(je_prastevilo, nakljucna_stevila))\n",
    "print(prastevila)"
   ]
  },
  {
   "cell_type": "markdown",
   "metadata": {},
   "source": [
    "### Lambda funkcije\n",
    "Včasih pri reševanju programerskih problemov potrebujemo preproste funkcije, ki jih lahko zapišemo z enim izrazom in jih želimo uporabiti le na enem mestu. Takrat ne želimo definirati nove funkcije s ključno besedo def, ampak namesto nje ustvarimo kar anonimno (lambda) funkcijo na mestu, kjer jo potrebujemo. Tovrstne funkcije so zelo uporabne na primer kot ključ za sortiranje, iskanje najmanjšega/največjega elementa v tabeli, podajanje funkcije kot argument drugi funkciji... Oglejmo si nekaj preprostejših primerov:\n",
    "\n",
    "```python\n",
    "Lambda funkcija, ki argument x poveča za 1: lambda x: x + 1\n",
    "\n",
    "Lambda funkcija, ki se šteje argumenta x in y: lambda x, y: x + y\n",
    "\n",
    "Lambda funkcija, ki vrne True, če je x strogo večji od y, sicer pa False:\n",
    "\n",
    "lambda x, y: x < y\n",
    "\n",
    "Lambda funkcija, ki vrne \"večji\", če je x strogo večji od y, sicer pa \"manjši\":\n",
    "\n",
    "lambda x, y: \"večji\" if x < y else \"manjši\"\n",
    "```"
   ]
  },
  {
   "cell_type": "markdown",
   "metadata": {},
   "source": [
    "1.NALOGA - Najkrajsa beseda"
   ]
  },
  {
   "cell_type": "code",
   "execution_count": 7,
   "metadata": {},
   "outputs": [
    {
     "name": "stdout",
     "output_type": "stream",
     "text": [
      "kis\n"
     ]
    }
   ],
   "source": [
    "def najkrajsa(beseda):\n",
    "    '''Vrne najkrajšo besedo v seznamu beseda.'''\n",
    "    return min(beseda, key=len)\n",
    "\n",
    "print(najkrajsa([\"banana\", \"krompir\", \"kisla repa\", \"kis\"]))"
   ]
  },
  {
   "cell_type": "markdown",
   "metadata": {},
   "source": [
    "2.NALOGA - Uredi po uspešnosti"
   ]
  },
  {
   "cell_type": "code",
   "execution_count": 8,
   "metadata": {},
   "outputs": [
    {
     "name": "stdout",
     "output_type": "stream",
     "text": [
      "[('Suns', 0.78), ('Grizzlies', 0.683), ('Warriors', 0.646), ('Mavericks', 0.634), ('Jazz', 0.598), ('Nuggets', 0.585)]\n"
     ]
    }
   ],
   "source": [
    "def uredi_po_uspesnosti(ekipe):\n",
    "    '''vrne nov seznam seznama ekipe naj ne spreminja'''\n",
    "    return sorted(ekipe, key=lambda ekipa: ekipa[1], reverse=True)\n",
    "\n",
    "print(uredi_po_uspesnosti([(\"Jazz\", 0.598), (\"Grizzlies\", 0.683), (\"Mavericks\", 0.634), (\"Nuggets\", 0.585), (\"Warriors\", 0.646), (\"Suns\", 0.780)])) "
   ]
  },
  {
   "cell_type": "markdown",
   "metadata": {},
   "source": [
    "3.NALOGA - Najbolj raznolika"
   ]
  },
  {
   "cell_type": "code",
   "execution_count": 9,
   "metadata": {},
   "outputs": [
    {
     "name": "stdout",
     "output_type": "stream",
     "text": [
      "kisla repa\n"
     ]
    }
   ],
   "source": [
    "def najbolj_raznolika(besede):\n",
    "    '''Vrne najbolj raznoliko besedo v seznamu besede.'''\n",
    "    soglasniki = set('bcčdfghjklmnprsštvzž')\n",
    "    def stevilo_razlicnih_sogl(beseda):\n",
    "        return len(set(znak for znak in beseda.lower() if znak in soglasniki))\n",
    "    return max(besede, key=stevilo_razlicnih_sogl)\n",
    "\n",
    "print(najbolj_raznolika([\"banana\", \"krompir\", \"kisla repa\", \"kis\"]))"
   ]
  }
 ],
 "metadata": {
  "kernelspec": {
   "display_name": "venv",
   "language": "python",
   "name": "python3"
  },
  "language_info": {
   "codemirror_mode": {
    "name": "ipython",
    "version": 3
   },
   "file_extension": ".py",
   "mimetype": "text/x-python",
   "name": "python",
   "nbconvert_exporter": "python",
   "pygments_lexer": "ipython3",
   "version": "3.12.2"
  }
 },
 "nbformat": 4,
 "nbformat_minor": 2
}
