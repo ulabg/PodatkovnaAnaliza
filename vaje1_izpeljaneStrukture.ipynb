{
 "cells": [
  {
   "cell_type": "markdown",
   "metadata": {},
   "source": [
    "# Vaje1: IZPELJANJE STRUKTURE\n"
   ]
  },
  {
   "cell_type": "markdown",
   "metadata": {},
   "source": [
    "### IZPELJANI SEZNAMI\n",
    "Vse naslednje naloge se da rešiti tako, da zapišemo preprosto for zanko in znotraj nje gradimo seznam (oziroma slovar ali množico), kot smo to počeli v prvem letniku:\n",
    "\n",
    "```python\n",
    "tabela = [] \n",
    "for i in range(1, 11): \n",
    "    tabela.append(i**2)\n",
    "```\n",
    "Ker je namen tokratnih vaj, da se spoznate z izpeljanimi seznami, poskusite vsako nalogo rešiti z izpeljanimi seznami, kot ste videli na predavanjih. Na primer zgornji program, bi zapisali tako:\n",
    "\n",
    "```python\n",
    "tabela = [i**2 for i in range(1, 11)] \n",
    "```"
   ]
  },
  {
   "cell_type": "markdown",
   "metadata": {},
   "source": [
    "1.NALOGA - vekratniki"
   ]
  },
  {
   "cell_type": "code",
   "execution_count": 2,
   "metadata": {},
   "outputs": [
    {
     "name": "stdout",
     "output_type": "stream",
     "text": [
      "[2, 4, 6, 8, 10]\n"
     ]
    }
   ],
   "source": [
    "def veckratniki(k,n):\n",
    "    '''Ustvari nov seznam, ki vsebuje kvadrate vrednosti iz seznama stevila.'''\n",
    "    return [k * i for i in range(1, n+1)]\n",
    "\n",
    "print(veckratniki(2,5))"
   ]
  },
  {
   "cell_type": "markdown",
   "metadata": {},
   "source": [
    "2.NALOGA - kvadrati"
   ]
  },
  {
   "cell_type": "code",
   "execution_count": 3,
   "metadata": {},
   "outputs": [
    {
     "name": "stdout",
     "output_type": "stream",
     "text": [
      "[]\n",
      "[4, 1, 0, 1, 4, 1, 0, 1, 4]\n"
     ]
    }
   ],
   "source": [
    "def kvadrati(stevila):\n",
    "    '''Ustvari nov seznam, ki vsebuje kvadrate vrednosti iz seznama stevila.'''\n",
    "    return [x**2 for x in stevila]\n",
    "    \n",
    "print(kvadrati([]))\n",
    "print(kvadrati([2, 1, 0, -1, -2, -1, 0, 1, 2]))"
   ]
  },
  {
   "cell_type": "markdown",
   "metadata": {},
   "source": [
    "3.NALOGA - odstrani negativne"
   ]
  },
  {
   "cell_type": "code",
   "execution_count": 6,
   "metadata": {},
   "outputs": [
    {
     "name": "stdout",
     "output_type": "stream",
     "text": [
      "[2, 1, 0, 0, 1, 2]\n",
      "[1, 2, 3, 4, 5, 6]\n",
      "[]\n",
      "[]\n"
     ]
    }
   ],
   "source": [
    "def odstrani_negativne(stevila):\n",
    "    '''Ustvari nov seznam, ki vsebuje le nenegativne vrednosti iz seznama stevila'''\n",
    "    tabela = []\n",
    "    if len(stevila) == 0: return []\n",
    "    for x in stevila:\n",
    "        if x >= 0:\n",
    "            tabela.append(x)\n",
    "        else:\n",
    "            continue\n",
    "    return tabela\n",
    "\n",
    "print(odstrani_negativne([2, 1, 0, -1, -2, -1, 0, 1, 2]))\n",
    "print(odstrani_negativne([1, 2, 3, 4, 5, 6]))\n",
    "print(odstrani_negativne([-1, -2, -3, -4, -5, -6]))\n",
    "print(odstrani_negativne([]))\n"
   ]
  },
  {
   "cell_type": "markdown",
   "metadata": {},
   "source": [
    "4.NALOGA - Povecaj crke"
   ]
  },
  {
   "cell_type": "code",
   "execution_count": 10,
   "metadata": {},
   "outputs": [
    {
     "name": "stdout",
     "output_type": "stream",
     "text": [
      "['KOKOS', 'KRAVA', 'MAČKA', 'KRIČAČ']\n",
      "['   X', ' ']\n"
     ]
    }
   ],
   "source": [
    "def povecaj_crke(nizi):\n",
    "    '''Ustvari nov seznam, ki vsebuje neprazne nize iz seznama nizi, le da naj bodo ti spremenjeni v velike tiskane črke.'''\n",
    "    return [niz.upper() for niz in nizi if niz != '']\n",
    "\n",
    "print(povecaj_crke([\"Kokos\", \"kraVa\", \"MAČKA\", \"kričač\"]))\n",
    "print(povecaj_crke([\"\", \"   x\", \"\", \"\", \" \"]))"
   ]
  },
  {
   "cell_type": "markdown",
   "metadata": {},
   "source": [
    "5.NALOGA "
   ]
  },
  {
   "cell_type": "code",
   "execution_count": 11,
   "metadata": {},
   "outputs": [],
   "source": [
    "import random \n",
    "def funkcija1(n, a, b):\n",
    "    return [random.randint(a,b) for _ in range(n)]"
   ]
  },
  {
   "cell_type": "markdown",
   "metadata": {},
   "source": [
    "6.NALOGA"
   ]
  },
  {
   "cell_type": "code",
   "execution_count": 13,
   "metadata": {},
   "outputs": [],
   "source": [
    "def funkcija2(seznam, k):\n",
    "    return [el for el in seznam if el % k == 0]\n",
    "    "
   ]
  },
  {
   "cell_type": "markdown",
   "metadata": {},
   "source": [
    "### OSTALE IZPELJANE STRUKTURE\n",
    "Podobno kot izpeljane sezname lahko tvorimo tudi slovarje in množice.\n",
    "\n",
    "Množico kvadratov naravnih števil od 1 do 5, na primer, ustvarimo tako:\n",
    "\n",
    "```python\n",
    "{x**2 for x in range(1, 6)},     # to ustvari množico {1, 4, 9, 16, 25}\n",
    "```\n",
    "slovar, ki ima za ključ števke od 1 do 6, vrednosti pa so ključi deljeni z dva, če je ključ sod, sicer pa ključ pomnožen s 3 in povečan za 1 pa takole:\n",
    "\n",
    "```python\n",
    "{x: x//2 if x%2==0 else 3*x+1 for x in range(1, 6)}  \n",
    "# dobljeni slovar je {1: 4, 2: 1, 3: 10, 4: 2, 5: 16, 6: 3}\n",
    "```"
   ]
  },
  {
   "cell_type": "markdown",
   "metadata": {},
   "source": [
    "7.NALOGA - potence 2"
   ]
  },
  {
   "cell_type": "code",
   "execution_count": 17,
   "metadata": {},
   "outputs": [
    {
     "name": "stdout",
     "output_type": "stream",
     "text": [
      "{32, 1, 2, 4, 8, 16}\n",
      "{8, 1, 2, 4}\n"
     ]
    }
   ],
   "source": [
    "def potence2(n):\n",
    "    '''Vrne množico potenc 2.'''\n",
    "    return {2**i for i in range(n+1)}\n",
    "\n",
    "print(potence2(5))\n",
    "print(potence2(3))"
   ]
  },
  {
   "cell_type": "markdown",
   "metadata": {},
   "source": [
    "8.NALOGA - Množica sodih"
   ]
  },
  {
   "cell_type": "code",
   "execution_count": 20,
   "metadata": {},
   "outputs": [
    {
     "name": "stdout",
     "output_type": "stream",
     "text": [
      "{-8, 0, 2, 4}\n"
     ]
    }
   ],
   "source": [
    "def mnozica_sodih(stevila):\n",
    "    '''Vrne množico sodih elementov seznama stevila - brez ponavljanja'''\n",
    "    return {sodo for sodo in stevila if sodo % 2 == 0}\n",
    "\n",
    "print(mnozica_sodih([1, 4, 5, 2, 7, -8, 5, 0, 101, 2, 1]))"
   ]
  },
  {
   "cell_type": "markdown",
   "metadata": {},
   "source": [
    "9.NALOGA - Ustvari slovar"
   ]
  },
  {
   "cell_type": "code",
   "execution_count": 22,
   "metadata": {},
   "outputs": [
    {
     "name": "stdout",
     "output_type": "stream",
     "text": [
      "{1: 'ena', 2: 'dve', 3: 'tri', 11: 'enajst'}\n"
     ]
    }
   ],
   "source": [
    "def ustvari_slovar(seznam_parov):\n",
    "    '''Iz seznama parov oblike [(k_i,v_i)] ustvari slovar, ki ima za ključe k_i za vrednost pa v_i'''\n",
    "    return {k_i: v_i for k_i, v_i in seznam_parov}\n",
    "\n",
    "print(ustvari_slovar([(1, \"ena\"), (2, \"dve\"), (3, \"tri\"), (11, \"enajst\")]))"
   ]
  },
  {
   "cell_type": "markdown",
   "metadata": {},
   "source": [
    "10.NALOGA - Obrni slovar"
   ]
  },
  {
   "cell_type": "code",
   "execution_count": 27,
   "metadata": {},
   "outputs": [
    {
     "name": "stdout",
     "output_type": "stream",
     "text": [
      "{3: 1, 1: 2, 4: 3, 2: 4}\n"
     ]
    }
   ],
   "source": [
    "def obrni_slovar(slovar):\n",
    "    '''Ustvari nov seznam, ki ima za kljuce vrednosti\n",
    "       starega slovarja, za vrednosti pa kljuce starega slovarja.'''\n",
    "    return {v: k for k, v in slovar.items()}\n",
    "\n",
    "print(obrni_slovar({1: 3, 2: 1, 3: 4, 4: 2}))"
   ]
  },
  {
   "cell_type": "markdown",
   "metadata": {},
   "source": [
    "11.NALOGA - Pomnozi"
   ]
  },
  {
   "cell_type": "code",
   "execution_count": 30,
   "metadata": {},
   "outputs": [
    {
     "name": "stdout",
     "output_type": "stream",
     "text": [
      "{'jajca': 8, 'moka': 1000}\n"
     ]
    }
   ],
   "source": [
    "def pomnozi(slovar, k):\n",
    "    '''Ustvari nov seznam, kjer so vrednosti slovarja pomnožene s k.'''\n",
    "    return {k: v * 2 for k, v in slovar.items() if v != 0}\n",
    "\n",
    "print(pomnozi({'jajca': 4, 'moka': 500, 'mleko': 0}, 2))"
   ]
  }
 ],
 "metadata": {
  "kernelspec": {
   "display_name": "venv",
   "language": "python",
   "name": "python3"
  },
  "language_info": {
   "codemirror_mode": {
    "name": "ipython",
    "version": 3
   },
   "file_extension": ".py",
   "mimetype": "text/x-python",
   "name": "python",
   "nbconvert_exporter": "python",
   "pygments_lexer": "ipython3",
   "version": "3.12.2"
  }
 },
 "nbformat": 4,
 "nbformat_minor": 2
}
