{
 "cells": [
  {
   "cell_type": "markdown",
   "metadata": {},
   "source": [
    "# Še malo vaj iz vizualizacije podatkov"
   ]
  },
  {
   "cell_type": "code",
   "execution_count": null,
   "metadata": {
    "metadata": {}
   },
   "outputs": [],
   "source": [
    "# uvoz modulov"
   ]
  },
  {
   "cell_type": "markdown",
   "metadata": {},
   "source": [
    "## Naloga 1: Evropski borzni indeksi"
   ]
  },
  {
   "cell_type": "markdown",
   "metadata": {},
   "source": [
    "Oglej si podatke o cenah glavnih evropskih borznih indeksov - EuStockMarkets. Datoteko csv s podatki najdeš na spletni učilnici.\n",
    "\n",
    "* Podatke ustrezno pripravi za obdelavo (tidy data):\n",
    "    * Tabela naj vsebuje stolpce `t` (časovna točka), `indeks` (ime borznega indeksa) in `vrednost` (vrednost za dani indeks).\n",
    "* Nariši graf, ki prikazuje gibanje vseh štirih indeksov v času. \n",
    "* Največjo vrednost (za vsak indeks posebej) na intervalu od 500 do 1000 označi s krogcem. \n",
    "\n",
    "Podrobnosti so prikazane na grafu graf1 (pdf datoteka na spletni učilnici). Graf izvozi v pdf datoteko.\n",
    "\n",
    "\n",
    "<details><summary>Namig</summary>\n",
    "Posebej sestavi tabelo maksimumov za posamezne indekse (seveda na intervalu).\n",
    "</details>"
   ]
  },
  {
   "cell_type": "code",
   "execution_count": null,
   "metadata": {
    "metadata": {}
   },
   "outputs": [],
   "source": []
  },
  {
   "cell_type": "markdown",
   "metadata": {},
   "source": [
    "## 2. naloga: Napovedi indeksa DAX\n",
    "\n",
    "Oglej si podatke o indeksu DAX (v tabeli EuStockMarkets - podanih je 1860 zaporednih vrednosti).\n",
    "V tabeli napovedi.csv so shranjene napovedi indeksa DAX za omenjenih 1860 časovnih točk in še dodatnih 400 časovnih točk. Nariši graf gibanja vrednosti indeksa DAX in vrednosti napovedi. Zadnjih 400 vrednosti napovedi naj bo povezanih s črtkano črto. Podrobnosti so prikazane na grafu graf2 (pdf datoteka na spletni učilnici). Graf izvozi v datoteko pdf.\n",
    "\n",
    "<details><summary>Namig</summary>\n",
    "Najprej sestavi <i>urejeno</i> podatkovno tabelo napovedi in dejanskih vrednosti indeksa DAX.\n",
    "</details>"
   ]
  },
  {
   "cell_type": "code",
   "execution_count": null,
   "metadata": {
    "metadata": {}
   },
   "outputs": [],
   "source": []
  }
 ],
 "metadata": {
  "kernelspec": {
   "display_name": "venv",
   "language": "python",
   "name": "python3"
  },
  "language_info": {
   "codemirror_mode": {
    "name": "ipython",
    "version": 3
   },
   "file_extension": ".py",
   "mimetype": "text/x-python",
   "name": "python",
   "nbconvert_exporter": "python",
   "pygments_lexer": "ipython3",
   "version": "3.10.11"
  }
 },
 "nbformat": 4,
 "nbformat_minor": 2
}
