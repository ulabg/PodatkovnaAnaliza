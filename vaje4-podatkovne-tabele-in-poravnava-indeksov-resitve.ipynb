{
 "cells": [
  {
   "cell_type": "code",
   "execution_count": 1,
   "metadata": {
    "metadata": {}
   },
   "outputs": [],
   "source": [
    "# uvoz modulov\n",
    "import pandas as pd\n",
    "import numpy as np\n",
    "import random"
   ]
  },
  {
   "cell_type": "markdown",
   "metadata": {},
   "source": [
    "# Podatkovne tabele in poravnava indeksov"
   ]
  },
  {
   "cell_type": "markdown",
   "metadata": {},
   "source": [
    "## Poravnava indeksov"
   ]
  },
  {
   "cell_type": "markdown",
   "metadata": {},
   "source": [
    "### Kdaj imamo lahko težave s poravnavo indeksov?\n",
    "\n",
    "1. Sestavi zaporedje kvadratov `kvadrati` naravnih števil od 0 do 20. Izračunati želimo zaporedje razlik : $x_1 - x_0$, $x_2 - x_1$, ...., $x_{20} - x_{19}$.\n",
    "2. Ustvari novo zaporedje, ki je sestavljeno iz kvadratov, zamaknjenih za ena \"navzgor\" - poravnati želimo 0 z 1, 1 s 4, 4 z 9, ...\n",
    "3. Ustvari podatkovno tabelo iz obeh zaporedij. \n",
    "4. Dodaš nov stolpec z razlikami, kot je opisano zgoraj. \n",
    "\n",
    "Preveri rezultat in razmisli: smo dobili pričakovani rezultat in zakaj (ne)? Kaj se zgodi s podatkovnim tipom zamaknjenega stolpca in zakaj?"
   ]
  },
  {
   "cell_type": "code",
   "execution_count": 2,
   "metadata": {
    "metadata": {}
   },
   "outputs": [
    {
     "name": "stdout",
     "output_type": "stream",
     "text": [
      "     z1     z2  razlike\n",
      "0     0    NaN      NaN\n",
      "1     1    1.0      0.0\n",
      "2     4    4.0      0.0\n",
      "3     9    9.0      0.0\n",
      "4    16   16.0      0.0\n",
      "5    25   25.0      0.0\n",
      "6    36   36.0      0.0\n",
      "7    49   49.0      0.0\n",
      "8    64   64.0      0.0\n",
      "9    81   81.0      0.0\n",
      "10  100  100.0      0.0\n",
      "11  121  121.0      0.0\n",
      "12  144  144.0      0.0\n",
      "13  169  169.0      0.0\n",
      "14  196  196.0      0.0\n",
      "15  225  225.0      0.0\n",
      "16  256  256.0      0.0\n",
      "17  289  289.0      0.0\n",
      "18  324  324.0      0.0\n",
      "19  361  361.0      0.0\n",
      "20  400  400.0      0.0\n"
     ]
    }
   ],
   "source": [
    "zap = pd.Series([i**2 for i in range(21)])\n",
    "zamaknjeno = zap[1:]\n",
    "df = pd.DataFrame({\"z1\": zap, \"z2\": zamaknjeno})\n",
    "df[\"razlike\"] = df.z2 - df.z1\n",
    "print(df)"
   ]
  },
  {
   "cell_type": "markdown",
   "metadata": {},
   "source": [
    "5. Popravi indekse drugega (zamaknjenega) zaporedja, da bo število 1 na ničtem indeksu, 4 na prvem, 9 na drugem, ...\n",
    "6. Ponovno ustvari tabelo in izračunaj razlike. (Vsi elementi morajo biti večji od nič).\n",
    "7. Izpiši podatkovno tabelo z vsemi tremi stolpci."
   ]
  },
  {
   "cell_type": "code",
   "execution_count": 3,
   "metadata": {
    "metadata": {}
   },
   "outputs": [
    {
     "name": "stdout",
     "output_type": "stream",
     "text": [
      "     z1     z2  razlike\n",
      "0     0    1.0      1.0\n",
      "1     1    4.0      3.0\n",
      "2     4    9.0      5.0\n",
      "3     9   16.0      7.0\n",
      "4    16   25.0      9.0\n",
      "5    25   36.0     11.0\n",
      "6    36   49.0     13.0\n",
      "7    49   64.0     15.0\n",
      "8    64   81.0     17.0\n",
      "9    81  100.0     19.0\n",
      "10  100  121.0     21.0\n",
      "11  121  144.0     23.0\n",
      "12  144  169.0     25.0\n",
      "13  169  196.0     27.0\n",
      "14  196  225.0     29.0\n",
      "15  225  256.0     31.0\n",
      "16  256  289.0     33.0\n",
      "17  289  324.0     35.0\n",
      "18  324  361.0     37.0\n",
      "19  361  400.0     39.0\n",
      "20  400    NaN      NaN\n"
     ]
    }
   ],
   "source": [
    "zap = pd.Series([i**2 for i in range(21)])\n",
    "zamaknjeno = zap[1:]\n",
    "zamaknjeno.index = zap.index[0:-1]\n",
    "df2 = pd.DataFrame({\"z1\": zap, \"z2\": zamaknjeno})\n",
    "df2[\"razlike\"] = df2.z2 - df2.z1\n",
    "print(df2)"
   ]
  },
  {
   "cell_type": "markdown",
   "metadata": {},
   "source": [
    "### Kako združiti zaporedja?\n",
    "\n",
    "Dani so podatki o študentih, ki so vpisani v predmet ter ocenah prvega izpitnega roka:\n",
    "\n",
    "* seznam `sez_studenti` vsebuje pare oblike `(<vpisna številka>, <ime>)`, \n",
    "* seznam `sez_ocene` vsebuje pare oblike `(<vpisna številka>, <ocena>)`."
   ]
  },
  {
   "cell_type": "code",
   "execution_count": 4,
   "metadata": {
    "metadata": {}
   },
   "outputs": [],
   "source": [
    "sez_studenti = [(\"124174\", \"Maja\"), (\"223974\", \"Tilen\"), (\"341842\", \"Petra\"), (\"418623\", \"Blaž\"), (\"527421\", \"Katja\"), (\"620516\", \"Benjamin\"), (\"729516\", \"Urban\"), (\"828651\", \"Pija\")]\n",
    "sez_ocene = [(\"124174\", 5), (\"341842\", 7), (\"527421\", 10), (\"729516\", 9), (\"418623\", 8), (\"915715\", 6), (\"014153\", 7)]"
   ]
  },
  {
   "cell_type": "markdown",
   "metadata": {},
   "source": [
    "Ustvari zaporedji `studenti` ter `ocene`, ki imata za indeks vpisno številko:"
   ]
  },
  {
   "cell_type": "code",
   "execution_count": 5,
   "metadata": {
    "metadata": {}
   },
   "outputs": [],
   "source": [
    "studenti = pd.Series([ime for _, ime in sez_studenti], index=[vp_st for vp_st, _ in sez_studenti])\n",
    "ocene = pd.Series([ocena for _, ocena in sez_ocene], index=[vp_st for vp_st, _ in sez_ocene])"
   ]
  },
  {
   "cell_type": "markdown",
   "metadata": {},
   "source": [
    "Ustvari podatkovno tabelo `rezultati_1` s stolpcema `student` in `ocena`. Kako `pandas` združi stolpca v isto tabelo?"
   ]
  },
  {
   "cell_type": "code",
   "execution_count": 6,
   "metadata": {
    "metadata": {}
   },
   "outputs": [
    {
     "data": {
      "text/html": [
       "<div>\n",
       "<style scoped>\n",
       "    .dataframe tbody tr th:only-of-type {\n",
       "        vertical-align: middle;\n",
       "    }\n",
       "\n",
       "    .dataframe tbody tr th {\n",
       "        vertical-align: top;\n",
       "    }\n",
       "\n",
       "    .dataframe thead th {\n",
       "        text-align: right;\n",
       "    }\n",
       "</style>\n",
       "<table border=\"1\" class=\"dataframe\">\n",
       "  <thead>\n",
       "    <tr style=\"text-align: right;\">\n",
       "      <th></th>\n",
       "      <th>student</th>\n",
       "      <th>ocena</th>\n",
       "    </tr>\n",
       "  </thead>\n",
       "  <tbody>\n",
       "    <tr>\n",
       "      <th>014153</th>\n",
       "      <td>NaN</td>\n",
       "      <td>7.0</td>\n",
       "    </tr>\n",
       "    <tr>\n",
       "      <th>124174</th>\n",
       "      <td>Maja</td>\n",
       "      <td>5.0</td>\n",
       "    </tr>\n",
       "    <tr>\n",
       "      <th>223974</th>\n",
       "      <td>Tilen</td>\n",
       "      <td>NaN</td>\n",
       "    </tr>\n",
       "    <tr>\n",
       "      <th>341842</th>\n",
       "      <td>Petra</td>\n",
       "      <td>7.0</td>\n",
       "    </tr>\n",
       "    <tr>\n",
       "      <th>418623</th>\n",
       "      <td>Blaž</td>\n",
       "      <td>8.0</td>\n",
       "    </tr>\n",
       "    <tr>\n",
       "      <th>527421</th>\n",
       "      <td>Katja</td>\n",
       "      <td>10.0</td>\n",
       "    </tr>\n",
       "    <tr>\n",
       "      <th>620516</th>\n",
       "      <td>Benjamin</td>\n",
       "      <td>NaN</td>\n",
       "    </tr>\n",
       "    <tr>\n",
       "      <th>729516</th>\n",
       "      <td>Urban</td>\n",
       "      <td>9.0</td>\n",
       "    </tr>\n",
       "    <tr>\n",
       "      <th>828651</th>\n",
       "      <td>Pija</td>\n",
       "      <td>NaN</td>\n",
       "    </tr>\n",
       "    <tr>\n",
       "      <th>915715</th>\n",
       "      <td>NaN</td>\n",
       "      <td>6.0</td>\n",
       "    </tr>\n",
       "  </tbody>\n",
       "</table>\n",
       "</div>"
      ],
      "text/plain": [
       "         student  ocena\n",
       "014153       NaN    7.0\n",
       "124174      Maja    5.0\n",
       "223974     Tilen    NaN\n",
       "341842     Petra    7.0\n",
       "418623      Blaž    8.0\n",
       "527421     Katja   10.0\n",
       "620516  Benjamin    NaN\n",
       "729516     Urban    9.0\n",
       "828651      Pija    NaN\n",
       "915715       NaN    6.0"
      ]
     },
     "execution_count": 6,
     "metadata": {},
     "output_type": "execute_result"
    }
   ],
   "source": [
    "rezultati_1 = pd.DataFrame({\"student\": studenti, \"ocena\": ocene})\n",
    "rezultati_1"
   ]
  },
  {
   "cell_type": "markdown",
   "metadata": {},
   "source": [
    "V tabeli `rezultati_2` združi zaporedji tako, da bodo v njej le študenti, ki so vpisani v predmet:\n",
    "<details><summary>Namig</summary>\n",
    "Oglej si, kako deluje metoda <code>align</code>.\n",
    "</details>"
   ]
  },
  {
   "cell_type": "code",
   "execution_count": 7,
   "metadata": {
    "metadata": {}
   },
   "outputs": [
    {
     "data": {
      "text/html": [
       "<div>\n",
       "<style scoped>\n",
       "    .dataframe tbody tr th:only-of-type {\n",
       "        vertical-align: middle;\n",
       "    }\n",
       "\n",
       "    .dataframe tbody tr th {\n",
       "        vertical-align: top;\n",
       "    }\n",
       "\n",
       "    .dataframe thead th {\n",
       "        text-align: right;\n",
       "    }\n",
       "</style>\n",
       "<table border=\"1\" class=\"dataframe\">\n",
       "  <thead>\n",
       "    <tr style=\"text-align: right;\">\n",
       "      <th></th>\n",
       "      <th>student</th>\n",
       "      <th>ocena</th>\n",
       "    </tr>\n",
       "  </thead>\n",
       "  <tbody>\n",
       "    <tr>\n",
       "      <th>124174</th>\n",
       "      <td>Maja</td>\n",
       "      <td>5.0</td>\n",
       "    </tr>\n",
       "    <tr>\n",
       "      <th>223974</th>\n",
       "      <td>Tilen</td>\n",
       "      <td>NaN</td>\n",
       "    </tr>\n",
       "    <tr>\n",
       "      <th>341842</th>\n",
       "      <td>Petra</td>\n",
       "      <td>7.0</td>\n",
       "    </tr>\n",
       "    <tr>\n",
       "      <th>418623</th>\n",
       "      <td>Blaž</td>\n",
       "      <td>8.0</td>\n",
       "    </tr>\n",
       "    <tr>\n",
       "      <th>527421</th>\n",
       "      <td>Katja</td>\n",
       "      <td>10.0</td>\n",
       "    </tr>\n",
       "    <tr>\n",
       "      <th>620516</th>\n",
       "      <td>Benjamin</td>\n",
       "      <td>NaN</td>\n",
       "    </tr>\n",
       "    <tr>\n",
       "      <th>729516</th>\n",
       "      <td>Urban</td>\n",
       "      <td>9.0</td>\n",
       "    </tr>\n",
       "    <tr>\n",
       "      <th>828651</th>\n",
       "      <td>Pija</td>\n",
       "      <td>NaN</td>\n",
       "    </tr>\n",
       "  </tbody>\n",
       "</table>\n",
       "</div>"
      ],
      "text/plain": [
       "         student  ocena\n",
       "124174      Maja    5.0\n",
       "223974     Tilen    NaN\n",
       "341842     Petra    7.0\n",
       "418623      Blaž    8.0\n",
       "527421     Katja   10.0\n",
       "620516  Benjamin    NaN\n",
       "729516     Urban    9.0\n",
       "828651      Pija    NaN"
      ]
     },
     "execution_count": 7,
     "metadata": {},
     "output_type": "execute_result"
    }
   ],
   "source": [
    "s2p, o2p = studenti.align(ocene, join=\"left\")\n",
    "rezultati_2 = pd.DataFrame({\"student\": s2p, \"ocena\": o2p})\n",
    "rezultati_2"
   ]
  },
  {
   "cell_type": "markdown",
   "metadata": {},
   "source": [
    "V tabeli `rezultati_3` združi zaporedji tako, da bodo v njej le študenti, ki so pisali prvi izpit:"
   ]
  },
  {
   "cell_type": "code",
   "execution_count": 8,
   "metadata": {
    "metadata": {}
   },
   "outputs": [
    {
     "data": {
      "text/html": [
       "<div>\n",
       "<style scoped>\n",
       "    .dataframe tbody tr th:only-of-type {\n",
       "        vertical-align: middle;\n",
       "    }\n",
       "\n",
       "    .dataframe tbody tr th {\n",
       "        vertical-align: top;\n",
       "    }\n",
       "\n",
       "    .dataframe thead th {\n",
       "        text-align: right;\n",
       "    }\n",
       "</style>\n",
       "<table border=\"1\" class=\"dataframe\">\n",
       "  <thead>\n",
       "    <tr style=\"text-align: right;\">\n",
       "      <th></th>\n",
       "      <th>student</th>\n",
       "      <th>ocena</th>\n",
       "    </tr>\n",
       "  </thead>\n",
       "  <tbody>\n",
       "    <tr>\n",
       "      <th>124174</th>\n",
       "      <td>Maja</td>\n",
       "      <td>5</td>\n",
       "    </tr>\n",
       "    <tr>\n",
       "      <th>341842</th>\n",
       "      <td>Petra</td>\n",
       "      <td>7</td>\n",
       "    </tr>\n",
       "    <tr>\n",
       "      <th>527421</th>\n",
       "      <td>Katja</td>\n",
       "      <td>10</td>\n",
       "    </tr>\n",
       "    <tr>\n",
       "      <th>729516</th>\n",
       "      <td>Urban</td>\n",
       "      <td>9</td>\n",
       "    </tr>\n",
       "    <tr>\n",
       "      <th>418623</th>\n",
       "      <td>Blaž</td>\n",
       "      <td>8</td>\n",
       "    </tr>\n",
       "    <tr>\n",
       "      <th>915715</th>\n",
       "      <td>NaN</td>\n",
       "      <td>6</td>\n",
       "    </tr>\n",
       "    <tr>\n",
       "      <th>014153</th>\n",
       "      <td>NaN</td>\n",
       "      <td>7</td>\n",
       "    </tr>\n",
       "  </tbody>\n",
       "</table>\n",
       "</div>"
      ],
      "text/plain": [
       "       student  ocena\n",
       "124174    Maja      5\n",
       "341842   Petra      7\n",
       "527421   Katja     10\n",
       "729516   Urban      9\n",
       "418623    Blaž      8\n",
       "915715     NaN      6\n",
       "014153     NaN      7"
      ]
     },
     "execution_count": 8,
     "metadata": {},
     "output_type": "execute_result"
    }
   ],
   "source": [
    "s3p, o3p = studenti.align(ocene, join=\"right\")\n",
    "rezultati_3 = pd.DataFrame({\"student\": s3p, \"ocena\": o3p})\n",
    "rezultati_3"
   ]
  },
  {
   "cell_type": "markdown",
   "metadata": {},
   "source": [
    "V tabeli `rezultati_4` združi zaporedji tako, da bodo v njej le študenti, ki so vpisani v predmet in so pisali prvi izpit:"
   ]
  },
  {
   "cell_type": "code",
   "execution_count": 9,
   "metadata": {
    "metadata": {}
   },
   "outputs": [
    {
     "data": {
      "text/html": [
       "<div>\n",
       "<style scoped>\n",
       "    .dataframe tbody tr th:only-of-type {\n",
       "        vertical-align: middle;\n",
       "    }\n",
       "\n",
       "    .dataframe tbody tr th {\n",
       "        vertical-align: top;\n",
       "    }\n",
       "\n",
       "    .dataframe thead th {\n",
       "        text-align: right;\n",
       "    }\n",
       "</style>\n",
       "<table border=\"1\" class=\"dataframe\">\n",
       "  <thead>\n",
       "    <tr style=\"text-align: right;\">\n",
       "      <th></th>\n",
       "      <th>student</th>\n",
       "      <th>ocena</th>\n",
       "    </tr>\n",
       "  </thead>\n",
       "  <tbody>\n",
       "    <tr>\n",
       "      <th>124174</th>\n",
       "      <td>Maja</td>\n",
       "      <td>5</td>\n",
       "    </tr>\n",
       "    <tr>\n",
       "      <th>341842</th>\n",
       "      <td>Petra</td>\n",
       "      <td>7</td>\n",
       "    </tr>\n",
       "    <tr>\n",
       "      <th>418623</th>\n",
       "      <td>Blaž</td>\n",
       "      <td>8</td>\n",
       "    </tr>\n",
       "    <tr>\n",
       "      <th>527421</th>\n",
       "      <td>Katja</td>\n",
       "      <td>10</td>\n",
       "    </tr>\n",
       "    <tr>\n",
       "      <th>729516</th>\n",
       "      <td>Urban</td>\n",
       "      <td>9</td>\n",
       "    </tr>\n",
       "  </tbody>\n",
       "</table>\n",
       "</div>"
      ],
      "text/plain": [
       "       student  ocena\n",
       "124174    Maja      5\n",
       "341842   Petra      7\n",
       "418623    Blaž      8\n",
       "527421   Katja     10\n",
       "729516   Urban      9"
      ]
     },
     "execution_count": 9,
     "metadata": {},
     "output_type": "execute_result"
    }
   ],
   "source": [
    "s4p, o4p = studenti.align(ocene, join=\"inner\")\n",
    "rezultati_4 = pd.DataFrame({'student': s4p, 'ocena': o4p})\n",
    "rezultati_4"
   ]
  },
  {
   "cell_type": "markdown",
   "metadata": {},
   "source": [
    "### Še en primer"
   ]
  },
  {
   "cell_type": "markdown",
   "metadata": {},
   "source": [
    "Dane so meritve temperature zraka in višine vode v Kopru 29. oktobra med 6. in 12. uro. Temperatura je merjena vsako polno uro (tj. ob 6:00, 7:00, ...), višina vodostaja pa 10, 30 in 50 minut čez polno uro (tj. 6:10, 6:30, 6:50, 7:10, ...). "
   ]
  },
  {
   "cell_type": "code",
   "execution_count": 10,
   "metadata": {
    "metadata": {}
   },
   "outputs": [],
   "source": [
    "sez_temp = [12, 11.8, 13.4, 15.9, 18.6, 18.7, 19.5]\n",
    "sez_voda = [252, 257, 260, 262, 262, 261, 259, 258, 256, 252, 249, 244, 238, 233, 226, 218, 210, 203]"
   ]
  },
  {
   "cell_type": "markdown",
   "metadata": {},
   "source": [
    "Sestavi časovni vrsti `indeks_temp` in `indeks_voda`, ki vsebujeta čase meritev temperature in vode. Nato ustvari zaporedji temperatur in višine vodostaja ter jima nastavi ustrezna indeksa.\n",
    "\n",
    "<details><summary>Ne veš kako se lotiti?</summary>\n",
    "Pri tem si lahko pomagaš z indeksiranjem časovnega obdobja (angl. date range), lahko pa se poglobiš v <a href=\"https://pandas.pydata.org/pandas-docs/stable/user_guide/timeseries.html#combining-aliases\">dokumentacijo</a> in poiščeš pomoč za ustvarjanje časovnih točk v poljubnih intervalih.\n",
    "</details>"
   ]
  },
  {
   "cell_type": "code",
   "execution_count": 11,
   "metadata": {
    "metadata": {}
   },
   "outputs": [],
   "source": [
    "indeks_temp = pd.date_range(\"2024-10-28 06:00\", \"2024-10-28 12:00\", freq=\"h\")\n",
    "indeks_voda = pd.date_range(\"2024-10-28 06:10\", \"2024-10-28 11:50\", freq=\"20min\")\n",
    "zap_temp = pd.Series(sez_temp, index=indeks_temp)\n",
    "zap_voda = pd.Series(sez_voda, index=indeks_voda)"
   ]
  },
  {
   "cell_type": "markdown",
   "metadata": {},
   "source": [
    "Na podlagi zaporedij ustvari tabelo s stolpcema `temperature` in `visine`, ki ima za indeks časovne točke.\n",
    "\n",
    "Kako izgleda dobljena tabela?"
   ]
  },
  {
   "cell_type": "code",
   "execution_count": 12,
   "metadata": {
    "metadata": {}
   },
   "outputs": [
    {
     "data": {
      "text/html": [
       "<div>\n",
       "<style scoped>\n",
       "    .dataframe tbody tr th:only-of-type {\n",
       "        vertical-align: middle;\n",
       "    }\n",
       "\n",
       "    .dataframe tbody tr th {\n",
       "        vertical-align: top;\n",
       "    }\n",
       "\n",
       "    .dataframe thead th {\n",
       "        text-align: right;\n",
       "    }\n",
       "</style>\n",
       "<table border=\"1\" class=\"dataframe\">\n",
       "  <thead>\n",
       "    <tr style=\"text-align: right;\">\n",
       "      <th></th>\n",
       "      <th>temperature</th>\n",
       "      <th>visine</th>\n",
       "    </tr>\n",
       "  </thead>\n",
       "  <tbody>\n",
       "    <tr>\n",
       "      <th>2024-10-28 06:00:00</th>\n",
       "      <td>12.0</td>\n",
       "      <td>NaN</td>\n",
       "    </tr>\n",
       "    <tr>\n",
       "      <th>2024-10-28 06:10:00</th>\n",
       "      <td>NaN</td>\n",
       "      <td>252.0</td>\n",
       "    </tr>\n",
       "    <tr>\n",
       "      <th>2024-10-28 06:30:00</th>\n",
       "      <td>NaN</td>\n",
       "      <td>257.0</td>\n",
       "    </tr>\n",
       "    <tr>\n",
       "      <th>2024-10-28 06:50:00</th>\n",
       "      <td>NaN</td>\n",
       "      <td>260.0</td>\n",
       "    </tr>\n",
       "    <tr>\n",
       "      <th>2024-10-28 07:00:00</th>\n",
       "      <td>11.8</td>\n",
       "      <td>NaN</td>\n",
       "    </tr>\n",
       "    <tr>\n",
       "      <th>2024-10-28 07:10:00</th>\n",
       "      <td>NaN</td>\n",
       "      <td>262.0</td>\n",
       "    </tr>\n",
       "    <tr>\n",
       "      <th>2024-10-28 07:30:00</th>\n",
       "      <td>NaN</td>\n",
       "      <td>262.0</td>\n",
       "    </tr>\n",
       "    <tr>\n",
       "      <th>2024-10-28 07:50:00</th>\n",
       "      <td>NaN</td>\n",
       "      <td>261.0</td>\n",
       "    </tr>\n",
       "    <tr>\n",
       "      <th>2024-10-28 08:00:00</th>\n",
       "      <td>13.4</td>\n",
       "      <td>NaN</td>\n",
       "    </tr>\n",
       "    <tr>\n",
       "      <th>2024-10-28 08:10:00</th>\n",
       "      <td>NaN</td>\n",
       "      <td>259.0</td>\n",
       "    </tr>\n",
       "    <tr>\n",
       "      <th>2024-10-28 08:30:00</th>\n",
       "      <td>NaN</td>\n",
       "      <td>258.0</td>\n",
       "    </tr>\n",
       "    <tr>\n",
       "      <th>2024-10-28 08:50:00</th>\n",
       "      <td>NaN</td>\n",
       "      <td>256.0</td>\n",
       "    </tr>\n",
       "    <tr>\n",
       "      <th>2024-10-28 09:00:00</th>\n",
       "      <td>15.9</td>\n",
       "      <td>NaN</td>\n",
       "    </tr>\n",
       "    <tr>\n",
       "      <th>2024-10-28 09:10:00</th>\n",
       "      <td>NaN</td>\n",
       "      <td>252.0</td>\n",
       "    </tr>\n",
       "    <tr>\n",
       "      <th>2024-10-28 09:30:00</th>\n",
       "      <td>NaN</td>\n",
       "      <td>249.0</td>\n",
       "    </tr>\n",
       "    <tr>\n",
       "      <th>2024-10-28 09:50:00</th>\n",
       "      <td>NaN</td>\n",
       "      <td>244.0</td>\n",
       "    </tr>\n",
       "    <tr>\n",
       "      <th>2024-10-28 10:00:00</th>\n",
       "      <td>18.6</td>\n",
       "      <td>NaN</td>\n",
       "    </tr>\n",
       "    <tr>\n",
       "      <th>2024-10-28 10:10:00</th>\n",
       "      <td>NaN</td>\n",
       "      <td>238.0</td>\n",
       "    </tr>\n",
       "    <tr>\n",
       "      <th>2024-10-28 10:30:00</th>\n",
       "      <td>NaN</td>\n",
       "      <td>233.0</td>\n",
       "    </tr>\n",
       "    <tr>\n",
       "      <th>2024-10-28 10:50:00</th>\n",
       "      <td>NaN</td>\n",
       "      <td>226.0</td>\n",
       "    </tr>\n",
       "    <tr>\n",
       "      <th>2024-10-28 11:00:00</th>\n",
       "      <td>18.7</td>\n",
       "      <td>NaN</td>\n",
       "    </tr>\n",
       "    <tr>\n",
       "      <th>2024-10-28 11:10:00</th>\n",
       "      <td>NaN</td>\n",
       "      <td>218.0</td>\n",
       "    </tr>\n",
       "    <tr>\n",
       "      <th>2024-10-28 11:30:00</th>\n",
       "      <td>NaN</td>\n",
       "      <td>210.0</td>\n",
       "    </tr>\n",
       "    <tr>\n",
       "      <th>2024-10-28 11:50:00</th>\n",
       "      <td>NaN</td>\n",
       "      <td>203.0</td>\n",
       "    </tr>\n",
       "    <tr>\n",
       "      <th>2024-10-28 12:00:00</th>\n",
       "      <td>19.5</td>\n",
       "      <td>NaN</td>\n",
       "    </tr>\n",
       "  </tbody>\n",
       "</table>\n",
       "</div>"
      ],
      "text/plain": [
       "                     temperature  visine\n",
       "2024-10-28 06:00:00         12.0     NaN\n",
       "2024-10-28 06:10:00          NaN   252.0\n",
       "2024-10-28 06:30:00          NaN   257.0\n",
       "2024-10-28 06:50:00          NaN   260.0\n",
       "2024-10-28 07:00:00         11.8     NaN\n",
       "2024-10-28 07:10:00          NaN   262.0\n",
       "2024-10-28 07:30:00          NaN   262.0\n",
       "2024-10-28 07:50:00          NaN   261.0\n",
       "2024-10-28 08:00:00         13.4     NaN\n",
       "2024-10-28 08:10:00          NaN   259.0\n",
       "2024-10-28 08:30:00          NaN   258.0\n",
       "2024-10-28 08:50:00          NaN   256.0\n",
       "2024-10-28 09:00:00         15.9     NaN\n",
       "2024-10-28 09:10:00          NaN   252.0\n",
       "2024-10-28 09:30:00          NaN   249.0\n",
       "2024-10-28 09:50:00          NaN   244.0\n",
       "2024-10-28 10:00:00         18.6     NaN\n",
       "2024-10-28 10:10:00          NaN   238.0\n",
       "2024-10-28 10:30:00          NaN   233.0\n",
       "2024-10-28 10:50:00          NaN   226.0\n",
       "2024-10-28 11:00:00         18.7     NaN\n",
       "2024-10-28 11:10:00          NaN   218.0\n",
       "2024-10-28 11:30:00          NaN   210.0\n",
       "2024-10-28 11:50:00          NaN   203.0\n",
       "2024-10-28 12:00:00         19.5     NaN"
      ]
     },
     "execution_count": 12,
     "metadata": {},
     "output_type": "execute_result"
    }
   ],
   "source": [
    "v1 = zap_voda\n",
    "t1 = zap_temp\n",
    "pd.DataFrame({\"temperature\": t1, \"visine\": v1})"
   ]
  },
  {
   "cell_type": "markdown",
   "metadata": {},
   "source": [
    "Zaporedji poravnaj tako, da zaporedju temperatur nastaviš indeks zaporedja voda. \n",
    "\n",
    "<details><summary>Namig</summary>Oglej si delovanje metode <code>reindex</code>.</details>\n",
    "\n",
    "Ponovno ju združi v tabelo, podobno tisti zgoraj. Kaj opaziš? Katere podatke obdržimo in kakšne so vrednosti obeh stolpcev? "
   ]
  },
  {
   "cell_type": "code",
   "execution_count": 13,
   "metadata": {
    "metadata": {}
   },
   "outputs": [
    {
     "data": {
      "text/html": [
       "<div>\n",
       "<style scoped>\n",
       "    .dataframe tbody tr th:only-of-type {\n",
       "        vertical-align: middle;\n",
       "    }\n",
       "\n",
       "    .dataframe tbody tr th {\n",
       "        vertical-align: top;\n",
       "    }\n",
       "\n",
       "    .dataframe thead th {\n",
       "        text-align: right;\n",
       "    }\n",
       "</style>\n",
       "<table border=\"1\" class=\"dataframe\">\n",
       "  <thead>\n",
       "    <tr style=\"text-align: right;\">\n",
       "      <th></th>\n",
       "      <th>temperature</th>\n",
       "      <th>visine</th>\n",
       "    </tr>\n",
       "  </thead>\n",
       "  <tbody>\n",
       "    <tr>\n",
       "      <th>2024-10-28 06:00:00</th>\n",
       "      <td>12.0</td>\n",
       "      <td>252</td>\n",
       "    </tr>\n",
       "    <tr>\n",
       "      <th>2024-10-28 07:00:00</th>\n",
       "      <td>11.8</td>\n",
       "      <td>262</td>\n",
       "    </tr>\n",
       "    <tr>\n",
       "      <th>2024-10-28 08:00:00</th>\n",
       "      <td>13.4</td>\n",
       "      <td>259</td>\n",
       "    </tr>\n",
       "    <tr>\n",
       "      <th>2024-10-28 09:00:00</th>\n",
       "      <td>15.9</td>\n",
       "      <td>252</td>\n",
       "    </tr>\n",
       "    <tr>\n",
       "      <th>2024-10-28 10:00:00</th>\n",
       "      <td>18.6</td>\n",
       "      <td>238</td>\n",
       "    </tr>\n",
       "    <tr>\n",
       "      <th>2024-10-28 11:00:00</th>\n",
       "      <td>18.7</td>\n",
       "      <td>218</td>\n",
       "    </tr>\n",
       "    <tr>\n",
       "      <th>2024-10-28 12:00:00</th>\n",
       "      <td>19.5</td>\n",
       "      <td>203</td>\n",
       "    </tr>\n",
       "  </tbody>\n",
       "</table>\n",
       "</div>"
      ],
      "text/plain": [
       "                     temperature  visine\n",
       "2024-10-28 06:00:00         12.0     252\n",
       "2024-10-28 07:00:00         11.8     262\n",
       "2024-10-28 08:00:00         13.4     259\n",
       "2024-10-28 09:00:00         15.9     252\n",
       "2024-10-28 10:00:00         18.6     238\n",
       "2024-10-28 11:00:00         18.7     218\n",
       "2024-10-28 12:00:00         19.5     203"
      ]
     },
     "execution_count": 13,
     "metadata": {},
     "output_type": "execute_result"
    }
   ],
   "source": [
    "t2 = zap_temp\n",
    "v2 = zap_voda.reindex(t2.index, method=\"nearest\")\n",
    "pd.DataFrame({\"temperature\": t2, \"visine\": v2})"
   ]
  },
  {
   "cell_type": "markdown",
   "metadata": {},
   "source": [
    "Zaporedji sedaj poravnaj tako, da zaporedju višin vode nastaviš indeks zaporedja temperatur. Dobimo isti nabor podatkov?\n",
    "\n",
    "Naštej in preizkusi različne načine obravnave/zamenjave manjkajočih vrednosti. Kakšne so razlike?"
   ]
  },
  {
   "cell_type": "code",
   "execution_count": 14,
   "metadata": {
    "metadata": {}
   },
   "outputs": [
    {
     "data": {
      "text/html": [
       "<div>\n",
       "<style scoped>\n",
       "    .dataframe tbody tr th:only-of-type {\n",
       "        vertical-align: middle;\n",
       "    }\n",
       "\n",
       "    .dataframe tbody tr th {\n",
       "        vertical-align: top;\n",
       "    }\n",
       "\n",
       "    .dataframe thead th {\n",
       "        text-align: right;\n",
       "    }\n",
       "</style>\n",
       "<table border=\"1\" class=\"dataframe\">\n",
       "  <thead>\n",
       "    <tr style=\"text-align: right;\">\n",
       "      <th></th>\n",
       "      <th>temperature</th>\n",
       "      <th>visine</th>\n",
       "    </tr>\n",
       "  </thead>\n",
       "  <tbody>\n",
       "    <tr>\n",
       "      <th>2024-10-28 06:10:00</th>\n",
       "      <td>12.0</td>\n",
       "      <td>252</td>\n",
       "    </tr>\n",
       "    <tr>\n",
       "      <th>2024-10-28 06:30:00</th>\n",
       "      <td>12.0</td>\n",
       "      <td>257</td>\n",
       "    </tr>\n",
       "    <tr>\n",
       "      <th>2024-10-28 06:50:00</th>\n",
       "      <td>12.0</td>\n",
       "      <td>260</td>\n",
       "    </tr>\n",
       "    <tr>\n",
       "      <th>2024-10-28 07:10:00</th>\n",
       "      <td>11.8</td>\n",
       "      <td>262</td>\n",
       "    </tr>\n",
       "    <tr>\n",
       "      <th>2024-10-28 07:30:00</th>\n",
       "      <td>11.8</td>\n",
       "      <td>262</td>\n",
       "    </tr>\n",
       "    <tr>\n",
       "      <th>2024-10-28 07:50:00</th>\n",
       "      <td>11.8</td>\n",
       "      <td>261</td>\n",
       "    </tr>\n",
       "    <tr>\n",
       "      <th>2024-10-28 08:10:00</th>\n",
       "      <td>13.4</td>\n",
       "      <td>259</td>\n",
       "    </tr>\n",
       "    <tr>\n",
       "      <th>2024-10-28 08:30:00</th>\n",
       "      <td>13.4</td>\n",
       "      <td>258</td>\n",
       "    </tr>\n",
       "    <tr>\n",
       "      <th>2024-10-28 08:50:00</th>\n",
       "      <td>13.4</td>\n",
       "      <td>256</td>\n",
       "    </tr>\n",
       "    <tr>\n",
       "      <th>2024-10-28 09:10:00</th>\n",
       "      <td>15.9</td>\n",
       "      <td>252</td>\n",
       "    </tr>\n",
       "    <tr>\n",
       "      <th>2024-10-28 09:30:00</th>\n",
       "      <td>15.9</td>\n",
       "      <td>249</td>\n",
       "    </tr>\n",
       "    <tr>\n",
       "      <th>2024-10-28 09:50:00</th>\n",
       "      <td>15.9</td>\n",
       "      <td>244</td>\n",
       "    </tr>\n",
       "    <tr>\n",
       "      <th>2024-10-28 10:10:00</th>\n",
       "      <td>18.6</td>\n",
       "      <td>238</td>\n",
       "    </tr>\n",
       "    <tr>\n",
       "      <th>2024-10-28 10:30:00</th>\n",
       "      <td>18.6</td>\n",
       "      <td>233</td>\n",
       "    </tr>\n",
       "    <tr>\n",
       "      <th>2024-10-28 10:50:00</th>\n",
       "      <td>18.6</td>\n",
       "      <td>226</td>\n",
       "    </tr>\n",
       "    <tr>\n",
       "      <th>2024-10-28 11:10:00</th>\n",
       "      <td>18.7</td>\n",
       "      <td>218</td>\n",
       "    </tr>\n",
       "    <tr>\n",
       "      <th>2024-10-28 11:30:00</th>\n",
       "      <td>18.7</td>\n",
       "      <td>210</td>\n",
       "    </tr>\n",
       "    <tr>\n",
       "      <th>2024-10-28 11:50:00</th>\n",
       "      <td>18.7</td>\n",
       "      <td>203</td>\n",
       "    </tr>\n",
       "  </tbody>\n",
       "</table>\n",
       "</div>"
      ],
      "text/plain": [
       "                     temperature  visine\n",
       "2024-10-28 06:10:00         12.0     252\n",
       "2024-10-28 06:30:00         12.0     257\n",
       "2024-10-28 06:50:00         12.0     260\n",
       "2024-10-28 07:10:00         11.8     262\n",
       "2024-10-28 07:30:00         11.8     262\n",
       "2024-10-28 07:50:00         11.8     261\n",
       "2024-10-28 08:10:00         13.4     259\n",
       "2024-10-28 08:30:00         13.4     258\n",
       "2024-10-28 08:50:00         13.4     256\n",
       "2024-10-28 09:10:00         15.9     252\n",
       "2024-10-28 09:30:00         15.9     249\n",
       "2024-10-28 09:50:00         15.9     244\n",
       "2024-10-28 10:10:00         18.6     238\n",
       "2024-10-28 10:30:00         18.6     233\n",
       "2024-10-28 10:50:00         18.6     226\n",
       "2024-10-28 11:10:00         18.7     218\n",
       "2024-10-28 11:30:00         18.7     210\n",
       "2024-10-28 11:50:00         18.7     203"
      ]
     },
     "execution_count": 14,
     "metadata": {},
     "output_type": "execute_result"
    }
   ],
   "source": [
    "v3 = zap_voda\n",
    "t3 = zap_temp.reindex(v3.index, method=\"ffill\")\n",
    "pd.DataFrame({\"temperature\": t3, \"visine\": v3})"
   ]
  },
  {
   "cell_type": "markdown",
   "metadata": {},
   "source": [
    "## Naloge iz podatkovnih tabel"
   ]
  },
  {
   "cell_type": "markdown",
   "metadata": {},
   "source": [
    "### 1. naloga: ITM\n",
    "\n",
    "Iz zaporedij pri nalogi ITM, izračunanih na drugih vajah, sestavi podatkovno tabelo s štirimi stolpci, `ime`, `visina`, `teza` in `ITM`. Spremeni imena vrstic tako, da ustrezajo imenom oseb in nato zbriši stolpec ime. Indeksiraj dobljeno tabelo tako, da dobiš imena oseb, ki imajo ITM manj kot 26."
   ]
  },
  {
   "cell_type": "code",
   "execution_count": 15,
   "metadata": {
    "metadata": {}
   },
   "outputs": [
    {
     "data": {
      "text/html": [
       "<div>\n",
       "<style scoped>\n",
       "    .dataframe tbody tr th:only-of-type {\n",
       "        vertical-align: middle;\n",
       "    }\n",
       "\n",
       "    .dataframe tbody tr th {\n",
       "        vertical-align: top;\n",
       "    }\n",
       "\n",
       "    .dataframe thead th {\n",
       "        text-align: right;\n",
       "    }\n",
       "</style>\n",
       "<table border=\"1\" class=\"dataframe\">\n",
       "  <thead>\n",
       "    <tr style=\"text-align: right;\">\n",
       "      <th></th>\n",
       "      <th>visina</th>\n",
       "      <th>teza</th>\n",
       "      <th>itm</th>\n",
       "    </tr>\n",
       "    <tr>\n",
       "      <th>ime</th>\n",
       "      <th></th>\n",
       "      <th></th>\n",
       "      <th></th>\n",
       "    </tr>\n",
       "  </thead>\n",
       "  <tbody>\n",
       "    <tr>\n",
       "      <th>Aleš</th>\n",
       "      <td>180</td>\n",
       "      <td>87</td>\n",
       "      <td>26.85</td>\n",
       "    </tr>\n",
       "    <tr>\n",
       "      <th>Barbara</th>\n",
       "      <td>165</td>\n",
       "      <td>58</td>\n",
       "      <td>21.30</td>\n",
       "    </tr>\n",
       "    <tr>\n",
       "      <th>Ciril</th>\n",
       "      <td>160</td>\n",
       "      <td>65</td>\n",
       "      <td>25.39</td>\n",
       "    </tr>\n",
       "    <tr>\n",
       "      <th>Darja</th>\n",
       "      <td>193</td>\n",
       "      <td>100</td>\n",
       "      <td>26.85</td>\n",
       "    </tr>\n",
       "  </tbody>\n",
       "</table>\n",
       "</div>"
      ],
      "text/plain": [
       "         visina  teza    itm\n",
       "ime                         \n",
       "Aleš        180    87  26.85\n",
       "Barbara     165    58  21.30\n",
       "Ciril       160    65  25.39\n",
       "Darja       193   100  26.85"
      ]
     },
     "execution_count": 15,
     "metadata": {},
     "output_type": "execute_result"
    }
   ],
   "source": [
    "visine = pd.Series([180, 165, 160, 193])\n",
    "teze = pd.Series([87, 58, 65, 100])\n",
    "imena = pd.Series([\"Aleš\", \"Barbara\", \"Ciril\", \"Darja\"])\n",
    "podatki = pd.DataFrame({\"ime\": imena, \"visina\": visine, \"teza\": teze})\n",
    "podatki[\"itm\"] = (podatki.teza / ((podatki.visina/100) ** 2)).round(2)\n",
    "podatki.set_index(\"ime\", inplace=True)\n",
    "podatki"
   ]
  },
  {
   "cell_type": "code",
   "execution_count": 16,
   "metadata": {
    "metadata": {}
   },
   "outputs": [
    {
     "data": {
      "text/plain": [
       "Index(['Barbara', 'Ciril'], dtype='object', name='ime')"
      ]
     },
     "execution_count": 16,
     "metadata": {},
     "output_type": "execute_result"
    }
   ],
   "source": [
    "podatki.loc[podatki.itm <= 26].index"
   ]
  },
  {
   "cell_type": "markdown",
   "metadata": {},
   "source": [
    "### 2. naloga: naključna zaporedja\n",
    "Ustvari dve zaporedji `x` in `y` dolžine 250 tako, da s ponavljanjem naključno izbiraš naravna števila iz intervala $[0, 999]$. Označimo z $x_1, x_2, \\ldots, x_{250}$ in $y_1, y_2, \\ldots, y_{250}$ elemente zaporedij `x` in `y`. Izračunaj:\n",
    "\n",
    "* Zaporedje z elementi $y_2 - x_1, y_3 - x_2, \\ldots, y_{250} - x_{249}$.\n",
    "* Vsoto $\\sum_{i=1}^{249} e^{- x_{i+1}} / (x_i + 10)$.\n"
   ]
  },
  {
   "cell_type": "code",
   "execution_count": 17,
   "metadata": {
    "metadata": {}
   },
   "outputs": [],
   "source": [
    "x = pd.Series([random.randint(0, 999) for _ in range(250)], index=list(range(1, 251)))\n",
    "y = pd.Series([random.randint(0, 999) for _ in range(250)], index=list(range(1, 251)))"
   ]
  },
  {
   "cell_type": "code",
   "execution_count": 18,
   "metadata": {
    "metadata": {}
   },
   "outputs": [
    {
     "name": "stdout",
     "output_type": "stream",
     "text": [
      "1      797.0\n",
      "2     -468.0\n",
      "3        1.0\n",
      "4      343.0\n",
      "5      300.0\n",
      "       ...  \n",
      "246    597.0\n",
      "247    220.0\n",
      "248   -410.0\n",
      "249   -680.0\n",
      "250      NaN\n",
      "Length: 250, dtype: float64\n"
     ]
    }
   ],
   "source": [
    "y1 = y[1:]\n",
    "y1.index = list(range(1, 250))\n",
    "razlike = y1-x\n",
    "print(razlike)"
   ]
  },
  {
   "cell_type": "markdown",
   "metadata": {},
   "source": [
    "Vse skupaj v eni tabeli za primerjavo:"
   ]
  },
  {
   "cell_type": "code",
   "execution_count": 19,
   "metadata": {
    "metadata": {}
   },
   "outputs": [
    {
     "name": "stdout",
     "output_type": "stream",
     "text": [
      "       x    y  zamaknjeno_y  razlike\n",
      "1    140  914         937.0    797.0\n",
      "2    861  937         393.0   -468.0\n",
      "3    257  393         258.0      1.0\n",
      "4    298  258         641.0    343.0\n",
      "5    533  641         833.0    300.0\n",
      "..   ...  ...           ...      ...\n",
      "246   35  789         632.0    597.0\n",
      "247  600  632         820.0    220.0\n",
      "248  918  820         508.0   -410.0\n",
      "249  921  508         241.0   -680.0\n",
      "250  532  241           NaN      NaN\n",
      "\n",
      "[250 rows x 4 columns]\n"
     ]
    }
   ],
   "source": [
    "df = pd.DataFrame({\"x\": x, \"y\": y, \"zamaknjeno_y\": y1, \"razlike\": razlike})\n",
    "print(df)"
   ]
  },
  {
   "cell_type": "markdown",
   "metadata": {},
   "source": [
    "Računanje vsote $\\sum_{i=1}^{249} e^{- x_{i+1}} / (x_i + 10)$:"
   ]
  },
  {
   "cell_type": "code",
   "execution_count": 20,
   "metadata": {
    "metadata": {}
   },
   "outputs": [
    {
     "data": {
      "text/plain": [
       "0.00038674886151106194"
      ]
     },
     "execution_count": 20,
     "metadata": {},
     "output_type": "execute_result"
    }
   ],
   "source": [
    "x1 = x[1:]\n",
    "x1.index = list(range(1, 250))\n",
    "vsota = (np.e**(-x1)/(x+10)).sum()\n",
    "vsota"
   ]
  },
  {
   "cell_type": "markdown",
   "metadata": {},
   "source": [
    "### 3. naloga - temperature - 1. del\n",
    "\n",
    "Dana je podatkovna tabela `temperature` s podatki o povprečni dnevni temperaturi zraka (v Celzijevih stopinjah) v Ljubljani v obdobju od začetka leta 2010 do konca 2019."
   ]
  },
  {
   "cell_type": "code",
   "execution_count": 21,
   "metadata": {
    "metadata": {}
   },
   "outputs": [],
   "source": [
    "temperature = pd.read_csv(\"https://kt.ijs.si/~ljupco/lectures/papvp-2324/temp-lj-2010-2019.csv\")"
   ]
  },
  {
   "cell_type": "markdown",
   "metadata": {},
   "source": [
    "* Iz podatkovne tabele sestavi zaporedje `temp_lj`, kjer so indeksi datumi v opazovanem obdobju in vrednost elementa enaka povprečni temperaturi na ustrezen datum.\n",
    "    * preveri pogostost (angl. _resolution_) indeksa (pričakujemo rezultat `\"day\"`)\n",
    "    * temperaturo na božič 2015 (25. december)\n",
    "    * izpiši temperature v juniju 2010\n",
    "    * izpiši temperature med 19. decembrom 2012 in 3. januarjem 2013\n",
    "* Z indeksiranjem zaporedja `temp_lj` sestavi novo zaporedje `temp_lj_petek` povprečnih temperatur ob petkih.\n",
    "* Z indeksiranjem zaporedja `temp_lj` sestavi novo zaporedje `temp_lj_13` povprečnih temperatur za vsak datum, kjer je dan v mesecu enak 13.\n",
    "* S poravnavo zaporedij `temp_lj_petek` in `temp_lj_13` sestavi novo zaporedje `temp_lj_petek_13` s povprečnimi temperaturami za vsak petek trinajstega v opazovanem obdobju.\n",
    "* Z indeksiranjem zaporedja `temp_lj_petek_13` izpiši datuma za najbolj vroč in najbolj hladen petek trinajstega.\n",
    "* Izračunaj povprečno temperaturo za datume, ki padejo na petek trinajstega v opazovanem obdobju."
   ]
  },
  {
   "cell_type": "code",
   "execution_count": 22,
   "metadata": {
    "metadata": {}
   },
   "outputs": [
    {
     "data": {
      "text/html": [
       "<div>\n",
       "<style scoped>\n",
       "    .dataframe tbody tr th:only-of-type {\n",
       "        vertical-align: middle;\n",
       "    }\n",
       "\n",
       "    .dataframe tbody tr th {\n",
       "        vertical-align: top;\n",
       "    }\n",
       "\n",
       "    .dataframe thead th {\n",
       "        text-align: right;\n",
       "    }\n",
       "</style>\n",
       "<table border=\"1\" class=\"dataframe\">\n",
       "  <thead>\n",
       "    <tr style=\"text-align: right;\">\n",
       "      <th></th>\n",
       "      <th>datum</th>\n",
       "      <th>povprecna_temperatura</th>\n",
       "    </tr>\n",
       "  </thead>\n",
       "  <tbody>\n",
       "    <tr>\n",
       "      <th>0</th>\n",
       "      <td>2010-01-01</td>\n",
       "      <td>6.9</td>\n",
       "    </tr>\n",
       "    <tr>\n",
       "      <th>1</th>\n",
       "      <td>2010-01-02</td>\n",
       "      <td>2.5</td>\n",
       "    </tr>\n",
       "    <tr>\n",
       "      <th>2</th>\n",
       "      <td>2010-01-03</td>\n",
       "      <td>-0.5</td>\n",
       "    </tr>\n",
       "    <tr>\n",
       "      <th>3</th>\n",
       "      <td>2010-01-04</td>\n",
       "      <td>-3.3</td>\n",
       "    </tr>\n",
       "    <tr>\n",
       "      <th>4</th>\n",
       "      <td>2010-01-05</td>\n",
       "      <td>-1.5</td>\n",
       "    </tr>\n",
       "    <tr>\n",
       "      <th>...</th>\n",
       "      <td>...</td>\n",
       "      <td>...</td>\n",
       "    </tr>\n",
       "    <tr>\n",
       "      <th>3647</th>\n",
       "      <td>2019-12-27</td>\n",
       "      <td>3.0</td>\n",
       "    </tr>\n",
       "    <tr>\n",
       "      <th>3648</th>\n",
       "      <td>2019-12-28</td>\n",
       "      <td>0.7</td>\n",
       "    </tr>\n",
       "    <tr>\n",
       "      <th>3649</th>\n",
       "      <td>2019-12-29</td>\n",
       "      <td>-1.4</td>\n",
       "    </tr>\n",
       "    <tr>\n",
       "      <th>3650</th>\n",
       "      <td>2019-12-30</td>\n",
       "      <td>-2.3</td>\n",
       "    </tr>\n",
       "    <tr>\n",
       "      <th>3651</th>\n",
       "      <td>2019-12-31</td>\n",
       "      <td>-0.3</td>\n",
       "    </tr>\n",
       "  </tbody>\n",
       "</table>\n",
       "<p>3652 rows × 2 columns</p>\n",
       "</div>"
      ],
      "text/plain": [
       "           datum  povprecna_temperatura\n",
       "0     2010-01-01                    6.9\n",
       "1     2010-01-02                    2.5\n",
       "2     2010-01-03                   -0.5\n",
       "3     2010-01-04                   -3.3\n",
       "4     2010-01-05                   -1.5\n",
       "...          ...                    ...\n",
       "3647  2019-12-27                    3.0\n",
       "3648  2019-12-28                    0.7\n",
       "3649  2019-12-29                   -1.4\n",
       "3650  2019-12-30                   -2.3\n",
       "3651  2019-12-31                   -0.3\n",
       "\n",
       "[3652 rows x 2 columns]"
      ]
     },
     "execution_count": 22,
     "metadata": {},
     "output_type": "execute_result"
    }
   ],
   "source": [
    "temperature"
   ]
  },
  {
   "cell_type": "markdown",
   "metadata": {},
   "source": [
    "1. Iz podatkovne tabele sestavi zaporedje `temp_lj`, kjer so indeksi datumi v opazovanem obdobju in vrednost elementa enaka povprečni temperaturi na ustrezen datum. \n",
    "    * preveri pogostost (angl. _resolution_) indeksa - pričakujemo rezultat `\"day\"`\n",
    "    * temperaturo na božič 2015 (25. december)\n",
    "    * izpiši temperature v juniju 2010\n",
    "    * izpiši temperature med 19. decembrom 2012 in 3. januarjem 2013"
   ]
  },
  {
   "cell_type": "code",
   "execution_count": 23,
   "metadata": {
    "metadata": {}
   },
   "outputs": [],
   "source": [
    "temp_lj = temperature.povprecna_temperatura\n",
    "temp_lj.index = pd.to_datetime(temperature.datum)"
   ]
  },
  {
   "cell_type": "code",
   "execution_count": 24,
   "metadata": {
    "metadata": {}
   },
   "outputs": [
    {
     "name": "stdout",
     "output_type": "stream",
     "text": [
      "Resolucija:  day\n",
      "Božič 2015:  2.9\n",
      "Junij 2010:\n",
      " datum\n",
      "2010-06-01    17.0\n",
      "2010-06-02    13.8\n",
      "2010-06-03    15.1\n",
      "2010-06-04    17.3\n",
      "2010-06-05    18.9\n",
      "2010-06-06    21.8\n",
      "2010-06-07    23.0\n",
      "2010-06-08    23.2\n",
      "2010-06-09    23.5\n",
      "2010-06-10    23.8\n",
      "2010-06-11    24.7\n",
      "2010-06-12    25.5\n",
      "2010-06-13    24.9\n",
      "2010-06-14    23.0\n",
      "2010-06-15    20.6\n",
      "2010-06-16    19.0\n",
      "2010-06-17    20.1\n",
      "2010-06-18    19.4\n",
      "2010-06-19    16.5\n",
      "2010-06-20    13.1\n",
      "2010-06-21    14.8\n",
      "2010-06-22    17.7\n",
      "2010-06-23    19.3\n",
      "2010-06-24    18.9\n",
      "2010-06-25    20.9\n",
      "2010-06-26    21.3\n",
      "2010-06-27    22.1\n",
      "2010-06-28    22.3\n",
      "2010-06-29    23.7\n",
      "2010-06-30    23.1\n",
      "Name: povprecna_temperatura, dtype: float64 \n",
      "\n",
      "Zima 12/13: \n",
      " datum\n",
      "2012-12-19    1.5\n",
      "2012-12-20   -1.2\n",
      "2012-12-21    0.6\n",
      "2012-12-22    1.4\n",
      "2012-12-23    3.1\n",
      "2012-12-24    7.6\n",
      "2012-12-25    9.2\n",
      "2012-12-26    7.8\n",
      "2012-12-27    4.1\n",
      "2012-12-28    4.9\n",
      "2012-12-29   -0.3\n",
      "2012-12-30   -1.8\n",
      "2012-12-31   -1.3\n",
      "2013-01-01    2.5\n",
      "2013-01-02    3.9\n",
      "2013-01-03    4.1\n",
      "Name: povprecna_temperatura, dtype: float64 \n",
      "\n"
     ]
    }
   ],
   "source": [
    "print(\"Resolucija: \", temp_lj.index.resolution)\n",
    "print(\"Božič 2015: \", temp_lj['2015-12-25'])\n",
    "print(\"Junij 2010:\\n\", temp_lj['2010-06'], '\\n')\n",
    "print(\"Zima 12/13: \\n\", temp_lj.loc[\"2012-12-19\":\"2013-01-03\"], \"\\n\")"
   ]
  },
  {
   "cell_type": "markdown",
   "metadata": {},
   "source": [
    "2. Z indeksiranjem zaporedja `temp_lj` sestavi novo zaporedje `temp_lj_petek` povprečnih temperatur ob petkih."
   ]
  },
  {
   "cell_type": "code",
   "execution_count": 25,
   "metadata": {
    "metadata": {}
   },
   "outputs": [
    {
     "name": "stdout",
     "output_type": "stream",
     "text": [
      "2010-01-01     6.9\n",
      "2010-01-08    -0.2\n",
      "2010-01-15     0.9\n",
      "2010-01-22    -2.2\n",
      "2010-01-29    -4.6\n",
      "              ... \n",
      "2019-11-29     8.4\n",
      "2019-12-06     0.6\n",
      "2019-12-13     0.2\n",
      "2019-12-20    10.4\n",
      "2019-12-27     3.0\n",
      "Name: povprecna_temperatura, Length: 522, dtype: float64\n"
     ]
    }
   ],
   "source": [
    "temp_lj_petek = temp_lj.loc[pd.date_range(start=\"2010-01-01\", end=\"2019-12-31\", freq=\"W-Fri\")]\n",
    "print(temp_lj_petek)"
   ]
  },
  {
   "cell_type": "markdown",
   "metadata": {},
   "source": [
    "3. Z indeksiranjem zaporedja `temp_lj` sestavi novo zaporedje `temp_lj_13` povprečnih temperatur za vsak datum, kjer je dan v mesecu enak 13.\n"
   ]
  },
  {
   "cell_type": "code",
   "execution_count": 26,
   "metadata": {
    "metadata": {}
   },
   "outputs": [
    {
     "name": "stdout",
     "output_type": "stream",
     "text": [
      "datum\n",
      "2010-01-13    -0.3\n",
      "2010-02-13    -0.3\n",
      "2010-03-13     2.9\n",
      "2010-04-13     6.7\n",
      "2010-05-13    13.5\n",
      "              ... \n",
      "2019-08-13    21.7\n",
      "2019-09-13    18.5\n",
      "2019-10-13    15.0\n",
      "2019-11-13     7.0\n",
      "2019-12-13     0.2\n",
      "Name: povprecna_temperatura, Length: 120, dtype: float64\n"
     ]
    }
   ],
   "source": [
    "temp_lj_13 = temp_lj[temp_lj.index.day == 13]\n",
    "print(temp_lj_13)"
   ]
  },
  {
   "cell_type": "markdown",
   "metadata": {},
   "source": [
    "4. S poravnavo zaporedij `temp_lj_petek` in `temp_lj_13` sestavi novo zaporedje `temp_lj_petek_13` s povprečnimi temperaturami za vsak petek trinajstega v opazovanem obdobju."
   ]
  },
  {
   "cell_type": "code",
   "execution_count": 27,
   "metadata": {
    "metadata": {}
   },
   "outputs": [
    {
     "data": {
      "text/plain": [
       "2010-08-13    18.0\n",
       "2011-05-13    19.9\n",
       "2012-01-13     2.2\n",
       "2012-04-13    10.5\n",
       "2012-07-13    19.2\n",
       "2013-09-13    13.8\n",
       "2013-12-13    -0.3\n",
       "2014-06-13    20.2\n",
       "2015-02-13     2.9\n",
       "2015-03-13     5.6\n",
       "2015-11-13     6.6\n",
       "2016-05-13    13.0\n",
       "2017-01-13     1.7\n",
       "2017-10-13    13.4\n",
       "2018-04-13    13.1\n",
       "2018-07-13    21.9\n",
       "2019-09-13    18.5\n",
       "2019-12-13     0.2\n",
       "Name: povprecna_temperatura, dtype: float64"
      ]
     },
     "execution_count": 27,
     "metadata": {},
     "output_type": "execute_result"
    }
   ],
   "source": [
    "temp_lj_petek_13 = temp_lj_petek.align(temp_lj_13, join=\"inner\")[0]\n",
    "temp_lj_petek_13"
   ]
  },
  {
   "cell_type": "markdown",
   "metadata": {},
   "source": [
    "5. Z indeksiranjem zaporedja `temp_lj_petek_13` izpiši datuma za najbolj vroč in najbolj hladen petek trinajstega."
   ]
  },
  {
   "cell_type": "code",
   "execution_count": 28,
   "metadata": {
    "metadata": {}
   },
   "outputs": [
    {
     "data": {
      "text/plain": [
       "2013-12-13    -0.3\n",
       "2018-07-13    21.9\n",
       "Name: povprecna_temperatura, dtype: float64"
      ]
     },
     "execution_count": 28,
     "metadata": {},
     "output_type": "execute_result"
    }
   ],
   "source": [
    "temp_lj_petek_13[(temp_lj_petek_13==max(temp_lj_petek_13)) | (temp_lj_petek_13==min(temp_lj_petek_13))]"
   ]
  },
  {
   "cell_type": "markdown",
   "metadata": {},
   "source": [
    "6. Izračunaj povprečno temperaturo za datume, ki padejo na petek trinajstega v opazovanem obdobju, določenem z `zac_cas` in `kon_cas`."
   ]
  },
  {
   "cell_type": "code",
   "execution_count": 29,
   "metadata": {
    "metadata": {}
   },
   "outputs": [
    {
     "data": {
      "text/plain": [
       "11.133333333333333"
      ]
     },
     "execution_count": 29,
     "metadata": {},
     "output_type": "execute_result"
    }
   ],
   "source": [
    "temp_lj_petek_13.mean()"
   ]
  },
  {
   "cell_type": "markdown",
   "metadata": {},
   "source": [
    "### 4. naloga - temperature - 2. del\n",
    "\n",
    "Uporabi **tabelo** `temperature` iz prejšnje naloge. Stolpec `datum` popravi, da bo tipa `datetime`.\n",
    "\n",
    "* Izpiši datume najbolj vročih in najbolj hladnih dni v opazovanem obdobju.\n",
    "* Izpiši datume s temperaturo, ki ne odstopa za več kot eno stopinjo Celzija od povprečne temperature v tem obdobju.\n",
    "* Sestavi funkcijo, ki za podano leto in mesec vrne povprečno temperaturo zraka.\n",
    "* Z uporabo te funkcije sestavi zaporedje povprečnih temperatur po mesecih (zaporedje naj vsebuje eno vrstico za vsak mesec vsakega leta).\n",
    "    <details><summary>Namig</summary>\n",
    "    Preveri, kako deluje metoda <a href=\"https://pandas.pydata.org/docs/reference/api/pandas.Series.apply.html\"><code>apply</code></a> na podatkovnih zaporedjih in okvirjih. Kako bi dobil vse mesece in leta v izbranem obdobju?\n",
    "    </details>\n",
    "* Izpiši mesece, ko je bila povprečna temperatura najvišja oziroma najnižja."
   ]
  },
  {
   "cell_type": "code",
   "execution_count": 30,
   "metadata": {
    "metadata": {}
   },
   "outputs": [],
   "source": [
    "temperature['datum'] = pd.to_datetime(temperature['datum'])"
   ]
  },
  {
   "cell_type": "code",
   "execution_count": 31,
   "metadata": {
    "metadata": {}
   },
   "outputs": [
    {
     "data": {
      "text/plain": [
       "0      2010-01-01\n",
       "1      2010-01-02\n",
       "2      2010-01-03\n",
       "3      2010-01-04\n",
       "4      2010-01-05\n",
       "          ...    \n",
       "3647   2019-12-27\n",
       "3648   2019-12-28\n",
       "3649   2019-12-29\n",
       "3650   2019-12-30\n",
       "3651   2019-12-31\n",
       "Name: datum, Length: 3652, dtype: datetime64[ns]"
      ]
     },
     "execution_count": 31,
     "metadata": {},
     "output_type": "execute_result"
    }
   ],
   "source": [
    "temperature.datum"
   ]
  },
  {
   "cell_type": "markdown",
   "metadata": {},
   "source": [
    "1. Izpiši datume s temperaturo, ki ne odstopa za več kot eno stopinjo Celzija od povprečne temperature v tem obdobju."
   ]
  },
  {
   "cell_type": "code",
   "execution_count": 32,
   "metadata": {
    "metadata": {}
   },
   "outputs": [
    {
     "name": "stdout",
     "output_type": "stream",
     "text": [
      "11.999644030668126\n"
     ]
    }
   ],
   "source": [
    "povp = temperature.povprecna_temperatura.mean()\n",
    "print(povp)"
   ]
  },
  {
   "cell_type": "code",
   "execution_count": 33,
   "metadata": {
    "metadata": {}
   },
   "outputs": [
    {
     "data": {
      "text/html": [
       "<div>\n",
       "<style scoped>\n",
       "    .dataframe tbody tr th:only-of-type {\n",
       "        vertical-align: middle;\n",
       "    }\n",
       "\n",
       "    .dataframe tbody tr th {\n",
       "        vertical-align: top;\n",
       "    }\n",
       "\n",
       "    .dataframe thead th {\n",
       "        text-align: right;\n",
       "    }\n",
       "</style>\n",
       "<table border=\"1\" class=\"dataframe\">\n",
       "  <thead>\n",
       "    <tr style=\"text-align: right;\">\n",
       "      <th></th>\n",
       "      <th>datum</th>\n",
       "      <th>povprecna_temperatura</th>\n",
       "    </tr>\n",
       "  </thead>\n",
       "  <tbody>\n",
       "    <tr>\n",
       "      <th>79</th>\n",
       "      <td>2010-03-21</td>\n",
       "      <td>11.0</td>\n",
       "    </tr>\n",
       "    <tr>\n",
       "      <th>81</th>\n",
       "      <td>2010-03-23</td>\n",
       "      <td>11.7</td>\n",
       "    </tr>\n",
       "    <tr>\n",
       "      <th>82</th>\n",
       "      <td>2010-03-24</td>\n",
       "      <td>11.7</td>\n",
       "    </tr>\n",
       "    <tr>\n",
       "      <th>83</th>\n",
       "      <td>2010-03-25</td>\n",
       "      <td>12.8</td>\n",
       "    </tr>\n",
       "    <tr>\n",
       "      <th>84</th>\n",
       "      <td>2010-03-26</td>\n",
       "      <td>11.6</td>\n",
       "    </tr>\n",
       "    <tr>\n",
       "      <th>...</th>\n",
       "      <td>...</td>\n",
       "      <td>...</td>\n",
       "    </tr>\n",
       "    <tr>\n",
       "      <th>3595</th>\n",
       "      <td>2019-11-05</td>\n",
       "      <td>12.1</td>\n",
       "    </tr>\n",
       "    <tr>\n",
       "      <th>3607</th>\n",
       "      <td>2019-11-17</td>\n",
       "      <td>12.0</td>\n",
       "    </tr>\n",
       "    <tr>\n",
       "      <th>3618</th>\n",
       "      <td>2019-11-28</td>\n",
       "      <td>11.1</td>\n",
       "    </tr>\n",
       "    <tr>\n",
       "      <th>3637</th>\n",
       "      <td>2019-12-17</td>\n",
       "      <td>12.9</td>\n",
       "    </tr>\n",
       "    <tr>\n",
       "      <th>3638</th>\n",
       "      <td>2019-12-18</td>\n",
       "      <td>11.0</td>\n",
       "    </tr>\n",
       "  </tbody>\n",
       "</table>\n",
       "<p>280 rows × 2 columns</p>\n",
       "</div>"
      ],
      "text/plain": [
       "          datum  povprecna_temperatura\n",
       "79   2010-03-21                   11.0\n",
       "81   2010-03-23                   11.7\n",
       "82   2010-03-24                   11.7\n",
       "83   2010-03-25                   12.8\n",
       "84   2010-03-26                   11.6\n",
       "...         ...                    ...\n",
       "3595 2019-11-05                   12.1\n",
       "3607 2019-11-17                   12.0\n",
       "3618 2019-11-28                   11.1\n",
       "3637 2019-12-17                   12.9\n",
       "3638 2019-12-18                   11.0\n",
       "\n",
       "[280 rows x 2 columns]"
      ]
     },
     "execution_count": 33,
     "metadata": {},
     "output_type": "execute_result"
    }
   ],
   "source": [
    "temperature.loc[abs(temperature.povprecna_temperatura - povp) <= 1]"
   ]
  },
  {
   "cell_type": "markdown",
   "metadata": {},
   "source": [
    "2. Izpiši datume najbolj vročih in najbolj hladnih dni v opazovanem obdobju."
   ]
  },
  {
   "cell_type": "code",
   "execution_count": 34,
   "metadata": {
    "metadata": {}
   },
   "outputs": [
    {
     "name": "stdout",
     "output_type": "stream",
     "text": [
      "         datum  povprecna_temperatura\n",
      "765 2012-02-05                   -9.0\n",
      "          datum  povprecna_temperatura\n",
      "2772 2017-08-04                   30.0\n"
     ]
    }
   ],
   "source": [
    "najnizja = temperature.povprecna_temperatura.min()\n",
    "najvisja = temperature.povprecna_temperatura.max()\n",
    "print(temperature.loc[temperature.povprecna_temperatura == najnizja])\n",
    "print(temperature.loc[temperature.povprecna_temperatura == najvisja])"
   ]
  },
  {
   "cell_type": "markdown",
   "metadata": {},
   "source": [
    "3. Sestavi funkcijo, ki za podano leto in mesec vrne povprečno temperaturo zraka."
   ]
  },
  {
   "cell_type": "code",
   "execution_count": 35,
   "metadata": {
    "metadata": {}
   },
   "outputs": [],
   "source": [
    "def povprecje(podatki, leto, mesec):\n",
    "    return podatki.loc[(podatki.datum.dt.month == mesec) & (podatki.datum.dt.year == leto)].povprecna_temperatura.mean()"
   ]
  },
  {
   "cell_type": "code",
   "execution_count": 36,
   "metadata": {
    "metadata": {}
   },
   "outputs": [
    {
     "name": "stdout",
     "output_type": "stream",
     "text": [
      "1.6483870967741934\n",
      "21.33\n",
      "23.303225806451614\n"
     ]
    }
   ],
   "source": [
    "print(povprecje(temperature, 2012, 1))\n",
    "print(povprecje(temperature, 2012, 6))\n",
    "print(povprecje(temperature, 2012, 8))"
   ]
  },
  {
   "cell_type": "markdown",
   "metadata": {},
   "source": [
    "4. Z uporabo te funkcije sestavi zaporedje povprečnih temperatur po mesecih (indeksi zaporedja naj bodo torej meseci in leta v opazovanem obdobju).\n",
    "\n",
    "    <details><summary>Namig</summary>\n",
    "    Preveri, kako deluje metoda <a href=\"https://pandas.pydata.org/docs/reference/api/pandas.Series.apply.html\"><code>apply</code></a> na podatkovnih zaporedjih in okvirjih. Kako bi dobil vse mesece in leta v izbranem obdobju?\n",
    "    </details>"
   ]
  },
  {
   "cell_type": "code",
   "execution_count": 37,
   "metadata": {
    "metadata": {}
   },
   "outputs": [
    {
     "data": {
      "text/plain": [
       "2010-01-31    -1.487097\n",
       "2010-02-28     1.289286\n",
       "2010-03-31     6.177419\n",
       "2010-04-30    11.486667\n",
       "2010-05-31    15.280645\n",
       "                ...    \n",
       "2019-08-31    22.606452\n",
       "2019-09-30    16.820000\n",
       "2019-10-31    13.248387\n",
       "2019-11-30     8.753333\n",
       "2019-12-31     3.587097\n",
       "Freq: M, Length: 120, dtype: float64"
      ]
     },
     "execution_count": 37,
     "metadata": {},
     "output_type": "execute_result"
    }
   ],
   "source": [
    "meseci = pd.date_range(\n",
    "        temperature.datum.min(), \n",
    "        temperature.datum.max(), \n",
    "        freq=\"M\"\n",
    ")\n",
    "povprecja = pd.Series(meseci).apply(lambda x: povprecje(temperature, x.year, x.month))\n",
    "povprecja.index = meseci\n",
    "povprecja"
   ]
  },
  {
   "cell_type": "markdown",
   "metadata": {},
   "source": [
    "5. Izpiši mesece in leta, ko je bila povprečna temperatura najvišja oziroma najnižja."
   ]
  },
  {
   "cell_type": "code",
   "execution_count": 38,
   "metadata": {
    "metadata": {}
   },
   "outputs": [
    {
     "name": "stdout",
     "output_type": "stream",
     "text": [
      "Najhladnejši meseci:\n",
      "\t* 1. 2017\n"
     ]
    }
   ],
   "source": [
    "najmanj = povprecja.min()\n",
    "print(\"Najhladnejši meseci:\")\n",
    "for datum in povprecja[povprecja == najmanj].index:\n",
    "    print(f\"\\t* {datum.month}. {datum.year}\")"
   ]
  },
  {
   "cell_type": "code",
   "execution_count": 39,
   "metadata": {
    "metadata": {}
   },
   "outputs": [
    {
     "name": "stdout",
     "output_type": "stream",
     "text": [
      "Najtoplejši meseci:\n",
      "\t* 7. 2015\n"
     ]
    }
   ],
   "source": [
    "najvec = povprecja.max()\n",
    "print(\"Najtoplejši meseci:\")\n",
    "for datum in povprecja[povprecja == najvec].index:\n",
    "    print(f\"\\t* {datum.month}. {datum.year}\")"
   ]
  }
 ],
 "metadata": {
  "kernelspec": {
   "display_name": "venv",
   "language": "python",
   "name": "python3"
  },
  "language_info": {
   "codemirror_mode": {
    "name": "ipython",
    "version": 3
   },
   "file_extension": ".py",
   "mimetype": "text/x-python",
   "name": "python",
   "nbconvert_exporter": "python",
   "pygments_lexer": "ipython3",
   "version": "3.10.11"
  }
 },
 "nbformat": 4,
 "nbformat_minor": 2
}
