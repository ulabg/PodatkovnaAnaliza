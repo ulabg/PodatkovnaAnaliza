{
 "cells": [
  {
   "cell_type": "markdown",
   "metadata": {},
   "source": [
    "# Knjižnica pandas - zaporedja in podatkovni tipi\n",
    "\n",
    "Za začetek uvozimo knjižnico `pandas`. Da nam ni treba ob vsaki uporabi funkcij iz knjižnice pred njimi pisati celega imena knjižnice, jo ponavadi uvozimo kar pod imenom `pd`.\n",
    "\n",
    "_Namig: uporabi obliko `import <knjiznica> as <ime>`._"
   ]
  },
  {
   "cell_type": "code",
   "execution_count": null,
   "metadata": {},
   "outputs": [],
   "source": [
    "import pandas as pd\n",
    "import random"
   ]
  },
  {
   "cell_type": "markdown",
   "metadata": {},
   "source": [
    "Ustvari seznam kvadratov števil od 10 do 41. Pomagaj si z izpeljanimi seznami.\n",
    "\n",
    "Iz seznama nato ustvari podatkovno zaporedje (_Series_) in ga izpiši."
   ]
  },
  {
   "cell_type": "code",
   "execution_count": 5,
   "metadata": {},
   "outputs": [
    {
     "name": "stdout",
     "output_type": "stream",
     "text": [
      "0      100\n",
      "1      121\n",
      "2      144\n",
      "3      169\n",
      "4      196\n",
      "5      225\n",
      "6      256\n",
      "7      289\n",
      "8      324\n",
      "9      361\n",
      "10     400\n",
      "11     441\n",
      "12     484\n",
      "13     529\n",
      "14     576\n",
      "15     625\n",
      "16     676\n",
      "17     729\n",
      "18     784\n",
      "19     841\n",
      "20     900\n",
      "21     961\n",
      "22    1024\n",
      "23    1089\n",
      "24    1156\n",
      "25    1225\n",
      "26    1296\n",
      "27    1369\n",
      "28    1444\n",
      "29    1521\n",
      "30    1600\n",
      "31    1681\n",
      "dtype: int64\n"
     ]
    }
   ],
   "source": [
    "import pandas as pd\n",
    "kvadrati = [x**2 for x in range(10,42)]\n",
    "series = pd.Series(kvadrati)\n",
    "print(series)"
   ]
  },
  {
   "cell_type": "markdown",
   "metadata": {},
   "source": [
    "### Indeksiranje"
   ]
  },
  {
   "cell_type": "markdown",
   "metadata": {},
   "source": [
    "Izpiši kvadrat števila 21:"
   ]
  },
  {
   "cell_type": "code",
   "execution_count": 8,
   "metadata": {},
   "outputs": [
    {
     "data": {
      "text/plain": [
       "441"
      ]
     },
     "execution_count": 8,
     "metadata": {},
     "output_type": "execute_result"
    }
   ],
   "source": [
    "kvadrati[11]\n"
   ]
  },
  {
   "cell_type": "markdown",
   "metadata": {},
   "source": [
    "Popravi indekse zaporedja, da bo na indeksu $i$ kvadrat števila $i$: `s1[i]` $\\rightarrow$ $i^2$:"
   ]
  },
  {
   "cell_type": "code",
   "execution_count": 10,
   "metadata": {},
   "outputs": [
    {
     "name": "stdout",
     "output_type": "stream",
     "text": [
      "10     100\n",
      "11     121\n",
      "12     144\n",
      "13     169\n",
      "14     196\n",
      "15     225\n",
      "16     256\n",
      "17     289\n",
      "18     324\n",
      "19     361\n",
      "20     400\n",
      "21     441\n",
      "22     484\n",
      "23     529\n",
      "24     576\n",
      "25     625\n",
      "26     676\n",
      "27     729\n",
      "28     784\n",
      "29     841\n",
      "30     900\n",
      "31     961\n",
      "32    1024\n",
      "33    1089\n",
      "34    1156\n",
      "35    1225\n",
      "36    1296\n",
      "37    1369\n",
      "38    1444\n",
      "39    1521\n",
      "40    1600\n",
      "41    1681\n",
      "dtype: int64\n"
     ]
    }
   ],
   "source": [
    "series.index = list(range(10,42))\n",
    "print(series)"
   ]
  },
  {
   "cell_type": "markdown",
   "metadata": {},
   "source": [
    "Na dva načina izpiši kvadrate števil med 10 in 20 (vključno). Najprej uporabi lastnost `loc`, nato pa še `iloc`."
   ]
  },
  {
   "cell_type": "code",
   "execution_count": 14,
   "metadata": {},
   "outputs": [
    {
     "name": "stdout",
     "output_type": "stream",
     "text": [
      "10    100\n",
      "11    121\n",
      "12    144\n",
      "13    169\n",
      "14    196\n",
      "15    225\n",
      "16    256\n",
      "17    289\n",
      "18    324\n",
      "19    361\n",
      "20    400\n",
      "dtype: int64\n",
      "10    100\n",
      "11    121\n",
      "12    144\n",
      "13    169\n",
      "14    196\n",
      "15    225\n",
      "16    256\n",
      "17    289\n",
      "18    324\n",
      "19    361\n",
      "20    400\n",
      "dtype: int64\n"
     ]
    }
   ],
   "source": [
    "kvadrati= [x**2 for x in range(10,21)]\n",
    "series2 = pd.Series(kvadrati, index=range(10,21))\n",
    "print(series2.loc[10:20])\n",
    "print(series2.iloc[0:11])"
   ]
  },
  {
   "cell_type": "markdown",
   "metadata": {},
   "source": [
    "Izpiši kvadrate sodih števil iz zaporedja. Rezultat pretvori v Pythonovski seznam:"
   ]
  },
  {
   "cell_type": "code",
   "execution_count": 17,
   "metadata": {},
   "outputs": [
    {
     "name": "stdout",
     "output_type": "stream",
     "text": [
      "[100, 144, 196, 256, 324, 400]\n"
     ]
    }
   ],
   "source": [
    "kvadrati_sodih = list(series.loc[10:20:2])\n",
    "print(kvadrati_sodih)"
   ]
  },
  {
   "cell_type": "markdown",
   "metadata": {},
   "source": [
    "### Tipi elementov\n",
    "#### Kategorije\n"
   ]
  },
  {
   "cell_type": "markdown",
   "metadata": {},
   "source": [
    "Ustvari zaporedje vsaj 15 hišnih ljubljenčkov `ljubljencki` (npr. pes, mačka, hrček, pes, papagaj, hrček, ...) - pomagaj si z naključnim vzorčenjem. Zaporedje izpiši. Kakšnega tipa so vrednosti?"
   ]
  },
  {
   "cell_type": "code",
   "execution_count": 38,
   "metadata": {},
   "outputs": [
    {
     "name": "stdout",
     "output_type": "stream",
     "text": [
      "0               opica\n",
      "1               pajek\n",
      "2               hrcek\n",
      "3           palicnjak\n",
      "4               ptica\n",
      "5     morski prasicek\n",
      "6                kača\n",
      "7     morski prasicek\n",
      "8                riba\n",
      "9               dihur\n",
      "10              hrcek\n",
      "11          palicnjak\n",
      "12              pajek\n",
      "13          palicnjak\n",
      "14              zajec\n",
      "dtype: object\n"
     ]
    }
   ],
   "source": [
    "from random import sample\n",
    "vrste_ljublenckov = ['pes', 'macka', 'zajec', 'mis', 'ptica', 'hrcek', 'riba', 'dihur','zelva','kača', 'opica','kameleon', 'pajek', 'palicnjak', 'morski prasicek']\n",
    "# ljublencki = [random.choice(vrste_ljublenčkov) for i in range(15)]\n",
    "series3 = pd.Series(sample(vrste_ljublenckov, counts=range(15), k=15))\n",
    "print(series3)"
   ]
  },
  {
   "cell_type": "markdown",
   "metadata": {},
   "source": [
    "Kaj se zgodi sedaj, če poskusimo na 8. mesto vpisati neveljavno vrsto hišnega ljubljenčka (npr. `\"peš\"`)?"
   ]
  },
  {
   "cell_type": "code",
   "execution_count": 85,
   "metadata": {},
   "outputs": [
    {
     "ename": "TypeError",
     "evalue": "Cannot setitem on a Categorical with a new category (peš), set the categories first",
     "output_type": "error",
     "traceback": [
      "\u001b[1;31m---------------------------------------------------------------------------\u001b[0m",
      "\u001b[1;31mTypeError\u001b[0m                                 Traceback (most recent call last)",
      "Cell \u001b[1;32mIn[85], line 1\u001b[0m\n\u001b[1;32m----> 1\u001b[0m \u001b[43mseries3\u001b[49m\u001b[43m[\u001b[49m\u001b[38;5;241;43m8\u001b[39;49m\u001b[43m]\u001b[49m \u001b[38;5;241m=\u001b[39m \u001b[38;5;124m'\u001b[39m\u001b[38;5;124mpeš\u001b[39m\u001b[38;5;124m'\u001b[39m\n\u001b[0;32m      2\u001b[0m \u001b[38;5;28mprint\u001b[39m(series3)\n",
      "File \u001b[1;32mc:\\Users\\ulabu\\Documents\\Papvp\\venv\\Lib\\site-packages\\pandas\\core\\series.py:1327\u001b[0m, in \u001b[0;36mSeries.__setitem__\u001b[1;34m(self, key, value)\u001b[0m\n\u001b[0;32m   1324\u001b[0m \u001b[38;5;28;01mexcept\u001b[39;00m (\u001b[38;5;167;01mTypeError\u001b[39;00m, \u001b[38;5;167;01mValueError\u001b[39;00m, LossySetitemError):\n\u001b[0;32m   1325\u001b[0m     \u001b[38;5;66;03m# The key was OK, but we cannot set the value losslessly\u001b[39;00m\n\u001b[0;32m   1326\u001b[0m     indexer \u001b[38;5;241m=\u001b[39m \u001b[38;5;28mself\u001b[39m\u001b[38;5;241m.\u001b[39mindex\u001b[38;5;241m.\u001b[39mget_loc(key)\n\u001b[1;32m-> 1327\u001b[0m     \u001b[38;5;28;43mself\u001b[39;49m\u001b[38;5;241;43m.\u001b[39;49m\u001b[43m_set_values\u001b[49m\u001b[43m(\u001b[49m\u001b[43mindexer\u001b[49m\u001b[43m,\u001b[49m\u001b[43m \u001b[49m\u001b[43mvalue\u001b[49m\u001b[43m)\u001b[49m\n\u001b[0;32m   1329\u001b[0m \u001b[38;5;28;01mexcept\u001b[39;00m InvalidIndexError \u001b[38;5;28;01mas\u001b[39;00m err:\n\u001b[0;32m   1330\u001b[0m     \u001b[38;5;28;01mif\u001b[39;00m \u001b[38;5;28misinstance\u001b[39m(key, \u001b[38;5;28mtuple\u001b[39m) \u001b[38;5;129;01mand\u001b[39;00m \u001b[38;5;129;01mnot\u001b[39;00m \u001b[38;5;28misinstance\u001b[39m(\u001b[38;5;28mself\u001b[39m\u001b[38;5;241m.\u001b[39mindex, MultiIndex):\n\u001b[0;32m   1331\u001b[0m         \u001b[38;5;66;03m# cases with MultiIndex don't get here bc they raise KeyError\u001b[39;00m\n\u001b[0;32m   1332\u001b[0m         \u001b[38;5;66;03m# e.g. test_basic_getitem_setitem_corner\u001b[39;00m\n",
      "File \u001b[1;32mc:\\Users\\ulabu\\Documents\\Papvp\\venv\\Lib\\site-packages\\pandas\\core\\series.py:1419\u001b[0m, in \u001b[0;36mSeries._set_values\u001b[1;34m(self, key, value, warn)\u001b[0m\n\u001b[0;32m   1416\u001b[0m \u001b[38;5;28;01mif\u001b[39;00m \u001b[38;5;28misinstance\u001b[39m(key, (Index, Series)):\n\u001b[0;32m   1417\u001b[0m     key \u001b[38;5;241m=\u001b[39m key\u001b[38;5;241m.\u001b[39m_values\n\u001b[1;32m-> 1419\u001b[0m \u001b[38;5;28mself\u001b[39m\u001b[38;5;241m.\u001b[39m_mgr \u001b[38;5;241m=\u001b[39m \u001b[38;5;28;43mself\u001b[39;49m\u001b[38;5;241;43m.\u001b[39;49m\u001b[43m_mgr\u001b[49m\u001b[38;5;241;43m.\u001b[39;49m\u001b[43msetitem\u001b[49m\u001b[43m(\u001b[49m\u001b[43mindexer\u001b[49m\u001b[38;5;241;43m=\u001b[39;49m\u001b[43mkey\u001b[49m\u001b[43m,\u001b[49m\u001b[43m \u001b[49m\u001b[43mvalue\u001b[49m\u001b[38;5;241;43m=\u001b[39;49m\u001b[43mvalue\u001b[49m\u001b[43m,\u001b[49m\u001b[43m \u001b[49m\u001b[43mwarn\u001b[49m\u001b[38;5;241;43m=\u001b[39;49m\u001b[43mwarn\u001b[49m\u001b[43m)\u001b[49m\n\u001b[0;32m   1420\u001b[0m \u001b[38;5;28mself\u001b[39m\u001b[38;5;241m.\u001b[39m_maybe_update_cacher()\n",
      "File \u001b[1;32mc:\\Users\\ulabu\\Documents\\Papvp\\venv\\Lib\\site-packages\\pandas\\core\\internals\\managers.py:415\u001b[0m, in \u001b[0;36mBaseBlockManager.setitem\u001b[1;34m(self, indexer, value, warn)\u001b[0m\n\u001b[0;32m    411\u001b[0m     \u001b[38;5;66;03m# No need to split if we either set all columns or on a single block\u001b[39;00m\n\u001b[0;32m    412\u001b[0m     \u001b[38;5;66;03m# manager\u001b[39;00m\n\u001b[0;32m    413\u001b[0m     \u001b[38;5;28mself\u001b[39m \u001b[38;5;241m=\u001b[39m \u001b[38;5;28mself\u001b[39m\u001b[38;5;241m.\u001b[39mcopy()\n\u001b[1;32m--> 415\u001b[0m \u001b[38;5;28;01mreturn\u001b[39;00m \u001b[38;5;28;43mself\u001b[39;49m\u001b[38;5;241;43m.\u001b[39;49m\u001b[43mapply\u001b[49m\u001b[43m(\u001b[49m\u001b[38;5;124;43m\"\u001b[39;49m\u001b[38;5;124;43msetitem\u001b[39;49m\u001b[38;5;124;43m\"\u001b[39;49m\u001b[43m,\u001b[49m\u001b[43m \u001b[49m\u001b[43mindexer\u001b[49m\u001b[38;5;241;43m=\u001b[39;49m\u001b[43mindexer\u001b[49m\u001b[43m,\u001b[49m\u001b[43m \u001b[49m\u001b[43mvalue\u001b[49m\u001b[38;5;241;43m=\u001b[39;49m\u001b[43mvalue\u001b[49m\u001b[43m)\u001b[49m\n",
      "File \u001b[1;32mc:\\Users\\ulabu\\Documents\\Papvp\\venv\\Lib\\site-packages\\pandas\\core\\internals\\managers.py:363\u001b[0m, in \u001b[0;36mBaseBlockManager.apply\u001b[1;34m(self, f, align_keys, **kwargs)\u001b[0m\n\u001b[0;32m    361\u001b[0m         applied \u001b[38;5;241m=\u001b[39m b\u001b[38;5;241m.\u001b[39mapply(f, \u001b[38;5;241m*\u001b[39m\u001b[38;5;241m*\u001b[39mkwargs)\n\u001b[0;32m    362\u001b[0m     \u001b[38;5;28;01melse\u001b[39;00m:\n\u001b[1;32m--> 363\u001b[0m         applied \u001b[38;5;241m=\u001b[39m \u001b[38;5;28;43mgetattr\u001b[39;49m\u001b[43m(\u001b[49m\u001b[43mb\u001b[49m\u001b[43m,\u001b[49m\u001b[43m \u001b[49m\u001b[43mf\u001b[49m\u001b[43m)\u001b[49m\u001b[43m(\u001b[49m\u001b[38;5;241;43m*\u001b[39;49m\u001b[38;5;241;43m*\u001b[39;49m\u001b[43mkwargs\u001b[49m\u001b[43m)\u001b[49m\n\u001b[0;32m    364\u001b[0m     result_blocks \u001b[38;5;241m=\u001b[39m extend_blocks(applied, result_blocks)\n\u001b[0;32m    366\u001b[0m out \u001b[38;5;241m=\u001b[39m \u001b[38;5;28mtype\u001b[39m(\u001b[38;5;28mself\u001b[39m)\u001b[38;5;241m.\u001b[39mfrom_blocks(result_blocks, \u001b[38;5;28mself\u001b[39m\u001b[38;5;241m.\u001b[39maxes)\n",
      "File \u001b[1;32mc:\\Users\\ulabu\\Documents\\Papvp\\venv\\Lib\\site-packages\\pandas\\core\\internals\\blocks.py:2063\u001b[0m, in \u001b[0;36mEABackedBlock.setitem\u001b[1;34m(self, indexer, value, using_cow)\u001b[0m\n\u001b[0;32m   2060\u001b[0m check_setitem_lengths(indexer, value, values)\n\u001b[0;32m   2062\u001b[0m \u001b[38;5;28;01mtry\u001b[39;00m:\n\u001b[1;32m-> 2063\u001b[0m     \u001b[43mvalues\u001b[49m\u001b[43m[\u001b[49m\u001b[43mindexer\u001b[49m\u001b[43m]\u001b[49m \u001b[38;5;241m=\u001b[39m value\n\u001b[0;32m   2064\u001b[0m \u001b[38;5;28;01mexcept\u001b[39;00m (\u001b[38;5;167;01mValueError\u001b[39;00m, \u001b[38;5;167;01mTypeError\u001b[39;00m):\n\u001b[0;32m   2065\u001b[0m     \u001b[38;5;28;01mif\u001b[39;00m \u001b[38;5;28misinstance\u001b[39m(\u001b[38;5;28mself\u001b[39m\u001b[38;5;241m.\u001b[39mdtype, IntervalDtype):\n\u001b[0;32m   2066\u001b[0m         \u001b[38;5;66;03m# see TestSetitemFloatIntervalWithIntIntervalValues\u001b[39;00m\n",
      "File \u001b[1;32mc:\\Users\\ulabu\\Documents\\Papvp\\venv\\Lib\\site-packages\\pandas\\core\\arrays\\_mixins.py:261\u001b[0m, in \u001b[0;36mNDArrayBackedExtensionArray.__setitem__\u001b[1;34m(self, key, value)\u001b[0m\n\u001b[0;32m    259\u001b[0m \u001b[38;5;28;01mdef\u001b[39;00m \u001b[38;5;21m__setitem__\u001b[39m(\u001b[38;5;28mself\u001b[39m, key, value) \u001b[38;5;241m-\u001b[39m\u001b[38;5;241m>\u001b[39m \u001b[38;5;28;01mNone\u001b[39;00m:\n\u001b[0;32m    260\u001b[0m     key \u001b[38;5;241m=\u001b[39m check_array_indexer(\u001b[38;5;28mself\u001b[39m, key)\n\u001b[1;32m--> 261\u001b[0m     value \u001b[38;5;241m=\u001b[39m \u001b[38;5;28;43mself\u001b[39;49m\u001b[38;5;241;43m.\u001b[39;49m\u001b[43m_validate_setitem_value\u001b[49m\u001b[43m(\u001b[49m\u001b[43mvalue\u001b[49m\u001b[43m)\u001b[49m\n\u001b[0;32m    262\u001b[0m     \u001b[38;5;28mself\u001b[39m\u001b[38;5;241m.\u001b[39m_ndarray[key] \u001b[38;5;241m=\u001b[39m value\n",
      "File \u001b[1;32mc:\\Users\\ulabu\\Documents\\Papvp\\venv\\Lib\\site-packages\\pandas\\core\\arrays\\categorical.py:1589\u001b[0m, in \u001b[0;36mCategorical._validate_setitem_value\u001b[1;34m(self, value)\u001b[0m\n\u001b[0;32m   1587\u001b[0m     \u001b[38;5;28;01mreturn\u001b[39;00m \u001b[38;5;28mself\u001b[39m\u001b[38;5;241m.\u001b[39m_validate_listlike(value)\n\u001b[0;32m   1588\u001b[0m \u001b[38;5;28;01melse\u001b[39;00m:\n\u001b[1;32m-> 1589\u001b[0m     \u001b[38;5;28;01mreturn\u001b[39;00m \u001b[38;5;28;43mself\u001b[39;49m\u001b[38;5;241;43m.\u001b[39;49m\u001b[43m_validate_scalar\u001b[49m\u001b[43m(\u001b[49m\u001b[43mvalue\u001b[49m\u001b[43m)\u001b[49m\n",
      "File \u001b[1;32mc:\\Users\\ulabu\\Documents\\Papvp\\venv\\Lib\\site-packages\\pandas\\core\\arrays\\categorical.py:1614\u001b[0m, in \u001b[0;36mCategorical._validate_scalar\u001b[1;34m(self, fill_value)\u001b[0m\n\u001b[0;32m   1612\u001b[0m     fill_value \u001b[38;5;241m=\u001b[39m \u001b[38;5;28mself\u001b[39m\u001b[38;5;241m.\u001b[39m_unbox_scalar(fill_value)\n\u001b[0;32m   1613\u001b[0m \u001b[38;5;28;01melse\u001b[39;00m:\n\u001b[1;32m-> 1614\u001b[0m     \u001b[38;5;28;01mraise\u001b[39;00m \u001b[38;5;167;01mTypeError\u001b[39;00m(\n\u001b[0;32m   1615\u001b[0m         \u001b[38;5;124m\"\u001b[39m\u001b[38;5;124mCannot setitem on a Categorical with a new \u001b[39m\u001b[38;5;124m\"\u001b[39m\n\u001b[0;32m   1616\u001b[0m         \u001b[38;5;124mf\u001b[39m\u001b[38;5;124m\"\u001b[39m\u001b[38;5;124mcategory (\u001b[39m\u001b[38;5;132;01m{\u001b[39;00mfill_value\u001b[38;5;132;01m}\u001b[39;00m\u001b[38;5;124m), set the categories first\u001b[39m\u001b[38;5;124m\"\u001b[39m\n\u001b[0;32m   1617\u001b[0m     ) \u001b[38;5;28;01mfrom\u001b[39;00m \u001b[38;5;28;01mNone\u001b[39;00m\n\u001b[0;32m   1618\u001b[0m \u001b[38;5;28;01mreturn\u001b[39;00m fill_value\n",
      "\u001b[1;31mTypeError\u001b[0m: Cannot setitem on a Categorical with a new category (peš), set the categories first"
     ]
    }
   ],
   "source": [
    "series3[8] = 'peš'\n",
    "print(series3)"
   ]
  },
  {
   "cell_type": "markdown",
   "metadata": {},
   "source": [
    "Ustvari še zaporedje `ljubljencki_kat` tako, da bo nabor možnih vrednosti omejen - zaporedje naj bo kategorija."
   ]
  },
  {
   "cell_type": "code",
   "execution_count": 39,
   "metadata": {},
   "outputs": [
    {
     "name": "stdout",
     "output_type": "stream",
     "text": [
      "0           palicnjak\n",
      "1               zelva\n",
      "2           palicnjak\n",
      "3                kača\n",
      "4               opica\n",
      "5               dihur\n",
      "6               hrcek\n",
      "7               pajek\n",
      "8     morski prasicek\n",
      "9               ptica\n",
      "10           kameleon\n",
      "11              zajec\n",
      "12               riba\n",
      "13    morski prasicek\n",
      "14           kameleon\n",
      "dtype: category\n",
      "Categories (12, object): ['dihur', 'hrcek', 'kameleon', 'kača', ..., 'ptica', 'riba', 'zajec', 'zelva']\n",
      "-------------------\n",
      "['palicnjak', 'zelva', 'palicnjak', 'kača', 'opica', 'dihur', 'hrcek', 'pajek', 'morski prasicek', 'ptica', 'kameleon', 'zajec', 'riba', 'morski prasicek', 'kameleon']\n",
      "-------------------\n",
      "['dihur', 'hrcek', 'kameleon', 'kača', 'morski prasicek', 'opica', 'pajek', 'palicnjak', 'ptica', 'riba', 'zajec', 'zelva']\n"
     ]
    }
   ],
   "source": [
    "from random import sample\n",
    "vrste_ljublenckov = ['pes', 'macka', 'zajec', 'mis', 'ptica', 'hrcek', 'riba', 'dihur','zelva','kača', 'opica','kameleon', 'pajek', 'palicnjak', 'morski prasicek']\n",
    "# ljublencki = [random.choice(vrste_ljublenčkov) for i in range(15)]\n",
    "series3 = pd.Series(sample(vrste_ljublenckov, counts=range(15), k=15),dtype='category')\n",
    "print(series3)\n",
    "print('-------------------')\n",
    "\n",
    "print(series3.cat.categories.tolist())"
   ]
  },
  {
   "cell_type": "markdown",
   "metadata": {},
   "source": [
    "Nabor možnih vrednosti pretvori v navaden seznam in ga izpiši."
   ]
  },
  {
   "cell_type": "code",
   "execution_count": 40,
   "metadata": {},
   "outputs": [
    {
     "name": "stdout",
     "output_type": "stream",
     "text": [
      "['palicnjak', 'zelva', 'palicnjak', 'kača', 'opica', 'dihur', 'hrcek', 'pajek', 'morski prasicek', 'ptica', 'kameleon', 'zajec', 'riba', 'morski prasicek', 'kameleon']\n"
     ]
    }
   ],
   "source": [
    "zaporedje = series3.tolist()\n",
    "print(zaporedje)\n"
   ]
  },
  {
   "cell_type": "markdown",
   "metadata": {},
   "source": [
    "Kaj se zgodi sedaj, če poskusimo na 8. mesto vpisati neveljavno vrsto hišnega ljubljenčka (npr. `\"peš\"`)?"
   ]
  },
  {
   "cell_type": "code",
   "execution_count": 42,
   "metadata": {},
   "outputs": [
    {
     "name": "stdout",
     "output_type": "stream",
     "text": [
      "['palicnjak', 'zelva', 'palicnjak', 'kača', 'opica', 'dihur', 'hrcek', 'pajek', 'peš', 'ptica', 'kameleon', 'zajec', 'riba', 'morski prasicek', 'kameleon']\n"
     ]
    }
   ],
   "source": [
    "zaporedje[8] = 'peš'\n",
    "print(zaporedje)"
   ]
  },
  {
   "cell_type": "markdown",
   "metadata": {},
   "source": [
    "Odstrani eno izmed vrednosti kategorije (npr. papagaj). Kaj se zgodi s papagaji v zaporedju?"
   ]
  },
  {
   "cell_type": "code",
   "execution_count": 44,
   "metadata": {},
   "outputs": [
    {
     "data": {
      "text/plain": [
       "0           palicnjak\n",
       "1               zelva\n",
       "2           palicnjak\n",
       "3                kača\n",
       "4               opica\n",
       "5               dihur\n",
       "6               hrcek\n",
       "7               pajek\n",
       "8     morski prasicek\n",
       "9                 NaN\n",
       "10           kameleon\n",
       "11              zajec\n",
       "12               riba\n",
       "13    morski prasicek\n",
       "14           kameleon\n",
       "dtype: category\n",
       "Categories (11, object): ['dihur', 'hrcek', 'kameleon', 'kača', ..., 'palicnjak', 'riba', 'zajec', 'zelva']"
      ]
     },
     "execution_count": 44,
     "metadata": {},
     "output_type": "execute_result"
    }
   ],
   "source": [
    "series3.cat.remove_categories('ptica')"
   ]
  },
  {
   "cell_type": "markdown",
   "metadata": {},
   "source": [
    "Dodaj novo vrednost kategorije (npr. zlata ribica). Zapiši zlato ribico na mesto, kjer je bil prej papagaj (oziroma pripadnik izbrisane kategorije)."
   ]
  },
  {
   "cell_type": "code",
   "execution_count": 53,
   "metadata": {},
   "outputs": [
    {
     "name": "stdout",
     "output_type": "stream",
     "text": [
      "0           palicnjak\n",
      "1               zelva\n",
      "2           palicnjak\n",
      "3                kača\n",
      "4               opica\n",
      "5               dihur\n",
      "6               hrcek\n",
      "7               pajek\n",
      "8     morski prasicek\n",
      "9                 NaN\n",
      "10           kameleon\n",
      "11              zajec\n",
      "12               riba\n",
      "13    morski prasicek\n",
      "14           kameleon\n",
      "dtype: category\n",
      "Categories (12, object): ['dihur', 'hrcek', 'kameleon', 'kača', ..., 'riba', 'zajec', 'zelva', 'zlata ribica']\n"
     ]
    }
   ],
   "source": [
    "\n",
    "series3 = series3.replace('ptica', 'zlata ribica')\n",
    "print(series3)"
   ]
  },
  {
   "cell_type": "markdown",
   "metadata": {},
   "source": [
    "#### Urejene kategorije"
   ]
  },
  {
   "cell_type": "markdown",
   "metadata": {},
   "source": [
    "Ustvari zaporedje `ocene`, ki vsebuje 20 naključnih števil med 20 in 100."
   ]
  },
  {
   "cell_type": "code",
   "execution_count": 54,
   "metadata": {},
   "outputs": [
    {
     "name": "stdout",
     "output_type": "stream",
     "text": [
      "[56, 53, 46, 49, 66, 22, 24, 27, 65, 92, 29, 53, 20, 89, 39, 89, 92, 85, 48, 83]\n"
     ]
    }
   ],
   "source": [
    "ocene = [random.randint(20,100) for _ in range(20)]\n",
    "zaporedje = pd.Series(ocene)\n",
    "\n",
    "print(ocene)"
   ]
  },
  {
   "cell_type": "markdown",
   "metadata": {},
   "source": [
    "Ocene predstavljajo doseženo število točk na testu v osnovni šoli. Kriterij za pretvorbo odstotkov v oceno je sledeč:\n",
    "\n",
    "0% – 49,5% = nezadostno \\\n",
    "50% – 60,5% = zadostno \\\n",
    "61% – 75,5% = dobro \\\n",
    "76% – 89,5 % = prav dobro \\\n",
    "90% – 100% = odlično\n",
    "\n",
    "Ustvari novo zaporedje `ocene`, kjer so ocene predstavljene kot kategorija z možnimi vrednostmi odlično, prav dobro, dobro, zadostno in nezadostno. Vrednosti kategorije naj bodo urejene: nezadostno < zadostno < dobro < prav dobro < odlično.\n",
    "\n",
    "_Namig: najprej definiraj seznama z mejami in imeni ocen._"
   ]
  },
  {
   "cell_type": "code",
   "execution_count": 58,
   "metadata": {},
   "outputs": [
    {
     "name": "stdout",
     "output_type": "stream",
     "text": [
      "['nezadostno', 'zadostno', 'prav dobro', 'odlično']\n",
      "Categories (5, object): ['nezadostno' < 'zadostno' < 'dobro' < 'prav dobro' < 'odlično']\n"
     ]
    }
   ],
   "source": [
    "meje = [0, 49.5, 60.6, 75.5, 89.5, 100]\n",
    "imena_ocen = ['nezadostno', 'zadostno', 'dobro', 'prav dobro', 'odlično']\n",
    "odstotki = [45, 55.65,80,95]\n",
    "ocene = pd.cut(odstotki, bins=meje, labels=imena_ocen, right=False, ordered=True)\n",
    "print(ocene)"
   ]
  },
  {
   "cell_type": "markdown",
   "metadata": {},
   "source": [
    "#### Časovne točke"
   ]
  },
  {
   "cell_type": "markdown",
   "metadata": {},
   "source": [
    "Ustvari podatkovno zaporedje `datumi_izpitov`, ki vsebuje datume izpitov pri predmetu Podatkovna analiza in pravno varstvo podatkov podane v spodnji obliki:\n",
    "\n",
    "* `\"28012025\"`\n",
    "* `\"13062025\"`\n",
    "* `\"02092025\"`\n",
    "\n",
    "Zaporedje pretvori v časovno zaporedje - `datetime` (pomagaj si s funkcijo `to_datetime` iz paketa `pandas`).\n",
    "Ker je zapis datuma lahko dvoumen in ga pandas morda ne zna ali ne more pravilno ugotoviti (glej opozorilo, ki ga dobiš, ko zaporedje poskusiš pretvoriti v časovni tip - `datetime`), pazljivo nastavi format zapisa datuma.\n",
    "\n",
    "_Namig: glej dokumentacijo za [to_datetime](https://pandas.pydata.org/docs/reference/api/pandas.to_datetime.html) in [zapisovanje časovnih formatov](https://docs.python.org/3/library/datetime.html#strftime-and-strptime-behavior)_\n"
   ]
  },
  {
   "cell_type": "code",
   "execution_count": 60,
   "metadata": {},
   "outputs": [
    {
     "name": "stdout",
     "output_type": "stream",
     "text": [
      "0   2025-01-28\n",
      "1   2025-06-13\n",
      "2   2025-09-02\n",
      "dtype: datetime64[ns]\n"
     ]
    }
   ],
   "source": [
    "datumi_izpitov = pd.Series(['28012025', '13062025', '02092025'])\n",
    "datatime_datumi_izpitov = pd.to_datetime(datumi_izpitov, format='%d%m%Y')\n",
    "print(datatime_datumi_izpitov)"
   ]
  },
  {
   "cell_type": "markdown",
   "metadata": {},
   "source": [
    "Izpiši dan, mesec in leto prvega izpitnega roka, da preveriš pravilnost nastavljenega formata:"
   ]
  },
  {
   "cell_type": "code",
   "execution_count": 61,
   "metadata": {},
   "outputs": [
    {
     "name": "stdout",
     "output_type": "stream",
     "text": [
      "Prvi izpitni rok: 28.1.2025\n"
     ]
    }
   ],
   "source": [
    "prvi_izpitni_rok = datatime_datumi_izpitov.iloc[0]\n",
    "dan = prvi_izpitni_rok.day\n",
    "mesec = prvi_izpitni_rok.month\n",
    "leto = prvi_izpitni_rok.year\n",
    "print(f'Prvi izpitni rok: {dan}.{mesec}.{leto}')"
   ]
  },
  {
   "cell_type": "markdown",
   "metadata": {},
   "source": [
    "Ustvari časovno zaporedje `datumi_vaj`, ki vsebuje vse srede od začetka do konca zimskega semestra. Izpiši dan v letu za 5. sredo semestra."
   ]
  },
  {
   "cell_type": "code",
   "execution_count": 65,
   "metadata": {},
   "outputs": [
    {
     "name": "stdout",
     "output_type": "stream",
     "text": [
      "Peta sreda zimskega semestra je: 30.10.2024\n"
     ]
    }
   ],
   "source": [
    "datumi_vaj = pd.date_range(start='2024-10-01', end='2025-01-31', freq='W-WED')\n",
    "peta_sreda = datumi_vaj[4]\n",
    "dan_pete_srede = peta_sreda.day\n",
    "mesec_peta_sreda = peta_sreda.month\n",
    "leto_peta_sreda = peta_sreda.year\n",
    "print(f'Peta sreda zimskega semestra je: {dan_pete_srede}.{mesec_peta_sreda}.{leto_peta_sreda}')"
   ]
  },
  {
   "cell_type": "markdown",
   "metadata": {},
   "source": [
    "Dan je seznam tem `teme_sez`, ki pripadajo posameznim tednom vaj:"
   ]
  },
  {
   "cell_type": "code",
   "execution_count": 68,
   "metadata": {},
   "outputs": [
    {
     "name": "stdout",
     "output_type": "stream",
     "text": [
      "        Datum                                  Tema\n",
      "0  2024-10-02                     Zbiranje podatkov\n",
      "1  2024-10-09                     Obdelava podatkov\n",
      "2  2024-10-16                      Analiza podatkov\n",
      "3  2024-10-23                Vizualizacija podatkov\n",
      "4  2024-10-30               Pravno varstvo podatkov\n",
      "5  2024-11-06                  Modeliranje podatkov\n",
      "6  2024-11-13                  Razvrščanje podatkov\n",
      "7  2024-11-20                         Napovedovanje\n",
      "8  2024-11-27  Poročanje in predstavitev rezultatov\n",
      "9  2024-12-04                 Zaključek in povzetek\n",
      "10 2024-12-11             Uvod v podatkovno analizo\n",
      "11 2024-12-18                     Zbiranje podatkov\n",
      "12 2024-12-25                     Obdelava podatkov\n",
      "13 2025-01-01                      Analiza podatkov\n",
      "14 2025-01-08                Vizualizacija podatkov\n",
      "15 2025-01-15               Pravno varstvo podatkov\n",
      "16 2025-01-22                  Modeliranje podatkov\n",
      "17 2025-01-29                  Razvrščanje podatkov\n"
     ]
    }
   ],
   "source": [
    "teme_seznam = [\"Zbiranje podatkov\",\n",
    "    \"Obdelava podatkov\",\n",
    "    \"Analiza podatkov\",\n",
    "    \"Vizualizacija podatkov\",\n",
    "    \"Pravno varstvo podatkov\",\n",
    "    \"Modeliranje podatkov\",\n",
    "    \"Razvrščanje podatkov\",\n",
    "    \"Napovedovanje\",\n",
    "    \"Poročanje in predstavitev rezultatov\",\n",
    "    \"Zaključek in povzetek\", \"Uvod v podatkovno analizo\",\n",
    "    \"Zbiranje podatkov\",\n",
    "    \"Obdelava podatkov\",\n",
    "    \"Analiza podatkov\",\n",
    "    \"Vizualizacija podatkov\",\n",
    "    \"Pravno varstvo podatkov\",\n",
    "    \"Modeliranje podatkov\",\n",
    "    \"Razvrščanje podatkov\"]\n",
    "if len(datumi_vaj) == len(teme_seznam):\n",
    "    vaje_teme = pd.DataFrame({'Datum': datumi_vaj, 'Tema': teme_seznam})\n",
    "    print(vaje_teme)\n",
    "else:\n",
    "    print('Št.tem ne ustreza št tednov vaj.')"
   ]
  },
  {
   "cell_type": "markdown",
   "metadata": {},
   "source": [
    "Ustvari zaporedje tem, ki ima za indeks datume iz časovnega zaporedja `datumi_vaj`. Izpiši teme, ki so planirane za november."
   ]
  },
  {
   "cell_type": "code",
   "execution_count": 69,
   "metadata": {},
   "outputs": [
    {
     "name": "stdout",
     "output_type": "stream",
     "text": [
      "2024-11-06                    Modeliranje podatkov\n",
      "2024-11-13                    Razvrščanje podatkov\n",
      "2024-11-20                           Napovedovanje\n",
      "2024-11-27    Poročanje in predstavitev rezultatov\n",
      "Freq: W-WED, dtype: object\n"
     ]
    }
   ],
   "source": [
    "teme_zaporedje = pd.Series(teme_seznam, index=datumi_vaj)\n",
    "teme_november = teme_zaporedje[teme_zaporedje.index.month == 11]\n",
    "print(teme_november)"
   ]
  },
  {
   "cell_type": "markdown",
   "metadata": {},
   "source": [
    "## Še nekaj nalog za vajo"
   ]
  },
  {
   "cell_type": "markdown",
   "metadata": {},
   "source": [
    "Za vajo reši še naslednje naloge. Postopek po potrebi komentiraj (da boš čez $x$ tednov vedel, kaj se v postopku dogaja). Pri tem si pomagaj s celicami tipa Markdown (za osnovno urejanje se lahko zgleduješ po celicah z navodili nalog, sicer pa je najboljša referenca internet 🙂)."
   ]
  },
  {
   "cell_type": "markdown",
   "metadata": {},
   "source": [
    "1. Denimo, da smo Alešu, Barbari, Cirilu in Darji izmerili višine v centimetrih (180, 165, 160, 193) in teže v kilogramih (87, 58, 65, 100). Naredi dve zaporedji `v` in `t` z izmerjenimi podatki. Indeks telesne mase (ITM) izračunamo po formuli\n",
    "\n",
    "    $$ \\text{ITM} = \\frac{\\text{teža v kilogramih}}{(\\text{višina v metrih})^2}. $$\n",
    "\n",
    "    Izračunaj zaporedje vrednosti ITM s poimenovanimi indeski za štiri osebe, kjer so indeksi elementov dejanska imena oseb (Aleš, Barbara, Ciril in Darja). Nato izračunaj zaporedje naravnih logaritmov vrednosti ITM. Na koncu izpiši zaporedje imen oseb, ki imajo ITM večji od 25, ter izračunaj njihov povprečni ITM."
   ]
  },
  {
   "cell_type": "code",
   "execution_count": 76,
   "metadata": {},
   "outputs": [
    {
     "name": "stdout",
     "output_type": "stream",
     "text": [
      "['Aleš', 'Ciril', 'Darja']\n",
      "26.3629450477832\n"
     ]
    }
   ],
   "source": [
    "import math\n",
    "visina = [180,165,160,193]\n",
    "teza = [87,58,65,100]\n",
    "\n",
    "itm = []\n",
    "for v, t in zip(visina, teza):\n",
    "    visina_m = v / 100\n",
    "    itm_v = t / (visina_m ** 2)\n",
    "    itm.append(itm_v)\n",
    "\n",
    "imena = ['Aleš', 'Barbara', 'Ciril', 'Darja']\n",
    "zaporedje = dict(zip(imena, itm))\n",
    "\n",
    "log_itm = {ime: (itm_value, round(math.log(itm_value), 4)) for ime, itm_value in zaporedje.items()}\n",
    "osebe_večji_od_25 = [ime for ime, itm_value in zaporedje.items() if itm_value > 25]\n",
    "\n",
    "povprečni_itm = sum(zaporedje[ime] for ime in osebe_večji_od_25) / len(osebe_večji_od_25) if osebe_večji_od_25 else 0\n",
    "\n",
    "print(osebe_večji_od_25)\n",
    "print(povprečni_itm)"
   ]
  },
  {
   "cell_type": "markdown",
   "metadata": {},
   "source": [
    "2. Sestavi zaporedja z naslednjimi elementi:\n",
    "\n",
    "    * $3^1/1, 3^2/2, \\ldots, 3^{50}/50$;\n",
    "    * \"A1\", \"A2\", $\\ldots$, \"A50\";\n",
    "    * $e^x \\sin x$ izračunanimi v točkah $x = 3, 3.1, 3.2, \\ldots, 6$.\n",
    "\n",
    "    Zaporedjem nastavi ustrezne indekse."
   ]
  },
  {
   "cell_type": "code",
   "execution_count": 77,
   "metadata": {},
   "outputs": [
    {
     "name": "stdout",
     "output_type": "stream",
     "text": [
      "{1: 3.0, 2: 4.5, 3: 9.0, 4: 20.25, 5: 48.6, 6: 121.5, 7: 312.42857142857144, 8: 820.125, 9: 2187.0, 10: 5904.9, 11: 16104.272727272728, 12: 44286.75, 13: 122640.23076923077, 14: 341640.64285714284, 15: 956593.8, 16: 2690420.0625, 17: 7596480.176470588, 18: 21523360.5, 19: 61171656.15789474, 20: 174339220.05, 21: 498112057.28571427, 22: 1426411800.409091, 23: 4093181688.130435, 24: 11767897353.375, 25: 33891544377.72, 26: 97764070320.34616, 27: 282429536481.0, 28: 817028301962.8928, 29: 2366564736720.1035, 30: 6863037736488.3, 31: 19924948267224.098, 32: 57906880901620.03, 33: 168456380804712.8, 34: 490505344107840.25, 35: 1429472717114277.2, 36: 4169295424916642.0, 37: 1.216983529435128e+16, 38: 3.554872941244716e+16, 39: 1.0391167059023016e+17, 40: 3.0394163647642323e+17, 41: 8.895852774919704e+17, 42: 2.6052140269407703e+18, 43: 7.633882962663653e+18, 44: 2.2381156867809346e+19, 45: 6.565139347890741e+19, 46: 1.9267256781853262e+20, 47: 5.657194544459043e+20, 48: 1.661800897434844e+21, 49: 4.883659780216684e+21, 50: 1.4357959753837052e+22}\n",
      "{'A1': 1, 'A2': 2, 'A3': 3, 'A4': 4, 'A5': 5, 'A6': 6, 'A7': 7, 'A8': 8, 'A9': 9, 'A10': 10, 'A11': 11, 'A12': 12, 'A13': 13, 'A14': 14, 'A15': 15, 'A16': 16, 'A17': 17, 'A18': 18, 'A19': 19, 'A20': 20, 'A21': 21, 'A22': 22, 'A23': 23, 'A24': 24, 'A25': 25, 'A26': 26, 'A27': 27, 'A28': 28, 'A29': 29, 'A30': 30, 'A31': 31, 'A32': 32, 'A33': 33, 'A34': 34, 'A35': 35, 'A36': 36, 'A37': 37, 'A38': 38, 'A39': 39, 'A40': 40, 'A41': 41, 'A42': 42, 'A43': 43, 'A44': 44, 'A45': 45, 'A46': 46, 'A47': 47, 'A48': 48, 'A49': 49, 'A50': 50}\n",
      "{3.0: 2.834471132487004, 3.1: 0.9230055189442528, 3.2: -1.432065436367501, 3.3: -4.276902046594439, 3.4: -7.657059147354075, 3.5: -11.616345124470651, 3.6: -16.195466929825344, 3.7: -21.430443652289412, 3.8: -27.35077246671247, 3.9: -33.977332675592294, 4.0: -41.32001618428027, 4.1: -49.37507621596507, 4.2: -58.12219048642258, 4.3: -67.52124053303174, 4.4: -77.50881554168619, 4.5: -87.99445695207349, 4.6: -98.85666945602144, 4.7: -109.93873483828912, 4.8: -121.04437753702999, 4.9: -131.93334490021064, 5.0: -142.31698094290297, 5.1: -151.85389000164702, 5.2: -160.14580603743178, 5.3: -166.73380442101538, 5.4: -171.09501575963614, 5.5: -172.64002555414635, 5.6: -170.7111690077981, 5.7: -164.58195686629176, 5.8: -153.4578953934284, 5.9: -136.47899102356487, 6.0: -112.72425732156589}\n"
     ]
    }
   ],
   "source": [
    "import math\n",
    "# 1. Zaporedje 3^n / n za n od 1 do 50\n",
    "zaporedje1 = {n: 3**n / n for n in range(1, 51)}\n",
    "\n",
    "# 2. Zaporedje \"A1\", \"A2\", ..., \"A50\"\n",
    "zaporedje2 = {f\"A{i}\": i for i in range(1, 51)}\n",
    "\n",
    "# 3. Zaporedje e^x * sin(x) za x od 3 do 6 v korakih 0.1\n",
    "zaporedje3 = {}\n",
    "x = 3.0\n",
    "while x <= 6.0:\n",
    "    zaporedje3[round(x, 1)] = math.exp(x) * math.sin(x)\n",
    "    x += 0.1  # Povečamo x za 0.1\n",
    "\n",
    "print(zaporedje1)\n",
    "print(zaporedje2)\n",
    "print(zaporedje3)"
   ]
  },
  {
   "cell_type": "markdown",
   "metadata": {},
   "source": [
    "3. Z uporabo zaporedij definiraj funkcijo, ki kot argument sprejme naravno število `x > 2`, vrne rezultat `True`, če je `x` praštevilo, in `False` sicer. Funkcijo ustrezno testiraj.\n",
    "\n",
    "    _Namig: zaporedje gradi postopoma. Najprej izračunaj zaporedje ostankov deljenja `x` z vsemi števili od `2` do `x - 1`. Kaj nam elementi dobljenega zaporedja povejo o praštevilskosti števila `x`?_"
   ]
  },
  {
   "cell_type": "code",
   "execution_count": 79,
   "metadata": {},
   "outputs": [
    {
     "name": "stdout",
     "output_type": "stream",
     "text": [
      "False\n",
      "True\n"
     ]
    }
   ],
   "source": [
    "def je_prastevilo(x):\n",
    "    if x< 2: raise ValueError('Mora biti naravno stevilo večje od 2')\n",
    "    ostanki = [x % i for i in range(2,x)]\n",
    "    return all(ostanek != 0 for ostanek in ostanki)\n",
    "\n",
    "print(je_prastevilo(28))\n",
    "print(je_prastevilo(29))"
   ]
  },
  {
   "cell_type": "markdown",
   "metadata": {},
   "source": [
    "4. Sestavi zaporedje tipa kategorija s tremi možnimi vrednostmi `A`, `B` in `C`, ki bo vsebovalo po natanko pet (5) vrednosti iz vsake kategorije. Vrednosti naj nastopajo v zaporedju v naključnem vrstnem redu."
   ]
  },
  {
   "cell_type": "code",
   "execution_count": 81,
   "metadata": {},
   "outputs": [
    {
     "name": "stdout",
     "output_type": "stream",
     "text": [
      "['C', 'C', 'A', 'B', 'A', 'C', 'B', 'B', 'A', 'B', 'A', 'C', 'C', 'B', 'A']\n"
     ]
    }
   ],
   "source": [
    "import random\n",
    "\n",
    "zaporedje = ['A'] * 5 + ['B'] * 5 + ['C'] * 5\n",
    "random.shuffle(zaporedje)\n",
    "print(zaporedje)"
   ]
  },
  {
   "cell_type": "markdown",
   "metadata": {},
   "source": [
    "5. Pri ocenjevanju izpitov na FMF pogosto uporabljamo odstotne točke. Študentka lahko doseže poljubno število odstotnih točk od 0 do 100 (obe meji vključeni). Nato njen dosežek prevedemo v oceno takole:\n",
    "\n",
    "    | dosežek v % | ocena |\n",
    "    |---|---|\n",
    "    | več kot 90 | odlično (10) |\n",
    "    | več kot 80 in največ 90 | prav dobro (9) |\n",
    "    | več kot 70 in največ 80 | prav dobro (8) |\n",
    "    | več kot 60 in največ 70 | dobro (7) |\n",
    "    | več kot 50 in največ 60 | zadostno (6) |\n",
    "    | največ 50 | nezadostno (5) |\n",
    "    \n",
    "    * Sestavi zaporedje `ot` z desetimi naključnimi celoštevilskimi dosežki študentov v odstotnih točkah.\n",
    "    * Pretvori zaporedje `ot` v zaporedje `ocena` tipa urejena kategorija, na osnovi prevajalne tabele zgoraj."
   ]
  },
  {
   "cell_type": "code",
   "execution_count": 82,
   "metadata": {},
   "outputs": [
    {
     "name": "stdout",
     "output_type": "stream",
     "text": [
      "[47, 70, 58, 10, 19, 15, 2, 35, 58, 1]\n",
      "['nezadostno (5)', 'dobro (7)', 'zadostno (6)', 'nezadostno (5)', 'nezadostno (5)', 'nezadostno (5)', 'nezadostno (5)', 'nezadostno (5)', 'zadostno (6)', 'nezadostno (5)']\n"
     ]
    }
   ],
   "source": [
    "import random\n",
    "import pandas as pd \n",
    "\n",
    "ot = [random.randint(0,100) for _ in range(10)]\n",
    "\n",
    "def pretvori_v_oceno(dosezek):\n",
    "    if dosezek > 90:\n",
    "        return 'odlično (10)'\n",
    "    elif dosezek > 80:\n",
    "        return 'prav dobro (9)'\n",
    "    elif dosezek > 70:\n",
    "        return 'dobro (8)'\n",
    "    elif dosezek > 60:\n",
    "        return 'dobro (7)'\n",
    "    elif dosezek > 50:\n",
    "        return 'zadostno (6)'\n",
    "    else:\n",
    "        return 'nezadostno (5)'\n",
    "\n",
    "ocena = [pretvori_v_oceno(dosezek) for dosezek in ot]\n",
    "\n",
    "print(ot)\n",
    "print(ocena)"
   ]
  },
  {
   "cell_type": "markdown",
   "metadata": {},
   "source": [
    "6. Definiraj funkcijo, ki za podano leto vrne zaporedje vseh ponedeljkovih datumov v tem letu. Definiraj bolj splošno funkcijo, ki poleg leta, sprejme tudi dan v tednu kot argument."
   ]
  },
  {
   "cell_type": "code",
   "execution_count": 83,
   "metadata": {},
   "outputs": [
    {
     "name": "stdout",
     "output_type": "stream",
     "text": [
      "Vsi ponedeljek datumi v letu 2024:\n",
      "2024-01-01\n",
      "2024-01-08\n",
      "2024-01-15\n",
      "2024-01-22\n",
      "2024-01-29\n",
      "2024-02-05\n",
      "2024-02-12\n",
      "2024-02-19\n",
      "2024-02-26\n",
      "2024-03-04\n",
      "2024-03-11\n",
      "2024-03-18\n",
      "2024-03-25\n",
      "2024-04-01\n",
      "2024-04-08\n",
      "2024-04-15\n",
      "2024-04-22\n",
      "2024-04-29\n",
      "2024-05-06\n",
      "2024-05-13\n",
      "2024-05-20\n",
      "2024-05-27\n",
      "2024-06-03\n",
      "2024-06-10\n",
      "2024-06-17\n",
      "2024-06-24\n",
      "2024-07-01\n",
      "2024-07-08\n",
      "2024-07-15\n",
      "2024-07-22\n",
      "2024-07-29\n",
      "2024-08-05\n",
      "2024-08-12\n",
      "2024-08-19\n",
      "2024-08-26\n",
      "2024-09-02\n",
      "2024-09-09\n",
      "2024-09-16\n",
      "2024-09-23\n",
      "2024-09-30\n",
      "2024-10-07\n",
      "2024-10-14\n",
      "2024-10-21\n",
      "2024-10-28\n",
      "2024-11-04\n",
      "2024-11-11\n",
      "2024-11-18\n",
      "2024-11-25\n",
      "2024-12-02\n",
      "2024-12-09\n",
      "2024-12-16\n",
      "2024-12-23\n",
      "2024-12-30\n"
     ]
    }
   ],
   "source": [
    "import datetime\n",
    "\n",
    "def datumi_dneva_v_tednu(leto, dan_v_tednu):\n",
    "    dnevi_v_tednu = {\n",
    "        'ponedeljek': 0,\n",
    "        'torek': 1,\n",
    "        'sreda': 2,\n",
    "        'četrtek': 3,\n",
    "        'petek': 4,\n",
    "        'sobota': 5,\n",
    "        'nedelja': 6\n",
    "    }\n",
    "    \n",
    "    # Preverimo, ali je dan v tednu veljaven\n",
    "    if dan_v_tednu not in dnevi_v_tednu:\n",
    "        raise ValueError(\"Neveljaven dan v tednu. Uporabi enega od naslednjih: ponedeljek, torek, sreda, četrtek, petek, sobota, nedelja.\")\n",
    "    \n",
    "    # Pridobimo število dneva v tednu\n",
    "    dan_index = dnevi_v_tednu[dan_v_tednu]\n",
    "    \n",
    "    # Ustvarimo seznam za shranjevanje datumov\n",
    "    datumi = []\n",
    "    \n",
    "    # Začnemo z 1. januarjem v danem letu\n",
    "    datum = datetime.date(leto, 1, 1)\n",
    "    \n",
    "    # Pojdimo do 31. decembra\n",
    "    while datum.year == leto:\n",
    "        if datum.weekday() == dan_index:  # Preverimo, ali je to želeni dan\n",
    "            datumi.append(datum)\n",
    "        datum += datetime.timedelta(days=1)  # Povečamo datum za en dan\n",
    "    \n",
    "    return datumi\n",
    "\n",
    "# Testiranje funkcije\n",
    "leto = 2024\n",
    "dan = 'ponedeljek'\n",
    "datumi_ponedeljkov = datumi_dneva_v_tednu(leto, dan)\n",
    "\n",
    "print(f\"Vsi {dan} datumi v letu {leto}:\")\n",
    "for datum in datumi_ponedeljkov:\n",
    "    print(datum)\n"
   ]
  },
  {
   "cell_type": "markdown",
   "metadata": {},
   "source": [
    "7. Definiraj funkcijo, ki za podano leto in pozitivni naravni števili `od` in `do` vrne vse datume v tednih `od`, `od + 1`, ..., `do` v podanem letu."
   ]
  },
  {
   "cell_type": "code",
   "execution_count": 84,
   "metadata": {},
   "outputs": [
    {
     "name": "stdout",
     "output_type": "stream",
     "text": [
      "Vsi datumi v tednih od 10 do 12 v letu 2024:\n",
      "2024-03-04\n",
      "2024-03-05\n",
      "2024-03-06\n",
      "2024-03-07\n",
      "2024-03-08\n",
      "2024-03-09\n",
      "2024-03-10\n",
      "2024-03-11\n",
      "2024-03-12\n",
      "2024-03-13\n",
      "2024-03-14\n",
      "2024-03-15\n",
      "2024-03-16\n",
      "2024-03-17\n",
      "2024-03-18\n",
      "2024-03-19\n",
      "2024-03-20\n",
      "2024-03-21\n",
      "2024-03-22\n",
      "2024-03-23\n",
      "2024-03-24\n"
     ]
    }
   ],
   "source": [
    "import datetime\n",
    "\n",
    "def datumi_v_tednih(leto, od_tedna, do_tedna):\n",
    "    # Preverimo, ali sta od_tedna in do_tedna veljavna\n",
    "    if od_tedna < 1 or do_tedna < 1:\n",
    "        raise ValueError(\"Število tednov mora biti pozitivno naravno število.\")\n",
    "    if od_tedna > do_tedna:\n",
    "        raise ValueError(\"Teden 'od' mora biti manjši ali enak 'do'.\")\n",
    "\n",
    "    # Seznam za shranjevanje datumov\n",
    "    datumi = []\n",
    "\n",
    "    # Ustvarimo datum za 1. januar\n",
    "    datum = datetime.date(leto, 1, 1)\n",
    "\n",
    "    # Ugotovimo, kateri teden je 1. januar\n",
    "    prvi_teden = datum.isocalendar()[1]\n",
    "\n",
    "    # Pojdimo skozi vse dni v letu\n",
    "    while datum.year == leto:\n",
    "        # Ugotovimo trenutni teden\n",
    "        trenutni_teden = datum.isocalendar()[1]\n",
    "        \n",
    "        # Preverimo, ali je trenutni teden med od_tedna in do_tedna\n",
    "        if od_tedna <= trenutni_teden <= do_tedna:\n",
    "            datumi.append(datum)\n",
    "        \n",
    "        # Povečamo datum za en dan\n",
    "        datum += datetime.timedelta(days=1)\n",
    "\n",
    "    return datumi\n",
    "\n",
    "# Testiranje funkcije\n",
    "leto = 2024\n",
    "od_tedna = 10\n",
    "do_tedna = 12\n",
    "datumi_tednov = datumi_v_tednih(leto, od_tedna, do_tedna)\n",
    "\n",
    "print(f\"Vsi datumi v tednih od {od_tedna} do {do_tedna} v letu {leto}:\")\n",
    "for datum in datumi_tednov:\n",
    "    print(datum)\n"
   ]
  }
 ],
 "metadata": {
  "kernelspec": {
   "display_name": "venv",
   "language": "python",
   "name": "python3"
  },
  "language_info": {
   "codemirror_mode": {
    "name": "ipython",
    "version": 3
   },
   "file_extension": ".py",
   "mimetype": "text/x-python",
   "name": "python",
   "nbconvert_exporter": "python",
   "pygments_lexer": "ipython3",
   "version": "3.12.2"
  }
 },
 "nbformat": 4,
 "nbformat_minor": 2
}
