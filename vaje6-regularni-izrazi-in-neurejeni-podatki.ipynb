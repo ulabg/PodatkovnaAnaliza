{
 "cells": [
  {
   "cell_type": "markdown",
   "metadata": {},
   "source": [
    "# Delo z neurejenimi podatki s spleta\n",
    "\n",
    "Na teh vajah bomo poleg do sedaj uporabljenih modulov uporabili še:\n",
    "\n",
    "* `re` (je že nameščen kot del osnovne namestitve pythona)\n",
    "* `requests` - namenjen pridobivanju HTML kode spletnih strani (med drugim)\n",
    "* `beautifulsoup4` - namenjen razčlembi podatkov iz HTML kode\n",
    "\n",
    "Namestitev (ne pozabite aktivirati virtualnega okolja, če ga uporabljate):\n",
    "\n",
    "```\n",
    "pip install requests beautifulsoup4\n",
    "```"
   ]
  },
  {
   "cell_type": "code",
   "execution_count": null,
   "metadata": {},
   "outputs": [
    {
     "ename": "",
     "evalue": "",
     "output_type": "error",
     "traceback": [
      "\u001b[1;31mThe Kernel crashed while executing code in the current cell or a previous cell. \n",
      "\u001b[1;31mPlease review the code in the cell(s) to identify a possible cause of the failure. \n",
      "\u001b[1;31mClick <a href='https://aka.ms/vscodeJupyterKernelCrash'>here</a> for more info. \n",
      "\u001b[1;31mView Jupyter <a href='command:jupyter.viewOutput'>log</a> for further details."
     ]
    }
   ],
   "source": [
    "# uvoz modulov\n",
    "from bs4 import BeautifulSoup\n",
    "import re\n",
    "import requests"
   ]
  },
  {
   "cell_type": "markdown",
   "metadata": {},
   "source": [
    "## Regularni izrazi\n",
    "\n",
    "Za začetno spoznavanje z regularnimi izrazi priporočam vaje z naslednjih spletnih strani:\n",
    "* [regexone](https://regexone.com/) - interaktiven tutorial za spoznavanje z osnovnim ujemanjem vzorcev\n",
    "* [kREžanke](https://regexcrossword.com/) - križanke z regularnimi izrazi - malo za zabavo"
   ]
  },
  {
   "cell_type": "markdown",
   "metadata": {},
   "source": [
    "### Regularni izrazi v Pythonu\n",
    "\n",
    "Orodja za delo z regularnimi izrazi se v Pythonu nahajajo v modulu `re`, ki je že vključen v Python (modula ni potrebno nameščati, treba pa ga je uvoziti)."
   ]
  },
  {
   "cell_type": "markdown",
   "metadata": {},
   "source": [
    "#### Samoglasniki in soglasniki\n",
    "V Python-u definiraj funkcijo `n_samoglasnikov`, ki za podan niz znakov vrne število samoglasnikov v njem. Nato definiraj še funkcijo `n_soglasnikov`, ki prešteje število soglasnikov v podanem nizu znakov."
   ]
  },
  {
   "cell_type": "code",
   "execution_count": 3,
   "metadata": {},
   "outputs": [],
   "source": [
    "def n_soglasnikov(niz):\n",
    "    '''Prešteje število soglasnukov v nizu.'''\n",
    "    samoglasniki = 'aeiouAEIOU'\n",
    "    stevec = 0\n",
    "    for crka in niz:\n",
    "        if crka not in samoglasniki:\n",
    "            stevec += 1\n",
    "    return stevec\n",
    "\n",
    "def n_samoglasnikov(niz):\n",
    "    '''Za podan niz vrne število samoglasnikov v njem.'''\n",
    "    samoglasniki = 'aeiouAEIOU'\n",
    "    stevec = 0\n",
    "    for crka in niz:\n",
    "        if crka in samoglasniki:\n",
    "            stevec += 1\n",
    "    return stevec"
   ]
  },
  {
   "cell_type": "code",
   "execution_count": 29,
   "metadata": {
    "metadata": {}
   },
   "outputs": [
    {
     "name": "stdout",
     "output_type": "stream",
     "text": [
      "4\n",
      "3\n"
     ]
    }
   ],
   "source": [
    "\n",
    "def n_samoglasnikov1(niz):\n",
    "    return len(re.findall('[aeiouAEIOU]', niz))\n",
    "\n",
    "\n",
    "def n_soglasnikov1(niz):\n",
    "    return len(re.findall('[^aeiouAEIOU]', niz))\n",
    "\n",
    "print(n_samoglasnikov1('Abeceda'))\n",
    "print(n_soglasnikov1('Abeceda'))"
   ]
  },
  {
   "cell_type": "markdown",
   "metadata": {},
   "source": [
    "Pri naslednjih nalogah za testiranje uporabi spodnji niz `besedilo`. Seveda je priporočljivo, poleg navedenih primerov funkcije preiskusiti še na drugih testnih primerih."
   ]
  },
  {
   "cell_type": "code",
   "execution_count": 7,
   "metadata": {
    "metadata": {}
   },
   "outputs": [],
   "source": [
    "\n",
    "hvalezni_medved = \"\"\"Gori nekje v gorah, ne ve se več, ali je bilo pri Macigoju ali\n",
    "Naravniku, je šivala gospodinja v senci pod drevesom in zibala otroka. Naenkrat\n",
    "prilomasti - pa prej ni ničesar opazila - medved in ji moli taco, v kateri je\n",
    "tičal velik, debel trn. Žena se je prestrašila, a medved le milo in pohlevno\n",
    "godrnja. Zato se žena ojunači in mu izdere trn iz tace. Mrcina kosmata pa zvrne\n",
    "zibel, jo pobaše in oddide. Čez nekaj časa pa ji zopet prinese zibel, a zvhano\n",
    "napolnjeno s sladkimi hruškami. Postavil jo je na tla pred začudeno mater in\n",
    "odracal nazaj v goščavo. \"Poglej no\", se je razveselila mati, \"kakšen hvaležen\n",
    "medved. Zvrhano zibelko sladkih hrušk mi je prinesel za en sam izdrt trn\".\n",
    "\"\"\""
   ]
  },
  {
   "cell_type": "markdown",
   "metadata": {},
   "source": [
    "#### Besede z veliko zacetnico\n",
    "\n",
    "Sestavi funkcijo `besede_velika_zacetnica(niz)`, ki vrne množico besed v nizu, ki se začnejo z veliko začetnico."
   ]
  },
  {
   "cell_type": "code",
   "execution_count": 20,
   "metadata": {
    "metadata": {}
   },
   "outputs": [
    {
     "name": "stdout",
     "output_type": "stream",
     "text": [
      "{'Postavil', 'Macigoju', 'Naenkrat', 'Zato', 'Gori', 'Naravniku', 'Zvrhano', 'Poglej', 'Mrcina'}\n"
     ]
    }
   ],
   "source": [
    "def besede_velika_zacetnica(niz):\n",
    "    '''Vrne množico besed v nizu, ki se začnejo z veliko začetnico.'''\n",
    "    return set(re.findall(r'[A-Z]\\w*', niz))\n",
    "\n",
    "print(besede_velika_zacetnica(hvalezni_medved))"
   ]
  },
  {
   "cell_type": "markdown",
   "metadata": {},
   "source": [
    "#### Besede, ki vsebujejo podniz\n",
    "Sestavi funkcijo `najdi_besede(niz, podniz)`, ki vrne množico besed v besedilu `niz`, ki vsebujejo dani `podniz`.\n",
    "\n",
    "_Namig: pomagaj si z regex znakom za mejo [\\b]._\n",
    "\n",
    "Za zgornje besedilo so besede, ki vsebujejo niz `\"de\"`: \"izdere\", \"debel\", \"oddide\", \"začudeno\"."
   ]
  },
  {
   "cell_type": "code",
   "execution_count": 33,
   "metadata": {
    "metadata": {}
   },
   "outputs": [
    {
     "name": "stdout",
     "output_type": "stream",
     "text": [
      "{'debel', 'izdere', 'oddide', 'začudeno'}\n"
     ]
    }
   ],
   "source": [
    "def najdi_besede(niz, podniz):\n",
    "    '''Vrne množico besed v besedilu'''\n",
    "    return set(re.findall(rf'\\b\\w*{podniz}\\w*\\b', niz))\n",
    "\n",
    "print(najdi_besede(hvalezni_medved, 'de'))\n"
   ]
  },
  {
   "cell_type": "markdown",
   "metadata": {},
   "source": [
    "#### Besede s predpono\n",
    "\n",
    "Sestavi funkcijo `besede_s_predpono(niz, predpona)`, ki vrne množico vseh besed, ki se pojavijo v nizu in imajo dano predpono.\n",
    "\n",
    "Za zgornje besedilo so vse besede s predpono `\"zi\"`: \"zibala\", \"zibel\", \"zibelko\"."
   ]
  },
  {
   "cell_type": "code",
   "execution_count": 34,
   "metadata": {
    "metadata": {}
   },
   "outputs": [
    {
     "name": "stdout",
     "output_type": "stream",
     "text": [
      "{'zibelko', 'zila', 'zibala', 'zibel'}\n"
     ]
    }
   ],
   "source": [
    "def besede_s_predpono(niz, predpona):\n",
    "    '''Vrne množico vseh besed, ki se pojavijo v nizu in majo predpono.'''\n",
    "    return set(re.findall(rf'{predpona}\\w*\\b', niz))\n",
    "\n",
    "\n",
    "print(besede_s_predpono(hvalezni_medved, 'zi'))"
   ]
  },
  {
   "cell_type": "markdown",
   "metadata": {},
   "source": [
    "#### Besede s pripono\n",
    "\n",
    "Sestavi funkcijo `besede_s_pripono(niz, pripona)`, ki vrne množico vseh besed, ki se pojavijo v nizu in imajo dano pripono.\n",
    "\n",
    "Za zgornje besedilo so vse besede s pripono `\"la\"`: \"zibala\", \"razveselila\", \"prestrašila\", \"šivala\", \"opazila\", \"tla\"."
   ]
  },
  {
   "cell_type": "code",
   "execution_count": 37,
   "metadata": {
    "metadata": {}
   },
   "outputs": [
    {
     "name": "stdout",
     "output_type": "stream",
     "text": [
      "{'tla', 'zibala', 'razveselila', 'šivala', 'opazila', 'prestrašila', 'sla'}\n"
     ]
    }
   ],
   "source": [
    "def besede_s_pripona(niz, predpona):\n",
    "    '''Vrne množico vseh besed, ki se pojavijo v nizu in majo predpono.'''\n",
    "    return set(re.findall(rf'\\b\\w*{predpona}', niz))\n",
    "\n",
    "\n",
    "print(besede_s_pripona(hvalezni_medved, 'la'))"
   ]
  },
  {
   "cell_type": "markdown",
   "metadata": {},
   "source": [
    "### Popravljanje besedil\n",
    "... s funkcijo `re.sub(vzorec, nadomestek, besedilo)`.\n",
    "\n",
    "Sestavite funkcijo `poenostavi(naloga)`, ki sprejme opis matematične naloge (kot niz) in v njej vsa števila nadomesti z 10.\n",
    "\n",
    "```python\n",
    ">>> poenostavi(\"Koliko je 2 krat 4?\")\n",
    "\"Koliko je 10 krat 10?\"\n",
    ">>> poenostavi(\"Koliko stane riž, če se je od lani (1,2 €) podražil za 12 %?\")\n",
    "\"Koliko stane riž, če se je od lani (10 €) podražil za 10 %?\"\n",
    ">>> poenostavi(\"Pretvori -273,16 °C v Kelvine!\")\n",
    "\"Pretvori 10 °C v Kelvine!\"\n",
    "\n",
    "```"
   ]
  },
  {
   "cell_type": "code",
   "execution_count": null,
   "metadata": {
    "metadata": {}
   },
   "outputs": [],
   "source": []
  },
  {
   "cell_type": "markdown",
   "metadata": {},
   "source": [
    "Sestavite funkcijo `enote_na_konec(besedilo)`, ki sprejme slabo prevedeno besedilo (iz angleščine v slovenščino), kjer se denarne enote pojavljajo pred številom, in ga popravi. Predpostavite lahko, da se v besedilu pojavljajo le evri in dolarji.\n",
    "\n",
    "```python\n",
    ">>> enote_na_konec(\"Cena kave je € 2, cena čaja pa € 3.\")\n",
    "\"Cena kave je 2 €, cena čaja pa 3 €.\"\n",
    ">>> enote_na_konec(\"$ 1 = € 1 se mi ne zdi pošten menjalni tečaj.\")\n",
    "\"1 $ = 1 € se mi ne zdi pošten menjalni tečaj.\"\n",
    "```"
   ]
  },
  {
   "cell_type": "code",
   "execution_count": null,
   "metadata": {
    "metadata": {}
   },
   "outputs": [],
   "source": []
  },
  {
   "cell_type": "code",
   "execution_count": null,
   "metadata": {
    "metadata": {}
   },
   "outputs": [],
   "source": []
  },
  {
   "cell_type": "markdown",
   "metadata": {},
   "source": [
    "### Regularni izrazi in pandas\n",
    "\n"
   ]
  },
  {
   "cell_type": "markdown",
   "metadata": {},
   "source": [
    "2. V datoteki [`besedilo.txt`](https://kt.ijs.si/~ljupco/lectures/papvp-2324/besedilo.txt) je izbrano besedilo iz slovenske različice enciklopedije Wikipedia. S pomočjo funkcij iz prejšnje naloge v `pandas` sestavi tabelo `besede` s tremi spremenljivkami: \n",
    "* dimenzijsko spremenljivko `beseda`, katere domena je množica vseh različnih besed iz besedila v datoteki `besedilo.txt`, \n",
    "* merjeni spremenljivki `n_samoglasnikov` in `n_soglasnikov`, ki podajata število samoglasnikov in soglasnikov v izbrani besedi."
   ]
  },
  {
   "cell_type": "code",
   "execution_count": null,
   "metadata": {
    "metadata": {}
   },
   "outputs": [],
   "source": []
  },
  {
   "cell_type": "code",
   "execution_count": null,
   "metadata": {
    "metadata": {}
   },
   "outputs": [],
   "source": []
  },
  {
   "cell_type": "markdown",
   "metadata": {},
   "source": [
    "## Zajem in urejanje podatkov s spleta"
   ]
  },
  {
   "cell_type": "markdown",
   "metadata": {},
   "source": [
    "### Branje HTML tabel"
   ]
  },
  {
   "cell_type": "markdown",
   "metadata": {},
   "source": [
    "Prenesi podatke o igralcih, ki so bili za isto vlogo nominirani dvakrat s spletne strani [British Academy Film Awards](https://en.wikipedia.org/wiki/British_Academy_Film_Awards) na Wikipediji.\n",
    "\n",
    "Pomagaj si s funkcijo `pd.read_html`"
   ]
  },
  {
   "cell_type": "code",
   "execution_count": null,
   "metadata": {
    "metadata": {}
   },
   "outputs": [],
   "source": []
  },
  {
   "cell_type": "markdown",
   "metadata": {},
   "source": [
    "V stolpcu `\"Category\"` se nahaja podatek o spolu in vlogi nominiranca. Pripravi regularni izraz in s pomočjo funkcije [`extract`](https://pandas.pydata.org/docs/reference/api/pandas.Series.str.extract.html) ustvari nova stolpca `spol` in `vloga`."
   ]
  },
  {
   "cell_type": "code",
   "execution_count": null,
   "metadata": {
    "metadata": {}
   },
   "outputs": [],
   "source": []
  },
  {
   "cell_type": "markdown",
   "metadata": {},
   "source": [
    "Podobno stolpec `\"Year (Ceremony)\"` razdeli v stolpca `leto` in `izvedba` (predstavlja zaporedno številko izvedbe brez končnic \"th\", \"nd\", \"rd\")."
   ]
  },
  {
   "cell_type": "code",
   "execution_count": null,
   "metadata": {
    "metadata": {}
   },
   "outputs": [],
   "source": []
  },
  {
   "cell_type": "markdown",
   "metadata": {},
   "source": [
    "Stolpca \"Category\" in \"Year (Ceremony)\" odstrani iz tabele. Stolpce \"Actor/Actress\", \"Film\" in \"Result\" preimenuj v \"igralec\", \"film\", \"izid\"."
   ]
  },
  {
   "cell_type": "code",
   "execution_count": null,
   "metadata": {},
   "outputs": [],
   "source": []
  },
  {
   "cell_type": "markdown",
   "metadata": {},
   "source": [
    "Vrednost \"Actor\" spremeni v \"M\", vrednost \"Actress\" pa v \"Ž\"."
   ]
  },
  {
   "cell_type": "code",
   "execution_count": null,
   "metadata": {},
   "outputs": [],
   "source": []
  },
  {
   "cell_type": "markdown",
   "metadata": {},
   "source": [
    "Poskrbi, da bodo stolpci ustreznih tipov:\n",
    "\n",
    "* leto - število\n",
    "* izvedba - število\n",
    "* spol - kategorija\n",
    "* vloga - kategorija"
   ]
  },
  {
   "cell_type": "code",
   "execution_count": null,
   "metadata": {},
   "outputs": [],
   "source": []
  },
  {
   "cell_type": "markdown",
   "metadata": {},
   "source": [
    "Stolpce razvrsti v smiselno zaporedje in uredi po letih naraščajoče (če še niso)."
   ]
  },
  {
   "cell_type": "code",
   "execution_count": null,
   "metadata": {},
   "outputs": [],
   "source": []
  },
  {
   "cell_type": "markdown",
   "metadata": {},
   "source": [
    "## Naloge"
   ]
  },
  {
   "cell_type": "markdown",
   "metadata": {},
   "source": [
    "### 1. Naloga\n",
    "\n",
    "Iz datoteke [`enaslovi.txt`](https://kt.ijs.si/~ljupco/lectures/papvp-2324/enaslovi.txt) preberi naslove e-pošte osmih (namišljenih) sodelavcev Univerze v Ljubljani. Uvozi te podatke in iz njih, v `pandas` sestavi podatkovno tabelo s štirimi stolpci (spremenljivkami): ime, priimek, fakulteta in enaslov.\n",
    "\n",
    "Pri tem upoštevaj, da so naslovi e-pošte na Univerzi v Ljubljani sestavljeni po naslednjem vzorcu `ime.priimek@kratica.uni-lj.si`, pri čemer `ime` in `priimek` očitno ustrezata imenu in priimku sodelavca, `kratica` pa kratici fakultete, kjer je zaposlen. Lahko si pomagaš s tabelo nazivov in kratic fakultet, ki ste jo sestavili med predavanji (ali pa jo, še bolje, za vajo ponovno sestaviš sam)."
   ]
  },
  {
   "cell_type": "code",
   "execution_count": null,
   "metadata": {
    "metadata": {}
   },
   "outputs": [],
   "source": []
  },
  {
   "cell_type": "markdown",
   "metadata": {},
   "source": [
    "### 2. naloga: Obične po statistinih regijah\n",
    "V članku [Statistične regije Slovenije](https://sl.wikipedia.org/wiki/Statisti%C4%8Dne_regije_Slovenije) v slovenski različici spletne enciklopedije Wikipedia je poglavje _Občine po statističnih regijah_, ki podaja sezname občin za vsako izmed dvanajstih statističnih regij v Sloveniji.\n",
    "    \n",
    "Napiši program v `pandas`, ki iz podatkov v tem članku sestavi urejeno podatkovno tabelo `obcina_regija` z dimenzijsko spremenljivko `obcina` in merjeno spremenljivko `regija`, ki določi regijo izbrane občine v Sloveniji.\n"
   ]
  },
  {
   "cell_type": "code",
   "execution_count": null,
   "metadata": {
    "metadata": {}
   },
   "outputs": [],
   "source": []
  },
  {
   "cell_type": "markdown",
   "metadata": {},
   "source": [
    "2. Iz članka omenjenega v prejšnji nalogi uvozi v Python podatkovno tabelo (glej poglavje _Statistične regije_ v tem članku), ki za vsako izmed dvanajstih statističnih regij poda število prebivalcev in površino v kvadratnih kilometrih. Podatke ustrezno prečisti in nastavi podatkovne tipe."
   ]
  },
  {
   "cell_type": "code",
   "execution_count": null,
   "metadata": {
    "metadata": {}
   },
   "outputs": [],
   "source": []
  },
  {
   "cell_type": "markdown",
   "metadata": {},
   "source": [
    "### 3. Naloga: GDP po svetu\n",
    "Uvozi tabelo s podatki o nominalnem družbenem proizvodu v različnih državah iz [članka](https://en.wikipedia.org/wiki/List_of_countries_by_GDP_(nominal)). \n",
    "\n",
    "Podatkovna tabela naj ima štiri stolpce (spremenljivke): \n",
    "* `drzava`\n",
    "* `celina`\n",
    "* `leto`\n",
    "* `bdp` \n",
    "\n",
    "Pri uvozu podatkov pazi na to, da bodo podatki ustrezno očiščeni in urejeni ter tipi posameznih spremenljivk pravilno nastavljeni."
   ]
  },
  {
   "cell_type": "code",
   "execution_count": null,
   "metadata": {
    "metadata": {}
   },
   "outputs": [],
   "source": []
  }
 ],
 "metadata": {
  "kernelspec": {
   "display_name": ".venv",
   "language": "python",
   "name": "python3"
  },
  "language_info": {
   "codemirror_mode": {
    "name": "ipython",
    "version": 3
   },
   "file_extension": ".py",
   "mimetype": "text/x-python",
   "name": "python",
   "nbconvert_exporter": "python",
   "pygments_lexer": "ipython3",
   "version": "3.12.2"
  }
 },
 "nbformat": 4,
 "nbformat_minor": 2
}
