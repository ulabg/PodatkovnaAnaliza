{
 "cells": [
  {
   "cell_type": "code",
   "execution_count": 1,
   "metadata": {
    "metadata": {}
   },
   "outputs": [],
   "source": [
    "# uvoz modulov"
   ]
  },
  {
   "cell_type": "markdown",
   "metadata": {},
   "source": [
    "# Podatkovne tabele in poravnava indeksov"
   ]
  },
  {
   "cell_type": "markdown",
   "metadata": {},
   "source": [
    "## Poravnava indeksov"
   ]
  },
  {
   "cell_type": "markdown",
   "metadata": {},
   "source": [
    "### Kdaj imamo lahko težave s poravnavo indeksov?\n",
    "\n",
    "1. Sestavi zaporedje kvadratov `kvadrati` naravnih števil od 0 do 20. Izračunati želimo zaporedje razlik : $x_1 - x_0$, $x_2 - x_1$, ...., $x_{20} - x_{19}$.\n",
    "2. Ustvari novo zaporedje, ki je sestavljeno iz kvadratov, zamaknjenih za ena \"navzgor\" - poravnati želimo 0 z 1, 1 s 4, 4 z 9, ...\n",
    "3. Ustvari podatkovno tabelo iz obeh zaporedij. \n",
    "4. Dodaš nov stolpec z razlikami, kot je opisano zgoraj. \n",
    "\n",
    "Preveri rezultat in razmisli: smo dobili pričakovani rezultat in zakaj (ne)? Kaj se zgodi s podatkovnim tipom zamaknjenega stolpca in zakaj?"
   ]
  },
  {
   "cell_type": "code",
   "execution_count": 5,
   "metadata": {
    "metadata": {}
   },
   "outputs": [
    {
     "name": "stdout",
     "output_type": "stream",
     "text": [
      "[0, 1, 4, 9, 16, 25, 36, 49, 64, 81, 100, 121, 144, 169, 196, 225, 256, 289, 324, 361, 400]\n",
      "[1, 3, 5, 7, 9, 11, 13, 15, 17, 19, 21, 23, 25, 27, 29, 31, 33, 35, 37, 39]\n",
      "[None, 0, 1, 4, 9, 16, 25, 36, 49, 64, 81, 100, 121, 144, 169, 196, 225, 256, 289, 324, 361]\n",
      "    Kvadrati  Zamaknjeni_kvadrati  Razlike\n",
      "0          0                  NaN      NaN\n",
      "1          1                  0.0      1.0\n",
      "2          4                  1.0      3.0\n",
      "3          9                  4.0      5.0\n",
      "4         16                  9.0      7.0\n",
      "5         25                 16.0      9.0\n",
      "6         36                 25.0     11.0\n",
      "7         49                 36.0     13.0\n",
      "8         64                 49.0     15.0\n",
      "9         81                 64.0     17.0\n",
      "10       100                 81.0     19.0\n",
      "11       121                100.0     21.0\n",
      "12       144                121.0     23.0\n",
      "13       169                144.0     25.0\n",
      "14       196                169.0     27.0\n",
      "15       225                196.0     29.0\n",
      "16       256                225.0     31.0\n",
      "17       289                256.0     33.0\n",
      "18       324                289.0     35.0\n",
      "19       361                324.0     37.0\n",
      "20       400                361.0     39.0\n"
     ]
    }
   ],
   "source": [
    "import pandas as pd\n",
    "\n",
    "#1.zaporedje kvadratov naravnih števil.\n",
    "#Izračunamo zaporedje razlik\n",
    "kvadrati = [x**2 for x in range(21)]\n",
    "razlike = [kvadrati[i] - kvadrati[i-1] for i in range(1,len(kvadrati))]\n",
    "print(kvadrati)\n",
    "print(razlike)\n",
    "\n",
    "#2.novo zaporedje sestavljeno iz kvadratov, zamaknjenih za ena navzgor.\n",
    "zamaknjeni_kvadrati = [None] + kvadrati[:-1]\n",
    "print(zamaknjeni_kvadrati)\n",
    "\n",
    "#3.ustvarimo podatkovno tabelo\n",
    "tabela = pd.DataFrame({'Kvadrati': kvadrati, \n",
    "                       'Zamaknjeni_kvadrati': zamaknjeni_kvadrati,\n",
    "                       'Razlike': [None] + razlike\n",
    "})\n",
    "print(tabela)\n"
   ]
  },
  {
   "cell_type": "markdown",
   "metadata": {},
   "source": [
    "5. Popravi indekse drugega (zamaknjenega) zaporedja, da bo število 1 na ničtem indeksu, 4 na prvem, 9 na drugem, ...\n",
    "6. Ponovno ustvari tabelo in izračunaj razlike. (Vsi elementi morajo biti večji od nič).\n",
    "7. Izpiši podatkovno tabelo z vsemi tremi stolpci."
   ]
  },
  {
   "cell_type": "code",
   "execution_count": null,
   "metadata": {
    "metadata": {}
   },
   "outputs": [],
   "source": [
    "#5.Poprava indeksov zamaknjenega zaporedja\n"
   ]
  },
  {
   "cell_type": "markdown",
   "metadata": {},
   "source": [
    "### Kako združiti zaporedja?\n",
    "\n",
    "Dani so podatki o študentih, ki so vpisani v predmet ter ocenah prvega izpitnega roka:\n",
    "\n",
    "* seznam `sez_studenti` vsebuje pare oblike `(<vpisna številka>, <ime>)`, \n",
    "* seznam `sez_ocene` vsebuje pare oblike `(<vpisna številka>, <ocena>)`."
   ]
  },
  {
   "cell_type": "code",
   "execution_count": 4,
   "metadata": {
    "metadata": {}
   },
   "outputs": [],
   "source": [
    "sez_studenti = [(\"124174\", \"Maja\"), (\"223974\", \"Tilen\"), (\"341842\", \"Petra\"), (\"418623\", \"Blaž\"), (\"527421\", \"Katja\"), (\"620516\", \"Benjamin\"), (\"729516\", \"Urban\"), (\"828651\", \"Pija\")]\n",
    "sez_ocene = [(\"124174\", 5), (\"341842\", 7), (\"527421\", 10), (\"729516\", 9), (\"418623\", 8), (\"915715\", 6), (\"014153\", 7)]"
   ]
  },
  {
   "cell_type": "markdown",
   "metadata": {},
   "source": [
    "Ustvari zaporedji `studenti` ter `ocene`, ki imata za indeks vpisno številko:"
   ]
  },
  {
   "cell_type": "code",
   "execution_count": 5,
   "metadata": {
    "metadata": {}
   },
   "outputs": [],
   "source": []
  },
  {
   "cell_type": "markdown",
   "metadata": {},
   "source": [
    "Ustvari podatkovno tabelo `rezultati_1` s stolpcema `student` in `ocena`. Kako `pandas` združi stolpca v isto tabelo?"
   ]
  },
  {
   "cell_type": "code",
   "execution_count": null,
   "metadata": {
    "metadata": {}
   },
   "outputs": [],
   "source": []
  },
  {
   "cell_type": "markdown",
   "metadata": {},
   "source": [
    "V tabeli `rezultati_2` združi zaporedji tako, da bodo v njej le študenti, ki so vpisani v predmet:\n",
    "<details><summary>Namig</summary>\n",
    "Oglej si, kako deluje metoda <code>align</code>.\n",
    "</details>"
   ]
  },
  {
   "cell_type": "code",
   "execution_count": null,
   "metadata": {
    "metadata": {}
   },
   "outputs": [],
   "source": []
  },
  {
   "cell_type": "markdown",
   "metadata": {},
   "source": [
    "V tabeli `rezultati_3` združi zaporedji tako, da bodo v njej le študenti, ki so pisali prvi izpit:"
   ]
  },
  {
   "cell_type": "code",
   "execution_count": null,
   "metadata": {
    "metadata": {}
   },
   "outputs": [],
   "source": []
  },
  {
   "cell_type": "markdown",
   "metadata": {},
   "source": [
    "V tabeli `rezultati_4` združi zaporedji tako, da bodo v njej le študenti, ki so vpisani v predmet in so pisali prvi izpit:"
   ]
  },
  {
   "cell_type": "code",
   "execution_count": null,
   "metadata": {
    "metadata": {}
   },
   "outputs": [],
   "source": []
  },
  {
   "cell_type": "markdown",
   "metadata": {},
   "source": [
    "### Še en primer"
   ]
  },
  {
   "cell_type": "markdown",
   "metadata": {},
   "source": [
    "Dane so meritve temperature zraka in višine vode v Kopru 29. oktobra med 6. in 12. uro. Temperatura je merjena vsako polno uro (tj. ob 6:00, 7:00, ...), višina vodostaja pa 10, 30 in 50 minut čez polno uro (tj. 6:10, 6:30, 6:50, 7:10, ...). "
   ]
  },
  {
   "cell_type": "code",
   "execution_count": 118,
   "metadata": {
    "metadata": {}
   },
   "outputs": [],
   "source": [
    "sez_temp = [12, 11.8, 13.4, 15.9, 18.6, 18.7, 19.5]\n",
    "sez_voda = [252, 257, 260, 262, 262, 261, 259, 258, 256, 252, 249, 244, 238, 233, 226, 218, 210, 203]"
   ]
  },
  {
   "cell_type": "markdown",
   "metadata": {},
   "source": [
    "Sestavi časovni vrsti `indeks_temp` in `indeks_voda`, ki vsebujeta čase meritev temperature in vode. Nato ustvari zaporedji temperatur in višine vodostaja ter jima nastavi ustrezna indeksa.\n",
    "\n",
    "<details><summary>Ne veš kako se lotiti?</summary>\n",
    "Pri tem si lahko pomagaš z indeksiranjem časovnega obdobja (angl. date range), lahko pa se poglobiš v <a href=\"https://pandas.pydata.org/pandas-docs/stable/user_guide/timeseries.html#combining-aliases\">dokumentacijo</a> in poiščeš pomoč za ustvarjanje časovnih točk v poljubnih intervalih.\n",
    "</details>"
   ]
  },
  {
   "cell_type": "code",
   "execution_count": 126,
   "metadata": {
    "metadata": {}
   },
   "outputs": [],
   "source": []
  },
  {
   "cell_type": "markdown",
   "metadata": {},
   "source": [
    "Na podlagi zaporedij ustvari tabelo s stolpcema `temperature` in `visine`, ki ima za indeks časovne točke.\n",
    "\n",
    "Kako izgleda dobljena tabela?"
   ]
  },
  {
   "cell_type": "code",
   "execution_count": null,
   "metadata": {
    "metadata": {}
   },
   "outputs": [],
   "source": []
  },
  {
   "cell_type": "markdown",
   "metadata": {},
   "source": [
    "Zaporedji poravnaj tako, da zaporedju temperatur nastaviš indeks zaporedja voda. \n",
    "\n",
    "<details><summary>Namig</summary>Oglej si delovanje metode <code>reindex</code>.</details>\n",
    "\n",
    "Ponovno ju združi v tabelo, podobno tisti zgoraj. Kaj opaziš? Katere podatke obdržimo in kakšne so vrednosti obeh stolpcev? "
   ]
  },
  {
   "cell_type": "code",
   "execution_count": null,
   "metadata": {
    "metadata": {}
   },
   "outputs": [],
   "source": []
  },
  {
   "cell_type": "markdown",
   "metadata": {},
   "source": [
    "Zaporedji sedaj poravnaj tako, da zaporedju višin vode nastaviš indeks zaporedja temperatur. Dobimo isti nabor podatkov?\n",
    "\n",
    "Naštej in preizkusi različne načine obravnave/zamenjave manjkajočih vrednosti. Kakšne so razlike?"
   ]
  },
  {
   "cell_type": "code",
   "execution_count": null,
   "metadata": {
    "metadata": {}
   },
   "outputs": [],
   "source": []
  },
  {
   "cell_type": "markdown",
   "metadata": {},
   "source": [
    "## Naloge iz podatkovnih tabel"
   ]
  },
  {
   "cell_type": "markdown",
   "metadata": {},
   "source": [
    "### 1. naloga: ITM\n",
    "\n",
    "Iz zaporedij pri nalogi ITM, izračunanih na drugih vajah, sestavi podatkovno tabelo s štirimi stolpci, `ime`, `visina`, `teza` in `ITM`. Spremeni imena vrstic tako, da ustrezajo imenom oseb in nato zbriši stolpec ime. Indeksiraj dobljeno tabelo tako, da dobiš imena oseb, ki imajo ITM manj kot 26."
   ]
  },
  {
   "cell_type": "code",
   "execution_count": null,
   "metadata": {
    "metadata": {}
   },
   "outputs": [],
   "source": []
  },
  {
   "cell_type": "markdown",
   "metadata": {},
   "source": [
    "### 2. naloga: naključna zaporedja\n",
    "Ustvari dve zaporedji `x` in `y` dolžine 250 tako, da s ponavljanjem naključno izbiraš naravna števila iz intervala $[0, 999]$. Označimo z $x_1, x_2, \\ldots, x_{250}$ in $y_1, y_2, \\ldots, y_{250}$ elemente zaporedij `x` in `y`. Izračunaj:\n",
    "\n",
    "* Zaporedje z elementi $y_2 - x_1, y_3 - x_2, \\ldots, y_{250} - x_{249}$.\n",
    "* Vsoto $\\sum_{i=1}^{249} e^{- x_{i+1}} / (x_i + 10)$.\n"
   ]
  },
  {
   "cell_type": "code",
   "execution_count": 10,
   "metadata": {
    "metadata": {}
   },
   "outputs": [],
   "source": []
  },
  {
   "cell_type": "markdown",
   "metadata": {},
   "source": [
    "### 3. naloga - temperature - 1. del\n",
    "\n",
    "Dana je podatkovna tabela `temperature` s podatki o povprečni dnevni temperaturi zraka (v Celzijevih stopinjah) v Ljubljani v obdobju od začetka leta 2010 do konca 2019."
   ]
  },
  {
   "cell_type": "code",
   "execution_count": 15,
   "metadata": {
    "metadata": {}
   },
   "outputs": [],
   "source": [
    "temperature = pd.read_csv(\"https://kt.ijs.si/~ljupco/lectures/papvp-2324/temp-lj-2010-2019.csv\")"
   ]
  },
  {
   "cell_type": "markdown",
   "metadata": {},
   "source": [
    "* Iz podatkovne tabele sestavi zaporedje `temp_lj`, kjer so indeksi datumi v opazovanem obdobju in vrednost elementa enaka povprečni temperaturi na ustrezen datum.\n",
    "    * preveri pogostost (angl. _resolution_) indeksa (pričakujemo rezultat `\"day\"`)\n",
    "    * temperaturo na božič 2015 (25. december)\n",
    "    * izpiši temperature v juniju 2010\n",
    "    * izpiši temperature med 19. decembrom 2012 in 3. januarjem 2013\n",
    "* Z indeksiranjem zaporedja `temp_lj` sestavi novo zaporedje `temp_lj_petek` povprečnih temperatur ob petkih.\n",
    "* Z indeksiranjem zaporedja `temp_lj` sestavi novo zaporedje `temp_lj_13` povprečnih temperatur za vsak datum, kjer je dan v mesecu enak 13.\n",
    "* S poravnavo zaporedij `temp_lj_petek` in `temp_lj_13` sestavi novo zaporedje `temp_lj_petek_13` s povprečnimi temperaturami za vsak petek trinajstega v opazovanem obdobju.\n",
    "* Z indeksiranjem zaporedja `temp_lj_petek_13` izpiši datuma za najbolj vroč in najbolj hladen petek trinajstega.\n",
    "* Izračunaj povprečno temperaturo za datume, ki padejo na petek trinajstega v opazovanem obdobju."
   ]
  },
  {
   "cell_type": "markdown",
   "metadata": {},
   "source": [
    "### 4. naloga - temperature - 2. del\n",
    "\n",
    "Uporabi **tabelo** `temperature` iz prejšnje naloge. Stolpec `datum` popravi, da bo tipa `datetime`.\n",
    "\n",
    "* Izpiši datume najbolj vročih in najbolj hladnih dni v opazovanem obdobju.\n",
    "* Izpiši datume s temperaturo, ki ne odstopa za več kot eno stopinjo Celzija od povprečne temperature v tem obdobju.\n",
    "* Sestavi funkcijo, ki za podano leto in mesec vrne povprečno temperaturo zraka.\n",
    "* Z uporabo te funkcije sestavi zaporedje povprečnih temperatur po mesecih (zaporedje naj vsebuje eno vrstico za vsak mesec vsakega leta).\n",
    "    <details><summary>Namig</summary>\n",
    "    Preveri, kako deluje metoda <a href=\"https://pandas.pydata.org/docs/reference/api/pandas.Series.apply.html\"><code>apply</code></a> na podatkovnih zaporedjih in okvirjih. Kako bi dobil vse mesece in leta v izbranem obdobju?\n",
    "    </details>\n",
    "* Izpiši mesece, ko je bila povprečna temperatura najvišja oziroma najnižja."
   ]
  }
 ],
 "metadata": {
  "kernelspec": {
   "display_name": "venv",
   "language": "python",
   "name": "python3"
  },
  "language_info": {
   "codemirror_mode": {
    "name": "ipython",
    "version": 3
   },
   "file_extension": ".py",
   "mimetype": "text/x-python",
   "name": "python",
   "nbconvert_exporter": "python",
   "pygments_lexer": "ipython3",
   "version": "3.12.2"
  }
 },
 "nbformat": 4,
 "nbformat_minor": 2
}
