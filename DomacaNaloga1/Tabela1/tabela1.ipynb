{
 "cells": [
  {
   "cell_type": "code",
   "execution_count": null,
   "metadata": {},
   "outputs": [],
   "source": [
    "import pandas as pd\n",
    "import requests\n",
    "from bs4 import BeautifulSoup\n",
    "import re\n",
    "\n",
    "url = 'https://kt.ijs.si/~ljupco/lectures/papvp-2425/podatkovni-viri/List%20of%20countries%20and%20dependencies%20and%20their%20capitals%20in%20native%20languages%20-%20Wikipedia.html'\n",
    "\n",
    "povezava = requests.get(url)\n",
    "spletna_stran = BeautifulSoup(povezava.content, 'html.parser') #prenos HTML vsebine s spletne strani\n",
    "\n",
    "tabele = spletna_stran.find_all('table', {'class': 'wikitable'}) #iskanje vseh tabel na strani z razredom 'wikitable'\n",
    "\n",
    "seznami_podatkov = [pd.read_html(str(tabela))[0] for tabela in tabele] # pretvorba vsake tabele v Pandas DataFramež\n",
    "\n",
    "zdruzena_tabela = pd.concat(seznami_podatkov, ignore_index=True)\n",
    "print(zdruzena_tabela)\n",
    "\n",
    "\n",
    "nova_tabela = zdruzena_tabela[['Country (exonym)', 'Capital (exonym)']].copy()\n",
    "nova_tabela.columns = ['drzava', 'ime']\n",
    "\n",
    "# Funkcija za čiščenje držav\n",
    "def ocisti_drzavo(drzava):\n",
    "    if isinstance(drzava, str):  # Preverimo, če je vrednost niz (string)\n",
    "        drzava = re.sub(r'\\[.*?\\]', '', drzava)  # Odstrani oglati oklepaji\n",
    "        drzava = re.sub(r'\\(.*?\\)', '', drzava)  # Odstrani okrogli oklepaji\n",
    "        return drzava.strip()  # Odstrani odvečne presledke\n",
    "    return drzava  # Če je NaN, pustimo nespremenjeno\n",
    "\n",
    "# Funkcija za čiščenje glavnih mest\n",
    "def ocisti_mesto(mesto):\n",
    "    if isinstance(mesto, str):  # Preverimo, če je niz (string)\n",
    "        mesto = re.split(r'\\(|\\[', mesto)[0]  # Odstrani vse za prvim oklepajem (okrogel ali oglati)\n",
    "        return mesto.strip()  # Odstrani odvečne presledke\n",
    "    return mesto\n",
    "    \n",
    "# Uporaba funkcij za čiščenje\n",
    "nova_tabela['drzava'] = nova_tabela['drzava'].apply(ocisti_drzavo)\n",
    "nova_tabela['ime'] = nova_tabela['ime'].apply(ocisti_mesto)\n",
    "print(nova_tabela)\n",
    "\n",
    "# v csv \n",
    "glavna_mesta = \"drzave_in_glavna_mesta.csv\"\n",
    "nova_tabela.to_csv(glavna_mesta, index=False)\n",
    "print(f\"Podatki so shranjeni v datoteko: {glavna_mesta}\")"
   ]
  }
 ],
 "metadata": {
  "kernelspec": {
   "display_name": "venv",
   "language": "python",
   "name": "python3"
  },
  "language_info": {
   "name": "python",
   "version": "3.12.2"
  }
 },
 "nbformat": 4,
 "nbformat_minor": 2
}
