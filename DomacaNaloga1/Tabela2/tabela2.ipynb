{
 "cells": [
  {
   "cell_type": "code",
   "execution_count": 28,
   "metadata": {},
   "outputs": [],
   "source": [
    "import pandas as pd\n",
    "\n",
    "vhod = \"https://kt.ijs.si/~ljupco/lectures/papvp-2425/podatkovni-viri/SYB61_253_Population%20Growth%20Rates%20in%20Urban%20areas%20and%20Capital%20cities.csv\"\n",
    "\n",
    "# Branje CSV datoteke\n",
    "podatki = pd.read_csv(vhod)\n",
    "\n",
    "#odstranimo header vrstico\n",
    "tabela = podatki.iloc[1:]\n",
    "\n",
    "#nastavimo stolpce\n",
    "tabela.columns = podatki.iloc[0]\n",
    "\n",
    "tabela = tabela.reset_index(drop=True)\n",
    "\n",
    "tabela.rename(columns={\n",
    "    'Year': 'leto',\n",
    "    'Series': 'spremenljivka',\n",
    "    'Value': 'vrednost'},\n",
    "    inplace=True)\n",
    "\n",
    "tabela = tabela.rename(columns={tabela.columns[1]: 'enota'})\n",
    "\n",
    "koncna_tabela = tabela[tabela['spremenljivka'] != 'Rural population (percent growth rate per annum)']\n",
    "koncna_tabela = koncna_tabela[koncna_tabela['spremenljivka'] != 'Urban population (percent growth rate per annum)']\n",
    "koncna_tabela = koncna_tabela[koncna_tabela['spremenljivka'] != 'Capital city population (as a percentage of total urban population)']\n",
    "\n",
    "populacija_koncna = pd.DataFrame(koncna_tabela, columns=['enota', 'leto','spremenljivka','vrednost'])\n",
    "populacija_koncna = populacija_koncna.iloc[4:]\n",
    "populacija_koncna = populacija_koncna.reset_index(drop=True)\n",
    "populacija_koncna['vrednost'] = populacija_koncna['vrednost'].fillna(0)\n",
    "populacija_koncna.to_csv('populacija.csv', index=False)\n"
   ]
  }
 ],
 "metadata": {
  "kernelspec": {
   "display_name": "venv",
   "language": "python",
   "name": "python3"
  },
  "language_info": {
   "codemirror_mode": {
    "name": "ipython",
    "version": 3
   },
   "file_extension": ".py",
   "mimetype": "text/x-python",
   "name": "python",
   "nbconvert_exporter": "python",
   "pygments_lexer": "ipython3",
   "version": "3.12.2"
  }
 },
 "nbformat": 4,
 "nbformat_minor": 2
}
