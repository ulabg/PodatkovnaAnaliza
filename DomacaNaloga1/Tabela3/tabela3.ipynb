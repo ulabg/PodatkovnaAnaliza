{
 "cells": [
  {
   "cell_type": "code",
   "execution_count": 32,
   "metadata": {},
   "outputs": [
    {
     "name": "stdout",
     "output_type": "stream",
     "text": [
      "Najdene tabele: 2\n",
      "                   Film  Year Awards Nominations\n",
      "0           Oppenheimer  2023      7          13\n",
      "1           Poor Things  2023      4          11\n",
      "2  The Zone of Interest  2023      2           5\n",
      "3      American Fiction  2023      1           5\n",
      "4     Anatomy of a Fall  2023      1           5\n",
      "Tabela je bila uspešno shranjena kot academy_awards_filtered.csv\n"
     ]
    }
   ],
   "source": [
    "import pandas as pd\n",
    "\n",
    "# URL do Wikipedije\n",
    "url = \"https://en.wikipedia.org/wiki/List_of_Academy_Award%E2%80%93winning_films\"\n",
    "\n",
    "# Branje tabel iz URL-ja\n",
    "tables = pd.read_html(url)\n",
    "\n",
    "# Preverjanje števila tabel\n",
    "print(f\"Najdene tabele: {len(tables)}\")\n",
    "\n",
    "# Izbor želene tabele (privzeto je prva tabela prava)\n",
    "awards_table = tables[0]\n",
    "\n",
    "# Prikaz prvih vrstic za pregled\n",
    "print(awards_table.head())\n",
    "\n",
    "# Preimenovanje stolpcev za boljšo berljivost\n",
    "awards_table.columns = [\n",
    "    \"naslov\",\n",
    "    \"leto\",\n",
    "    \"awards_won\",\n",
    "    \"awards_nominated\"\n",
    "]\n",
    "\n",
    "# Odstranitev morebitnih praznih vrstic\n",
    "awards_table = awards_table.dropna()\n",
    "\n",
    "# Pretvorba leta v prvo število pred znakom '/'\n",
    "awards_table[\"leto\"] = awards_table[\"leto\"].str.split('/').str[0]\n",
    "\n",
    "# Čiščenje podatkov v stolpcih \"awards_won\" in \"awards_nominated\"\n",
    "awards_table[\"awards_won\"] = awards_table[\"awards_won\"].str.extract(r\"(\\d+)\").astype(int)\n",
    "awards_table[\"awards_nominated\"] = awards_table[\"awards_nominated\"].str.extract(r\"(\\d+)\").astype(int)\n",
    "\n",
    "# Priprava tabele z razdeljenimi vrsticami\n",
    "expanded_rows = []\n",
    "for _, row in awards_table.iterrows():\n",
    "    won = row[\"awards_won\"]\n",
    "    nominated = row[\"awards_nominated\"]\n",
    "    not_won = nominated - won\n",
    "    # Dodaj vrstico za FALSE (kolikokrat ni zmagal)\n",
    "    expanded_rows.append([row[\"naslov\"], row[\"leto\"], \"FALSE\", not_won])\n",
    "    # Dodaj vrstico za TRUE (kolikokrat je zmagal)\n",
    "    expanded_rows.append([row[\"naslov\"], row[\"leto\"], \"TRUE\", won])\n",
    "\n",
    "# Ustvarjanje nove tabele\n",
    "final_table = pd.DataFrame(expanded_rows, columns=[\"naslov\", \"leto\", \"oskar\", \"stevilo\"])\n",
    "\n",
    "# Odstranitev filmov, kjer so vse nominacije in zmage enake 0\n",
    "final_table = final_table.groupby(\"naslov\").filter(lambda x: not (x[\"stevilo\"].sum() == 0))\n",
    "\n",
    "# Izvoz v CSV\n",
    "destination_csv = \"academy_awards_filtered.csv\"\n",
    "final_table.to_csv(destination_csv, index=False)\n",
    "\n",
    "print(f\"Tabela je bila uspešno shranjena kot {destination_csv}\")"
   ]
  }
 ],
 "metadata": {
  "kernelspec": {
   "display_name": "venv",
   "language": "python",
   "name": "python3"
  },
  "language_info": {
   "codemirror_mode": {
    "name": "ipython",
    "version": 3
   },
   "file_extension": ".py",
   "mimetype": "text/x-python",
   "name": "python",
   "nbconvert_exporter": "python",
   "pygments_lexer": "ipython3",
   "version": "3.12.2"
  }
 },
 "nbformat": 4,
 "nbformat_minor": 2
}
